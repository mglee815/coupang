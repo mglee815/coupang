{
 "cells": [
  {
   "cell_type": "code",
   "execution_count": 1,
   "id": "dbaebb03-5aa3-4a52-a145-7492c59491b9",
   "metadata": {},
   "outputs": [
    {
     "data": {
      "text/plain": [
       "[('춘식이', 'Noun'), ('최고다', 'Noun')]"
      ]
     },
     "execution_count": 1,
     "metadata": {},
     "output_type": "execute_result"
    }
   ],
   "source": [
    "import konlpy\n",
    "from konlpy.tag import Okt\n",
    "from sklearn.feature_extraction.text import CountVectorizer\n",
    "\n",
    "tagger = Okt()\n",
    "cv = CountVectorizer()\n",
    "tagger.pos('춘식이 최고다', stem=True)"
   ]
  },
  {
   "cell_type": "markdown",
   "id": "9bd801c0-9c29-4397-be89-898f0f3dc173",
   "metadata": {
    "tags": []
   },
   "source": [
    "처음에 konlpy 경로 확인!\n",
    "Location에 있는 경로를 복사해서 path 변수에 할당"
   ]
  },
  {
   "cell_type": "code",
   "execution_count": 1,
   "id": "97fdcc3f-d1c7-45b5-8373-271c7f8bf7ad",
   "metadata": {},
   "outputs": [
    {
     "name": "stdout",
     "output_type": "stream",
     "text": [
      "\u001b[33mWARNING: Ignoring invalid distribution -weepy (/home/mglee/anaconda3/envs/save/lib/python3.8/site-packages)\u001b[0m\u001b[33m\n",
      "\u001b[0mName: konlpy\n",
      "Version: 0.5.2\n",
      "Summary: Python package for Korean natural language processing.\n",
      "Home-page: http://konlpy.org\n",
      "Author: Team KoNLPy\n",
      "Author-email: konlpy@googlegroups.com\n",
      "License: GPL v3\n",
      "Location: /home/mglee/anaconda3/envs/save/lib/python3.8/site-packages\n",
      "Requires: beautifulsoup4, colorama, JPype1, lxml, numpy, tweepy\n",
      "Required-by: \n"
     ]
    }
   ],
   "source": [
    "!pip show konlpy"
   ]
  },
  {
   "cell_type": "markdown",
   "id": "442ca92a-9830-4473-8ac6-c7669eafb069",
   "metadata": {},
   "source": [
    "위에 Location에 '/konlpy/java' 더해서 path 변수에 할당"
   ]
  },
  {
   "cell_type": "code",
   "execution_count": 2,
   "id": "18117177-41ae-4ec7-8bbd-eec7484e30ae",
   "metadata": {},
   "outputs": [],
   "source": [
    "path = '/home/mglee/anaconda3/envs/save/lib/python3.8/site-packages'+'/konlpy/java'"
   ]
  },
  {
   "cell_type": "markdown",
   "id": "72a6850c-0cae-4a09-a6d9-f1a7182be6af",
   "metadata": {},
   "source": [
    "konlpy의 java 폴더에 임시 폴더 'test' 생성"
   ]
  },
  {
   "cell_type": "code",
   "execution_count": 3,
   "id": "3854e1c2-5f31-4aaf-bc02-8ff9fcb95b22",
   "metadata": {
    "tags": []
   },
   "outputs": [],
   "source": [
    "import os\n",
    "\n",
    "os.chdir(path)\n",
    "os.getcwd() \n",
    "os.makedirs('./test')"
   ]
  },
  {
   "cell_type": "code",
   "execution_count": 4,
   "id": "fd1f1468-6bae-41ef-a4b7-f55ea4eed895",
   "metadata": {},
   "outputs": [
    {
     "data": {
      "text/plain": [
       "'/home/mglee/anaconda3/envs/save/lib/python3.8/site-packages/konlpy/java'"
      ]
     },
     "execution_count": 4,
     "metadata": {},
     "output_type": "execute_result"
    }
   ],
   "source": [
    "os.getcwd()"
   ]
  },
  {
   "cell_type": "markdown",
   "id": "157254a0-074c-4db4-bbd8-2336eac797ec",
   "metadata": {},
   "source": [
    "test 폴더에 open-korean-text-2.1.0.jar(기존 사전파일이 들어있는 폴더) 압축 해제!\n",
    "- 기존에 konlpy 에서 사용하는 사전을 수정하기 위해, 일단 사전의 복사본을 만들어서 복사본을 수정하고, 복사본을 원본 사전에 덮어씌우는 방식으로 진행"
   ]
  },
  {
   "cell_type": "code",
   "execution_count": 5,
   "id": "638261c4-859e-41d0-8cbb-683db856fa9b",
   "metadata": {
    "tags": []
   },
   "outputs": [
    {
     "name": "stdout",
     "output_type": "stream",
     "text": [
      "Archive:  open-korean-text-2.1.0.jar\n",
      "   creating: ./test/META-INF/\n",
      "  inflating: ./test/META-INF/MANIFEST.MF  \n",
      "   creating: ./test/org/\n",
      "   creating: ./test/org/openkoreantext/\n",
      "   creating: ./test/org/openkoreantext/processor/\n",
      "   creating: ./test/org/openkoreantext/processor/normalizer/\n",
      "   creating: ./test/org/openkoreantext/processor/phrase_extractor/\n",
      "   creating: ./test/org/openkoreantext/processor/qa/\n",
      "   creating: ./test/org/openkoreantext/processor/stemmer/\n",
      "   creating: ./test/org/openkoreantext/processor/tokenizer/\n",
      "   creating: ./test/org/openkoreantext/processor/tools/\n",
      "   creating: ./test/org/openkoreantext/processor/util/\n",
      "   creating: ./test/org/openkoreantext/processor/util/adjective/\n",
      "   creating: ./test/org/openkoreantext/processor/util/adverb/\n",
      "   creating: ./test/org/openkoreantext/processor/util/auxiliary/\n",
      "   creating: ./test/org/openkoreantext/processor/util/freq/\n",
      "   creating: ./test/org/openkoreantext/processor/util/josa/\n",
      "   creating: ./test/org/openkoreantext/processor/util/noun/\n",
      "   creating: ./test/org/openkoreantext/processor/util/substantives/\n",
      "   creating: ./test/org/openkoreantext/processor/util/typos/\n",
      "   creating: ./test/org/openkoreantext/processor/util/verb/\n",
      "  inflating: ./test/org/openkoreantext/processor/KoreanPosJava.class  \n",
      "  inflating: ./test/org/openkoreantext/processor/KoreanTokenJava.class  \n",
      "  inflating: ./test/org/openkoreantext/processor/normalizer/KoreanNormalizer$.class  \n",
      "  inflating: ./test/org/openkoreantext/processor/normalizer/KoreanNormalizer$Segment$.class  \n",
      "  inflating: ./test/org/openkoreantext/processor/normalizer/KoreanNormalizer$Segment.class  \n",
      "  inflating: ./test/org/openkoreantext/processor/normalizer/KoreanNormalizer.class  \n",
      "  inflating: ./test/org/openkoreantext/processor/OpenKoreanTextProcessor$.class  \n",
      "  inflating: ./test/org/openkoreantext/processor/OpenKoreanTextProcessor.class  \n",
      "  inflating: ./test/org/openkoreantext/processor/OpenKoreanTextProcessorJava.class  \n",
      "  inflating: ./test/org/openkoreantext/processor/phrase_extractor/KoreanPhraseExtractor$.class  \n",
      "  inflating: ./test/org/openkoreantext/processor/phrase_extractor/KoreanPhraseExtractor$KoreanPhrase$.class  \n",
      "  inflating: ./test/org/openkoreantext/processor/phrase_extractor/KoreanPhraseExtractor$KoreanPhrase.class  \n",
      "  inflating: ./test/org/openkoreantext/processor/phrase_extractor/KoreanPhraseExtractor$PhraseBuffer$.class  \n",
      "  inflating: ./test/org/openkoreantext/processor/phrase_extractor/KoreanPhraseExtractor$PhraseBuffer.class  \n",
      "  inflating: ./test/org/openkoreantext/processor/phrase_extractor/KoreanPhraseExtractor.class  \n",
      "  inflating: ./test/org/openkoreantext/processor/qa/BatchGetUnknownNouns$.class  \n",
      "  inflating: ./test/org/openkoreantext/processor/qa/BatchGetUnknownNouns$ChunkWithTweet$.class  \n",
      "  inflating: ./test/org/openkoreantext/processor/qa/BatchGetUnknownNouns$ChunkWithTweet.class  \n",
      "  inflating: ./test/org/openkoreantext/processor/qa/BatchGetUnknownNouns.class  \n",
      "  inflating: ./test/org/openkoreantext/processor/qa/BatchTokenizeTweets$.class  \n",
      "  inflating: ./test/org/openkoreantext/processor/qa/BatchTokenizeTweets$ParseTime$.class  \n",
      "  inflating: ./test/org/openkoreantext/processor/qa/BatchTokenizeTweets$ParseTime.class  \n",
      "  inflating: ./test/org/openkoreantext/processor/qa/BatchTokenizeTweets.class  \n",
      "  inflating: ./test/org/openkoreantext/processor/qa/KoreanProcessorSandbox$.class  \n",
      "  inflating: ./test/org/openkoreantext/processor/qa/KoreanProcessorSandbox.class  \n",
      "  inflating: ./test/org/openkoreantext/processor/stemmer/KoreanStemmer$.class  \n",
      "  inflating: ./test/org/openkoreantext/processor/stemmer/KoreanStemmer.class  \n",
      "  inflating: ./test/org/openkoreantext/processor/tokenizer/KoreanChunk$.class  \n",
      "  inflating: ./test/org/openkoreantext/processor/tokenizer/KoreanChunk.class  \n",
      "  inflating: ./test/org/openkoreantext/processor/tokenizer/KoreanChunker$.class  \n",
      "  inflating: ./test/org/openkoreantext/processor/tokenizer/KoreanChunker$ChunkMatch$.class  \n",
      "  inflating: ./test/org/openkoreantext/processor/tokenizer/KoreanChunker$ChunkMatch.class  \n",
      "  inflating: ./test/org/openkoreantext/processor/tokenizer/KoreanChunker.class  \n",
      "  inflating: ./test/org/openkoreantext/processor/tokenizer/KoreanDetokenizer$.class  \n",
      "  inflating: ./test/org/openkoreantext/processor/tokenizer/KoreanDetokenizer.class  \n",
      "  inflating: ./test/org/openkoreantext/processor/tokenizer/KoreanSentenceSplitter$.class  \n",
      "  inflating: ./test/org/openkoreantext/processor/tokenizer/KoreanSentenceSplitter.class  \n",
      "  inflating: ./test/org/openkoreantext/processor/tokenizer/KoreanTokenizer$.class  \n",
      "  inflating: ./test/org/openkoreantext/processor/tokenizer/KoreanTokenizer$CandidateParse$.class  \n",
      "  inflating: ./test/org/openkoreantext/processor/tokenizer/KoreanTokenizer$CandidateParse.class  \n",
      "  inflating: ./test/org/openkoreantext/processor/tokenizer/KoreanTokenizer$KoreanToken$.class  \n",
      "  inflating: ./test/org/openkoreantext/processor/tokenizer/KoreanTokenizer$KoreanToken.class  \n",
      "  inflating: ./test/org/openkoreantext/processor/tokenizer/KoreanTokenizer$PossibleTrie$.class  \n",
      "  inflating: ./test/org/openkoreantext/processor/tokenizer/KoreanTokenizer$PossibleTrie.class  \n",
      "  inflating: ./test/org/openkoreantext/processor/tokenizer/KoreanTokenizer.class  \n",
      "  inflating: ./test/org/openkoreantext/processor/tokenizer/ParsedChunk$.class  \n",
      "  inflating: ./test/org/openkoreantext/processor/tokenizer/ParsedChunk.class  \n",
      "  inflating: ./test/org/openkoreantext/processor/tokenizer/Sentence$.class  \n",
      "  inflating: ./test/org/openkoreantext/processor/tokenizer/Sentence.class  \n",
      "  inflating: ./test/org/openkoreantext/processor/tokenizer/TokenizerProfile$.class  \n",
      "  inflating: ./test/org/openkoreantext/processor/tokenizer/TokenizerProfile.class  \n",
      "  inflating: ./test/org/openkoreantext/processor/tools/CreateChunkParsingCandidates$.class  \n",
      "  inflating: ./test/org/openkoreantext/processor/tools/CreateChunkParsingCandidates.class  \n",
      "  inflating: ./test/org/openkoreantext/processor/tools/CreateConjugationExamples$.class  \n",
      "  inflating: ./test/org/openkoreantext/processor/tools/CreateConjugationExamples$ConjugationExample$.class  \n",
      "  inflating: ./test/org/openkoreantext/processor/tools/CreateConjugationExamples$ConjugationExample.class  \n",
      "  inflating: ./test/org/openkoreantext/processor/tools/CreateConjugationExamples.class  \n",
      "  inflating: ./test/org/openkoreantext/processor/tools/CreateParsingExamples$.class  \n",
      "  inflating: ./test/org/openkoreantext/processor/tools/CreateParsingExamples$ParsingExample$.class  \n",
      "  inflating: ./test/org/openkoreantext/processor/tools/CreateParsingExamples$ParsingExample.class  \n",
      "  inflating: ./test/org/openkoreantext/processor/tools/CreateParsingExamples.class  \n",
      "  inflating: ./test/org/openkoreantext/processor/tools/CreatePhraseExtractionExamples$.class  \n",
      "  inflating: ./test/org/openkoreantext/processor/tools/CreatePhraseExtractionExamples$PhraseExample$.class  \n",
      "  inflating: ./test/org/openkoreantext/processor/tools/CreatePhraseExtractionExamples$PhraseExample.class  \n",
      "  inflating: ./test/org/openkoreantext/processor/tools/CreatePhraseExtractionExamples.class  \n",
      "  inflating: ./test/org/openkoreantext/processor/tools/DeduplicateAndSortDictionaries$.class  \n",
      "  inflating: ./test/org/openkoreantext/processor/tools/DeduplicateAndSortDictionaries.class  \n",
      "  inflating: ./test/org/openkoreantext/processor/tools/Runnable.class  \n",
      "  inflating: ./test/org/openkoreantext/processor/tools/UpdateAllTheExamples$.class  \n",
      "  inflating: ./test/org/openkoreantext/processor/tools/UpdateAllTheExamples.class  \n",
      "  inflating: ./test/org/openkoreantext/processor/util/adjective/adjective.txt  \n",
      "  inflating: ./test/org/openkoreantext/processor/util/adverb/adverb.txt  \n",
      "  inflating: ./test/org/openkoreantext/processor/util/auxiliary/conjunctions.txt  \n",
      "  inflating: ./test/org/openkoreantext/processor/util/auxiliary/determiner.txt  \n",
      "  inflating: ./test/org/openkoreantext/processor/util/auxiliary/exclamation.txt  \n",
      "  inflating: ./test/org/openkoreantext/processor/util/CharacterUtils$CharacterBuffer.class  \n",
      "  inflating: ./test/org/openkoreantext/processor/util/CharacterUtils$Java4CharacterUtils.class  \n",
      "  inflating: ./test/org/openkoreantext/processor/util/CharacterUtils$Java5CharacterUtils.class  \n",
      "  inflating: ./test/org/openkoreantext/processor/util/CharacterUtils.class  \n",
      "  inflating: ./test/org/openkoreantext/processor/util/CharArrayMap$1.class  \n",
      "  inflating: ./test/org/openkoreantext/processor/util/CharArrayMap$EmptyCharArrayMap.class  \n",
      "  inflating: ./test/org/openkoreantext/processor/util/CharArrayMap$EntryIterator.class  \n",
      "  inflating: ./test/org/openkoreantext/processor/util/CharArrayMap$EntrySet.class  \n",
      "  inflating: ./test/org/openkoreantext/processor/util/CharArrayMap$MapEntry.class  \n",
      "  inflating: ./test/org/openkoreantext/processor/util/CharArrayMap$UnmodifiableCharArrayMap.class  \n",
      "  inflating: ./test/org/openkoreantext/processor/util/CharArrayMap.class  \n",
      "  inflating: ./test/org/openkoreantext/processor/util/CharArraySet.class  \n",
      "  inflating: ./test/org/openkoreantext/processor/util/example_chunks.txt  \n",
      "  inflating: ./test/org/openkoreantext/processor/util/example_tweets.txt  \n",
      "  inflating: ./test/org/openkoreantext/processor/util/freq/entity-freq.txt.gz  \n",
      "  inflating: ./test/org/openkoreantext/processor/util/Hangul$.class  \n",
      "  inflating: ./test/org/openkoreantext/processor/util/Hangul$DoubleCoda$.class  \n",
      "  inflating: ./test/org/openkoreantext/processor/util/Hangul$DoubleCoda.class  \n",
      "  inflating: ./test/org/openkoreantext/processor/util/Hangul$HangulChar$.class  \n",
      "  inflating: ./test/org/openkoreantext/processor/util/Hangul$HangulChar.class  \n",
      "  inflating: ./test/org/openkoreantext/processor/util/Hangul.class  \n",
      "  inflating: ./test/org/openkoreantext/processor/util/josa/josa.txt  \n",
      "  inflating: ./test/org/openkoreantext/processor/util/KoreanConjugation$.class  \n",
      "  inflating: ./test/org/openkoreantext/processor/util/KoreanConjugation.class  \n",
      "  inflating: ./test/org/openkoreantext/processor/util/KoreanDictionaryProvider$.class  \n",
      "  inflating: ./test/org/openkoreantext/processor/util/KoreanDictionaryProvider.class  \n",
      "  inflating: ./test/org/openkoreantext/processor/util/KoreanPos$.class  \n",
      "  inflating: ./test/org/openkoreantext/processor/util/KoreanPos$KoreanPosTrie$.class  \n",
      "  inflating: ./test/org/openkoreantext/processor/util/KoreanPos$KoreanPosTrie.class  \n",
      "  inflating: ./test/org/openkoreantext/processor/util/KoreanPos.class  \n",
      "  inflating: ./test/org/openkoreantext/processor/util/KoreanSubstantive$.class  \n",
      "  inflating: ./test/org/openkoreantext/processor/util/KoreanSubstantive.class  \n",
      "  inflating: ./test/org/openkoreantext/processor/util/noun/bible.txt  \n",
      "  inflating: ./test/org/openkoreantext/processor/util/noun/company_names.txt  \n",
      "  inflating: ./test/org/openkoreantext/processor/util/noun/congress.txt  \n",
      "  inflating: ./test/org/openkoreantext/processor/util/noun/entities.txt  \n",
      "  inflating: ./test/org/openkoreantext/processor/util/noun/foreign.txt  \n",
      "  inflating: ./test/org/openkoreantext/processor/util/noun/geolocations.txt  \n",
      "  inflating: ./test/org/openkoreantext/processor/util/noun/kpop.txt  \n",
      "  inflating: ./test/org/openkoreantext/processor/util/noun/lol.txt  \n",
      "  inflating: ./test/org/openkoreantext/processor/util/noun/names.txt  \n",
      "  inflating: ./test/org/openkoreantext/processor/util/noun/nouns.txt  \n",
      "  inflating: ./test/org/openkoreantext/processor/util/noun/pokemon.txt  \n",
      "  inflating: ./test/org/openkoreantext/processor/util/noun/profane.txt  \n",
      "  inflating: ./test/org/openkoreantext/processor/util/noun/slangs.txt  \n",
      "  inflating: ./test/org/openkoreantext/processor/util/noun/spam.txt  \n",
      "  inflating: ./test/org/openkoreantext/processor/util/noun/twitter.txt  \n",
      "  inflating: ./test/org/openkoreantext/processor/util/noun/wikipedia_title_nouns.txt  \n",
      "  inflating: ./test/org/openkoreantext/processor/util/substantives/family_names.txt  \n",
      "  inflating: ./test/org/openkoreantext/processor/util/substantives/given_names.txt  \n",
      "  inflating: ./test/org/openkoreantext/processor/util/substantives/modifier.txt  \n",
      "  inflating: ./test/org/openkoreantext/processor/util/substantives/suffix.txt  \n",
      "  inflating: ./test/org/openkoreantext/processor/util/typos/typos.txt  \n",
      "  inflating: ./test/org/openkoreantext/processor/util/verb/eomi.txt  \n",
      "  inflating: ./test/org/openkoreantext/processor/util/verb/pre_eomi.txt  \n",
      "  inflating: ./test/org/openkoreantext/processor/util/verb/verb.txt  \n",
      "  inflating: ./test/org/openkoreantext/processor/util/verb/verb_prefix.txt  \n",
      "   creating: ./test/META-INF/maven/\n",
      "   creating: ./test/META-INF/maven/org.openkoreantext/\n",
      "   creating: ./test/META-INF/maven/org.openkoreantext/open-korean-text/\n",
      "  inflating: ./test/META-INF/maven/org.openkoreantext/open-korean-text/pom.xml  \n",
      "  inflating: ./test/META-INF/maven/org.openkoreantext/open-korean-text/pom.properties  \n"
     ]
    }
   ],
   "source": [
    "!unzip open-korean-text-2.1.0.jar -d ./test"
   ]
  },
  {
   "cell_type": "markdown",
   "id": "d56bf05c-777d-4d14-965c-a431c97ca9dd",
   "metadata": {},
   "source": [
    "기존 konlpy 가 사용하는 name사전에 신조어를 추가해줄거에용~ 신조어를 명사로 분류하고 싶으면 nouns.txt로 경로를 수정해주면 됩니다!\n",
    "\n",
    "names.txt라는 사전을 data라는 변수에 저장해서, 추가할 단어들을 단어1\\n단어2\\n... 형식으로 추가해준다음, \n",
    "다시 names.txt에 새롭게 저장하는 방식"
   ]
  },
  {
   "cell_type": "code",
   "execution_count": 6,
   "id": "6cb5fa58-204e-46fd-80aa-b2119c136091",
   "metadata": {
    "tags": []
   },
   "outputs": [],
   "source": [
    "with open(path+\"/test/org/openkoreantext/processor/util/noun/names.txt\") as f:\n",
    "    data = f.read()\n",
    "    \n",
    "data += 'SSG\\n티몬\\n위메프\\n옥션\\ng마켓\\nG마켓\\n김범수\\n김범석\\n11번가\\nSNS\\n인스타그램\\n인스타\\n페이스북\\n로켓와우\\n소비자보호\\n카카오\\n쿠팡\\n네이버\\n다크패턴\\n'\n",
    "\n",
    "with open(path+\"/test/org/openkoreantext/processor/util/noun/names.txt\", 'w') as f:\n",
    "    f.write(data)"
   ]
  },
  {
   "cell_type": "markdown",
   "id": "ee7136cc-d7eb-4252-ace8-5555c41275d8",
   "metadata": {},
   "source": [
    "저장 전 data에 잘 붙었는지 꼭꼭 확인!"
   ]
  },
  {
   "cell_type": "code",
   "execution_count": 7,
   "id": "8bc76333-a44e-43ed-aff8-ceaf7cbc6b76",
   "metadata": {},
   "outputs": [
    {
     "data": {
      "text/plain": [
       "'가몽\\n가온\\n갓세븐\\n강새이\\n게임닉가\\n관우\\n귀여미\\n규\\n김유이\\n김준면\\n까까런\\n노컷\\n누너예\\n니노\\n다마고치\\n다이무스\\n대학생\\n데이브\\n도요토미\\n동운\\n동이\\n두주니\\n디시인사이드\\n디오\\n라몹\\n라스\\n라옵\\n멍구\\n메이든\\n명덕\\n명량\\n문민정부\\n미네\\n방엘리\\n병헌\\n붓다\\n비정상회담\\n빼빼로\\n삼풍\\n샤인온미\\n성식\\n성열\\n세라문\\n세라복\\n세종대왕\\n손권\\n손책\\n쇼미더머니\\n쇼챔\\n순규\\n스라소니\\n신동아\\n신쓰패밀리\\n신아라\\n아베\\n안상홍\\n안홍준\\n여누\\n여랑\\n여포\\n연합\\n오꾸닭\\n요섭\\n웃찾사\\n원식\\n유병언\\n유비\\n유이\\n윤기형\\n이나단\\n이명박\\n이완용\\n임창용\\n자괴\\n자니윤\\n자대련\\n자유\\n재중이\\n전교조\\n정윤회\\n제갈량\\n조자룡\\n조조\\n준면\\n지오디\\n지존파\\n진영오\\n차작가\\n차트\\n창섭\\n챠트\\n첸\\n코르사주\\n하무열\\n하용파쿠\\n혁재\\n현이\\n현태\\n혜미\\nSSG\\n티몬\\n위메프\\n옥션\\ng마켓\\nG마켓\\n김범수\\n김범석\\n11번가\\nSNS\\n인스타그램\\n인스타\\n페이스북\\n로켓와우\\n소비자보호\\n카카오\\n쿠팡\\n네이버\\n다크패턴\\n'"
      ]
     },
     "execution_count": 7,
     "metadata": {},
     "output_type": "execute_result"
    }
   ],
   "source": [
    "data"
   ]
  },
  {
   "cell_type": "markdown",
   "id": "c75042ef-3463-410e-b37e-2ab4dca60d0e",
   "metadata": {},
   "source": [
    "test 폴더에 있던 복사본을 원본에 덮어씌우기!"
   ]
  },
  {
   "cell_type": "code",
   "execution_count": 8,
   "id": "baf188d9-4580-4a04-a670-0eaba070f767",
   "metadata": {
    "tags": []
   },
   "outputs": [
    {
     "name": "stdout",
     "output_type": "stream",
     "text": [
      "updating: META-INF/ (stored 0%)\n",
      "updating: META-INF/MANIFEST.MF (deflated 17%)\n",
      "updating: org/ (stored 0%)\n",
      "updating: org/openkoreantext/ (stored 0%)\n",
      "updating: org/openkoreantext/processor/ (stored 0%)\n",
      "updating: org/openkoreantext/processor/normalizer/ (stored 0%)\n",
      "updating: org/openkoreantext/processor/phrase_extractor/ (stored 0%)\n",
      "updating: org/openkoreantext/processor/qa/ (stored 0%)\n",
      "updating: org/openkoreantext/processor/stemmer/ (stored 0%)\n",
      "updating: org/openkoreantext/processor/tokenizer/ (stored 0%)\n",
      "updating: org/openkoreantext/processor/tools/ (stored 0%)\n",
      "updating: org/openkoreantext/processor/util/ (stored 0%)\n",
      "updating: org/openkoreantext/processor/util/adjective/ (stored 0%)\n",
      "updating: org/openkoreantext/processor/util/adverb/ (stored 0%)\n",
      "updating: org/openkoreantext/processor/util/auxiliary/ (stored 0%)\n",
      "updating: org/openkoreantext/processor/util/freq/ (stored 0%)\n",
      "updating: org/openkoreantext/processor/util/josa/ (stored 0%)\n",
      "updating: org/openkoreantext/processor/util/noun/ (stored 0%)\n",
      "updating: org/openkoreantext/processor/util/substantives/ (stored 0%)\n",
      "updating: org/openkoreantext/processor/util/typos/ (stored 0%)\n",
      "updating: org/openkoreantext/processor/util/verb/ (stored 0%)\n",
      "updating: org/openkoreantext/processor/KoreanPosJava.class (deflated 49%)\n",
      "updating: org/openkoreantext/processor/KoreanTokenJava.class (deflated 53%)\n",
      "updating: org/openkoreantext/processor/normalizer/KoreanNormalizer$.class (deflated 56%)\n",
      "updating: org/openkoreantext/processor/normalizer/KoreanNormalizer$Segment$.class (deflated 62%)\n",
      "updating: org/openkoreantext/processor/normalizer/KoreanNormalizer$Segment.class (deflated 59%)\n",
      "updating: org/openkoreantext/processor/normalizer/KoreanNormalizer.class (deflated 27%)\n",
      "updating: org/openkoreantext/processor/OpenKoreanTextProcessor$.class (deflated 69%)\n",
      "updating: org/openkoreantext/processor/OpenKoreanTextProcessor.class (deflated 55%)\n",
      "updating: org/openkoreantext/processor/OpenKoreanTextProcessorJava.class (deflated 66%)\n",
      "updating: org/openkoreantext/processor/phrase_extractor/KoreanPhraseExtractor$.class (deflated 67%)\n",
      "updating: org/openkoreantext/processor/phrase_extractor/KoreanPhraseExtractor$KoreanPhrase$.class (deflated 66%)\n",
      "updating: org/openkoreantext/processor/phrase_extractor/KoreanPhraseExtractor$KoreanPhrase.class (deflated 63%)\n",
      "updating: org/openkoreantext/processor/phrase_extractor/KoreanPhraseExtractor$PhraseBuffer$.class (deflated 70%)\n",
      "updating: org/openkoreantext/processor/phrase_extractor/KoreanPhraseExtractor$PhraseBuffer.class (deflated 67%)\n",
      "updating: org/openkoreantext/processor/phrase_extractor/KoreanPhraseExtractor.class (deflated 34%)\n",
      "updating: org/openkoreantext/processor/qa/BatchGetUnknownNouns$.class (deflated 60%)\n",
      "updating: org/openkoreantext/processor/qa/BatchGetUnknownNouns$ChunkWithTweet$.class (deflated 60%)\n",
      "updating: org/openkoreantext/processor/qa/BatchGetUnknownNouns$ChunkWithTweet.class (deflated 57%)\n",
      "updating: org/openkoreantext/processor/qa/BatchGetUnknownNouns.class (deflated 26%)\n",
      "updating: org/openkoreantext/processor/qa/BatchTokenizeTweets$.class (deflated 60%)\n",
      "updating: org/openkoreantext/processor/qa/BatchTokenizeTweets$ParseTime$.class (deflated 58%)\n",
      "updating: org/openkoreantext/processor/qa/BatchTokenizeTweets$ParseTime.class (deflated 54%)\n",
      "updating: org/openkoreantext/processor/qa/BatchTokenizeTweets.class (deflated 25%)\n",
      "updating: org/openkoreantext/processor/qa/KoreanProcessorSandbox$.class (deflated 44%)\n",
      "updating: org/openkoreantext/processor/qa/KoreanProcessorSandbox.class (deflated 30%)\n",
      "updating: org/openkoreantext/processor/stemmer/KoreanStemmer$.class (deflated 59%)\n",
      "updating: org/openkoreantext/processor/stemmer/KoreanStemmer.class (deflated 32%)\n",
      "updating: org/openkoreantext/processor/tokenizer/KoreanChunk$.class (deflated 57%)\n",
      "updating: org/openkoreantext/processor/tokenizer/KoreanChunk.class (deflated 48%)\n",
      "updating: org/openkoreantext/processor/tokenizer/KoreanChunker$.class (deflated 62%)\n",
      "updating: org/openkoreantext/processor/tokenizer/KoreanChunker$ChunkMatch$.class (deflated 61%)\n",
      "updating: org/openkoreantext/processor/tokenizer/KoreanChunker$ChunkMatch.class (deflated 58%)\n",
      "updating: org/openkoreantext/processor/tokenizer/KoreanChunker.class (deflated 32%)\n",
      "updating: org/openkoreantext/processor/tokenizer/KoreanDetokenizer$.class (deflated 58%)\n",
      "updating: org/openkoreantext/processor/tokenizer/KoreanDetokenizer.class (deflated 32%)\n",
      "updating: org/openkoreantext/processor/tokenizer/KoreanSentenceSplitter$.class (deflated 55%)\n",
      "updating: org/openkoreantext/processor/tokenizer/KoreanSentenceSplitter.class (deflated 35%)\n",
      "updating: org/openkoreantext/processor/tokenizer/KoreanTokenizer$.class (deflated 67%)\n",
      "updating: org/openkoreantext/processor/tokenizer/KoreanTokenizer$CandidateParse$.class (deflated 68%)\n",
      "updating: org/openkoreantext/processor/tokenizer/KoreanTokenizer$CandidateParse.class (deflated 64%)\n",
      "updating: org/openkoreantext/processor/tokenizer/KoreanTokenizer$KoreanToken$.class (deflated 65%)\n",
      "updating: org/openkoreantext/processor/tokenizer/KoreanTokenizer$KoreanToken.class (deflated 58%)\n",
      "updating: org/openkoreantext/processor/tokenizer/KoreanTokenizer$PossibleTrie$.class (deflated 63%)\n",
      "updating: org/openkoreantext/processor/tokenizer/KoreanTokenizer$PossibleTrie.class (deflated 58%)\n",
      "updating: org/openkoreantext/processor/tokenizer/KoreanTokenizer.class (deflated 37%)\n",
      "updating: org/openkoreantext/processor/tokenizer/ParsedChunk$.class (deflated 62%)\n",
      "updating: org/openkoreantext/processor/tokenizer/ParsedChunk.class (deflated 57%)\n",
      "updating: org/openkoreantext/processor/tokenizer/Sentence$.class (deflated 57%)\n",
      "updating: org/openkoreantext/processor/tokenizer/Sentence.class (deflated 48%)\n",
      "updating: org/openkoreantext/processor/tokenizer/TokenizerProfile$.class (deflated 71%)\n",
      "updating: org/openkoreantext/processor/tokenizer/TokenizerProfile.class (deflated 59%)\n",
      "updating: org/openkoreantext/processor/tools/CreateChunkParsingCandidates$.class (deflated 58%)\n",
      "updating: org/openkoreantext/processor/tools/CreateChunkParsingCandidates.class (deflated 32%)\n",
      "updating: org/openkoreantext/processor/tools/CreateConjugationExamples$.class (deflated 59%)\n",
      "updating: org/openkoreantext/processor/tools/CreateConjugationExamples$ConjugationExample$.class (deflated 64%)\n",
      "updating: org/openkoreantext/processor/tools/CreateConjugationExamples$ConjugationExample.class (deflated 60%)\n",
      "updating: org/openkoreantext/processor/tools/CreateConjugationExamples.class (deflated 30%)\n",
      "updating: org/openkoreantext/processor/tools/CreateParsingExamples$.class (deflated 58%)\n",
      "updating: org/openkoreantext/processor/tools/CreateParsingExamples$ParsingExample$.class (deflated 64%)\n",
      "updating: org/openkoreantext/processor/tools/CreateParsingExamples$ParsingExample.class (deflated 62%)\n",
      "updating: org/openkoreantext/processor/tools/CreateParsingExamples.class (deflated 29%)\n",
      "updating: org/openkoreantext/processor/tools/CreatePhraseExtractionExamples$.class (deflated 59%)\n",
      "updating: org/openkoreantext/processor/tools/CreatePhraseExtractionExamples$PhraseExample$.class (deflated 66%)\n",
      "updating: org/openkoreantext/processor/tools/CreatePhraseExtractionExamples$PhraseExample.class (deflated 62%)\n",
      "updating: org/openkoreantext/processor/tools/CreatePhraseExtractionExamples.class (deflated 29%)\n",
      "updating: org/openkoreantext/processor/tools/DeduplicateAndSortDictionaries$.class (deflated 56%)\n",
      "updating: org/openkoreantext/processor/tools/DeduplicateAndSortDictionaries.class (deflated 26%)\n",
      "updating: org/openkoreantext/processor/tools/Runnable.class (deflated 28%)\n",
      "updating: org/openkoreantext/processor/tools/UpdateAllTheExamples$.class (deflated 59%)\n",
      "updating: org/openkoreantext/processor/tools/UpdateAllTheExamples.class (deflated 31%)\n",
      "updating: org/openkoreantext/processor/util/adjective/adjective.txt (deflated 66%)\n",
      "updating: org/openkoreantext/processor/util/adverb/adverb.txt (deflated 71%)\n",
      "updating: org/openkoreantext/processor/util/auxiliary/conjunctions.txt (deflated 53%)\n",
      "updating: org/openkoreantext/processor/util/auxiliary/determiner.txt (stored 0%)\n",
      "updating: org/openkoreantext/processor/util/auxiliary/exclamation.txt (deflated 57%)\n",
      "updating: org/openkoreantext/processor/util/CharacterUtils$CharacterBuffer.class (deflated 60%)\n",
      "updating: org/openkoreantext/processor/util/CharacterUtils$Java4CharacterUtils.class (deflated 50%)\n",
      "updating: org/openkoreantext/processor/util/CharacterUtils$Java5CharacterUtils.class (deflated 51%)\n",
      "updating: org/openkoreantext/processor/util/CharacterUtils.class (deflated 54%)\n",
      "updating: org/openkoreantext/processor/util/CharArrayMap$1.class (deflated 63%)\n",
      "updating: org/openkoreantext/processor/util/CharArrayMap$EmptyCharArrayMap.class (deflated 65%)\n",
      "updating: org/openkoreantext/processor/util/CharArrayMap$EntryIterator.class (deflated 59%)\n",
      "updating: org/openkoreantext/processor/util/CharArrayMap$EntrySet.class (deflated 58%)\n",
      "updating: org/openkoreantext/processor/util/CharArrayMap$MapEntry.class (deflated 56%)\n",
      "updating: org/openkoreantext/processor/util/CharArrayMap$UnmodifiableCharArrayMap.class (deflated 72%)\n",
      "updating: org/openkoreantext/processor/util/CharArrayMap.class (deflated 59%)\n",
      "updating: org/openkoreantext/processor/util/CharArraySet.class (deflated 60%)\n",
      "updating: org/openkoreantext/processor/util/example_chunks.txt (deflated 69%)\n",
      "updating: org/openkoreantext/processor/util/example_tweets.txt (deflated 56%)\n",
      "updating: org/openkoreantext/processor/util/freq/entity-freq.txt.gz (deflated 0%)\n",
      "updating: org/openkoreantext/processor/util/Hangul$.class (deflated 59%)\n",
      "updating: org/openkoreantext/processor/util/Hangul$DoubleCoda$.class (deflated 55%)\n",
      "updating: org/openkoreantext/processor/util/Hangul$DoubleCoda.class (deflated 54%)\n",
      "updating: org/openkoreantext/processor/util/Hangul$HangulChar$.class (deflated 57%)\n",
      "updating: org/openkoreantext/processor/util/Hangul$HangulChar.class (deflated 55%)\n",
      "updating: org/openkoreantext/processor/util/Hangul.class (deflated 31%)\n",
      "updating: org/openkoreantext/processor/util/josa/josa.txt (deflated 72%)\n",
      "updating: org/openkoreantext/processor/util/KoreanConjugation$.class (deflated 64%)\n",
      "updating: org/openkoreantext/processor/util/KoreanConjugation.class (deflated 20%)\n",
      "updating: org/openkoreantext/processor/util/KoreanDictionaryProvider$.class (deflated 63%)\n",
      "updating: org/openkoreantext/processor/util/KoreanDictionaryProvider.class (deflated 42%)\n",
      "updating: org/openkoreantext/processor/util/KoreanPos$.class (deflated 62%)\n",
      "updating: org/openkoreantext/processor/util/KoreanPos$KoreanPosTrie$.class (deflated 66%)\n",
      "updating: org/openkoreantext/processor/util/KoreanPos$KoreanPosTrie.class (deflated 63%)\n",
      "updating: org/openkoreantext/processor/util/KoreanPos.class (deflated 44%)\n",
      "updating: org/openkoreantext/processor/util/KoreanSubstantive$.class (deflated 58%)\n",
      "updating: org/openkoreantext/processor/util/KoreanSubstantive.class (deflated 19%)\n",
      "updating: org/openkoreantext/processor/util/noun/bible.txt (deflated 51%)\n",
      "updating: org/openkoreantext/processor/util/noun/company_names.txt (deflated 45%)\n",
      "updating: org/openkoreantext/processor/util/noun/congress.txt (deflated 65%)\n",
      "updating: org/openkoreantext/processor/util/noun/entities.txt (deflated 59%)\n",
      "updating: org/openkoreantext/processor/util/noun/foreign.txt (deflated 55%)\n",
      "updating: org/openkoreantext/processor/util/noun/geolocations.txt (deflated 58%)\n",
      "updating: org/openkoreantext/processor/util/noun/kpop.txt (deflated 54%)\n",
      "updating: org/openkoreantext/processor/util/noun/lol.txt (deflated 44%)\n",
      "updating: org/openkoreantext/processor/util/noun/names.txt (deflated 39%)\n",
      "updating: org/openkoreantext/processor/util/noun/nouns.txt (deflated 62%)\n",
      "updating: org/openkoreantext/processor/util/noun/pokemon.txt (deflated 46%)\n",
      "updating: org/openkoreantext/processor/util/noun/profane.txt (deflated 41%)\n",
      "updating: org/openkoreantext/processor/util/noun/slangs.txt (deflated 41%)\n",
      "updating: org/openkoreantext/processor/util/noun/spam.txt (deflated 22%)\n",
      "updating: org/openkoreantext/processor/util/noun/twitter.txt (deflated 36%)\n",
      "updating: org/openkoreantext/processor/util/noun/wikipedia_title_nouns.txt (deflated 65%)\n",
      "updating: org/openkoreantext/processor/util/substantives/family_names.txt (deflated 34%)\n",
      "updating: org/openkoreantext/processor/util/substantives/given_names.txt (deflated 57%)\n",
      "updating: org/openkoreantext/processor/util/substantives/modifier.txt (deflated 60%)\n",
      "updating: org/openkoreantext/processor/util/substantives/suffix.txt (deflated 31%)\n",
      "updating: org/openkoreantext/processor/util/typos/typos.txt (deflated 55%)\n",
      "updating: org/openkoreantext/processor/util/verb/eomi.txt (deflated 72%)\n",
      "updating: org/openkoreantext/processor/util/verb/pre_eomi.txt (deflated 35%)\n",
      "updating: org/openkoreantext/processor/util/verb/verb.txt (deflated 67%)\n",
      "updating: org/openkoreantext/processor/util/verb/verb_prefix.txt (stored 0%)\n",
      "updating: META-INF/maven/ (stored 0%)\n",
      "updating: META-INF/maven/org.openkoreantext/ (stored 0%)\n",
      "updating: META-INF/maven/org.openkoreantext/open-korean-text/ (stored 0%)\n",
      "updating: META-INF/maven/org.openkoreantext/open-korean-text/pom.xml (deflated 76%)\n",
      "updating: META-INF/maven/org.openkoreantext/open-korean-text/pom.properties (deflated 8%)\n"
     ]
    }
   ],
   "source": [
    "!cd test; zip -r ../open-korean-text-2.1.0.jar *"
   ]
  },
  {
   "cell_type": "code",
   "execution_count": 10,
   "id": "2eec901a-b39a-4648-ab70-d57d86ec86c6",
   "metadata": {},
   "outputs": [
    {
     "data": {
      "text/plain": [
       "[('쿠팡', 'Noun'), ('최고다', 'Noun')]"
      ]
     },
     "execution_count": 10,
     "metadata": {},
     "output_type": "execute_result"
    }
   ],
   "source": [
    "import konlpy\n",
    "from konlpy.tag import Okt\n",
    "from sklearn.feature_extraction.text import CountVectorizer\n",
    "\n",
    "tagger = Okt()\n",
    "cv = CountVectorizer()\n",
    "tagger.pos('쿠팡 최고다', stem=True)"
   ]
  }
 ],
 "metadata": {
  "kernelspec": {
   "display_name": "“AMY”",
   "language": "python",
   "name": "save"
  },
  "language_info": {
   "codemirror_mode": {
    "name": "ipython",
    "version": 3
   },
   "file_extension": ".py",
   "mimetype": "text/x-python",
   "name": "python",
   "nbconvert_exporter": "python",
   "pygments_lexer": "ipython3",
   "version": "3.8.15"
  }
 },
 "nbformat": 4,
 "nbformat_minor": 5
}
