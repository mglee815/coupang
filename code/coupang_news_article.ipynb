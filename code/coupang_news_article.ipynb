{
 "cells": [
  {
   "cell_type": "code",
   "execution_count": null,
   "metadata": {},
   "outputs": [],
   "source": [
    "# !pip install webdriver_manager"
   ]
  },
  {
   "cell_type": "code",
   "execution_count": null,
   "metadata": {},
   "outputs": [],
   "source": [
    "#크롤링시 필요한 라이브러리 불러오기\n",
    "import pandas as pd\n",
    "\n",
    "from bs4 import BeautifulSoup\n",
    "import requests\n",
    "import re\n",
    "import time\n",
    "from selenium import webdriver\n",
    "from selenium.webdriver.common.by import By\n",
    "from webdriver_manager.chrome import ChromeDriverManager\n",
    "from tqdm import tqdm\n",
    "\n",
    "\n",
    "\n",
    "#웹드라이버 설정\n",
    "options = webdriver.ChromeOptions()\n",
    "options.add_experimental_option(\"excludeSwitches\", [\"enable-automation\"])\n",
    "options.add_experimental_option(\"useAutomationExtension\", False)"
   ]
  },
  {
   "cell_type": "code",
   "execution_count": null,
   "metadata": {},
   "outputs": [],
   "source": [
    "sy = 2013\n",
    "sm = 1\n",
    "\n",
    "search_urls = []\n",
    "\n",
    "for y in range(1,11, 1):\n",
    "    for m in range(11):\n",
    "        sm = 1 + m\n",
    "        start = str(sy) + '.' +  str(sm).zfill(2) + '.' + '01'\n",
    "        end = str(sy) + '.' +  str(sm+1).zfill(2) + '.' + '01'\n",
    "        \n",
    "        for it in range(400):\n",
    "            search_urls.append('https://search.naver.com/search.naver?where=news&sm=tab_pge&query=\"쿠팡\"&photo=0&field=0&pd=3&ds=' + start + '&de=' + end + '&cluster_rank=30&mynews=0&office_type=0&office_section_code=0&news_office_checked=&nso=so:r,p:from20190117to20200315,a:all&start=' + str( (it*10) + 1))\n",
    "    start = str(sy) + '.' +  str(sm+1).zfill(2) + '.' + '01'\n",
    "    end = str(sy) + '.' +  str(sm+1).zfill(2) + '.' + '31'\n",
    "    \n",
    "    for it in range(400):\n",
    "        search_urls.append('https://search.naver.com/search.naver?where=news&sm=tab_pge&query=\"쿠팡\"&photo=0&field=0&pd=3&ds=' + start + '&de=' + end + '&cluster_rank=30&mynews=0&office_type=0&office_section_code=0&news_office_checked=&nso=so:r,p:from20190117to20200315,a:all&start=' + str( (it*10) + 1))\n",
    "    \n",
    "    sy = 2017 + y\n",
    "    \n"
   ]
  },
  {
   "cell_type": "code",
   "execution_count": null,
   "metadata": {},
   "outputs": [
    {
     "data": {
      "text/plain": [
       "'https://search.naver.com/search.naver?where=news&sm=tab_pge&query=\"카카오페이\"&photo=0&field=0&pd=3&ds=2022.12.01&de=2022.12.31&cluster_rank=30&mynews=0&office_type=0&office_section_code=0&news_office_checked=&nso=so:r,p:from20190117to20200315,a:all&start=3991'"
      ]
     },
     "metadata": {},
     "output_type": "display_data"
    }
   ],
   "source": [
    "search_urls[-1]"
   ]
  },
  {
   "cell_type": "code",
   "execution_count": null,
   "metadata": {},
   "outputs": [
    {
     "name": "stderr",
     "output_type": "stream",
     "text": [
      "<ipython-input-38-596db353c353>:3: DeprecationWarning: executable_path has been deprecated, please pass in a Service object\n",
      "  driver = webdriver.Chrome(ChromeDriverManager().install())\n",
      " 38%|██████████████████████████████▊                                                   | 30/80 [02:24<04:00,  4.82s/it]\n"
     ]
    },
    {
     "name": "stdout",
     "output_type": "stream",
     "text": [
      "https://search.naver.com/search.naver?where=news&sm=tab_pge&query=\"카카오페이\"&photo=0&field=0&pd=3&ds=2017.01.01&de=2017.02.01&cluster_rank=30&mynews=0&office_type=0&office_section_code=0&news_office_checked=&nso=so:r,p:from20190117to20200315,a:all&start=301\n"
     ]
    },
    {
     "name": "stderr",
     "output_type": "stream",
     "text": [
      "  0%|                                                                                           | 0/80 [00:00<?, ?it/s]\n"
     ]
    },
    {
     "name": "stdout",
     "output_type": "stream",
     "text": [
      "https://search.naver.com/search.naver?where=news&sm=tab_pge&query=\"카카오페이\"&photo=0&field=0&pd=3&ds=2017.01.01&de=2017.02.01&cluster_rank=30&mynews=0&office_type=0&office_section_code=0&news_office_checked=&nso=so:r,p:from20190117to20200315,a:all&start=801\n"
     ]
    },
    {
     "name": "stderr",
     "output_type": "stream",
     "text": [
      "  0%|                                                                                           | 0/80 [00:00<?, ?it/s]\n"
     ]
    },
    {
     "name": "stdout",
     "output_type": "stream",
     "text": [
      "https://search.naver.com/search.naver?where=news&sm=tab_pge&query=\"카카오페이\"&photo=0&field=0&pd=3&ds=2017.01.01&de=2017.02.01&cluster_rank=30&mynews=0&office_type=0&office_section_code=0&news_office_checked=&nso=so:r,p:from20190117to20200315,a:all&start=1601\n"
     ]
    },
    {
     "name": "stderr",
     "output_type": "stream",
     "text": [
      "  0%|                                                                                           | 0/80 [00:00<?, ?it/s]"
     ]
    },
    {
     "name": "stdout",
     "output_type": "stream",
     "text": [
      "https://search.naver.com/search.naver?where=news&sm=tab_pge&query=\"카카오페이\"&photo=0&field=0&pd=3&ds=2017.01.01&de=2017.02.01&cluster_rank=30&mynews=0&office_type=0&office_section_code=0&news_office_checked=&nso=so:r,p:from20190117to20200315,a:all&start=2401"
     ]
    },
    {
     "name": "stderr",
     "output_type": "stream",
     "text": [
      "  0%|                                                                                           | 0/80 [00:00<?, ?it/s]\n"
     ]
    },
    {
     "name": "stdout",
     "output_type": "stream",
     "text": [
      "\n"
     ]
    },
    {
     "name": "stderr",
     "output_type": "stream",
     "text": [
      "  0%|                                                                                           | 0/80 [00:00<?, ?it/s]\n"
     ]
    },
    {
     "name": "stdout",
     "output_type": "stream",
     "text": [
      "https://search.naver.com/search.naver?where=news&sm=tab_pge&query=\"카카오페이\"&photo=0&field=0&pd=3&ds=2017.01.01&de=2017.02.01&cluster_rank=30&mynews=0&office_type=0&office_section_code=0&news_office_checked=&nso=so:r,p:from20190117to20200315,a:all&start=3201\n"
     ]
    },
    {
     "name": "stderr",
     "output_type": "stream",
     "text": [
      " 50%|█████████████████████████████████████████                                         | 40/80 [03:03<03:03,  4.58s/it]\n"
     ]
    },
    {
     "name": "stdout",
     "output_type": "stream",
     "text": [
      "https://search.naver.com/search.naver?where=news&sm=tab_pge&query=\"카카오페이\"&photo=0&field=0&pd=3&ds=2017.02.01&de=2017.03.01&cluster_rank=30&mynews=0&office_type=0&office_section_code=0&news_office_checked=&nso=so:r,p:from20190117to20200315,a:all&start=401\n"
     ]
    },
    {
     "name": "stderr",
     "output_type": "stream",
     "text": [
      "  0%|                                                                                           | 0/80 [00:00<?, ?it/s]\n"
     ]
    },
    {
     "name": "stdout",
     "output_type": "stream",
     "text": [
      "https://search.naver.com/search.naver?where=news&sm=tab_pge&query=\"카카오페이\"&photo=0&field=0&pd=3&ds=2017.02.01&de=2017.03.01&cluster_rank=30&mynews=0&office_type=0&office_section_code=0&news_office_checked=&nso=so:r,p:from20190117to20200315,a:all&start=801\n"
     ]
    },
    {
     "name": "stderr",
     "output_type": "stream",
     "text": [
      "  0%|                                                                                           | 0/80 [00:00<?, ?it/s]\n"
     ]
    },
    {
     "name": "stdout",
     "output_type": "stream",
     "text": [
      "https://search.naver.com/search.naver?where=news&sm=tab_pge&query=\"카카오페이\"&photo=0&field=0&pd=3&ds=2017.02.01&de=2017.03.01&cluster_rank=30&mynews=0&office_type=0&office_section_code=0&news_office_checked=&nso=so:r,p:from20190117to20200315,a:all&start=1601\n"
     ]
    },
    {
     "name": "stderr",
     "output_type": "stream",
     "text": [
      "  0%|                                                                                           | 0/80 [00:00<?, ?it/s]\n"
     ]
    },
    {
     "name": "stdout",
     "output_type": "stream",
     "text": [
      "https://search.naver.com/search.naver?where=news&sm=tab_pge&query=\"카카오페이\"&photo=0&field=0&pd=3&ds=2017.02.01&de=2017.03.01&cluster_rank=30&mynews=0&office_type=0&office_section_code=0&news_office_checked=&nso=so:r,p:from20190117to20200315,a:all&start=2401\n"
     ]
    },
    {
     "name": "stderr",
     "output_type": "stream",
     "text": [
      "  0%|                                                                                           | 0/80 [00:00<?, ?it/s]\n"
     ]
    },
    {
     "name": "stdout",
     "output_type": "stream",
     "text": [
      "https://search.naver.com/search.naver?where=news&sm=tab_pge&query=\"카카오페이\"&photo=0&field=0&pd=3&ds=2017.02.01&de=2017.03.01&cluster_rank=30&mynews=0&office_type=0&office_section_code=0&news_office_checked=&nso=so:r,p:from20190117to20200315,a:all&start=3201\n"
     ]
    },
    {
     "name": "stderr",
     "output_type": "stream",
     "text": [
      " 52%|███████████████████████████████████████████                                       | 42/80 [03:08<02:50,  4.49s/it]\n"
     ]
    },
    {
     "name": "stdout",
     "output_type": "stream",
     "text": [
      "https://search.naver.com/search.naver?where=news&sm=tab_pge&query=\"카카오페이\"&photo=0&field=0&pd=3&ds=2017.03.01&de=2017.04.01&cluster_rank=30&mynews=0&office_type=0&office_section_code=0&news_office_checked=&nso=so:r,p:from20190117to20200315,a:all&start=421\n"
     ]
    },
    {
     "name": "stderr",
     "output_type": "stream",
     "text": [
      "  0%|                                                                                           | 0/80 [00:00<?, ?it/s]\n"
     ]
    },
    {
     "name": "stdout",
     "output_type": "stream",
     "text": [
      "https://search.naver.com/search.naver?where=news&sm=tab_pge&query=\"카카오페이\"&photo=0&field=0&pd=3&ds=2017.03.01&de=2017.04.01&cluster_rank=30&mynews=0&office_type=0&office_section_code=0&news_office_checked=&nso=so:r,p:from20190117to20200315,a:all&start=801\n"
     ]
    },
    {
     "name": "stderr",
     "output_type": "stream",
     "text": [
      "  0%|                                                                                           | 0/80 [00:00<?, ?it/s]\n"
     ]
    },
    {
     "name": "stdout",
     "output_type": "stream",
     "text": [
      "https://search.naver.com/search.naver?where=news&sm=tab_pge&query=\"카카오페이\"&photo=0&field=0&pd=3&ds=2017.03.01&de=2017.04.01&cluster_rank=30&mynews=0&office_type=0&office_section_code=0&news_office_checked=&nso=so:r,p:from20190117to20200315,a:all&start=1601\n"
     ]
    },
    {
     "name": "stderr",
     "output_type": "stream",
     "text": [
      "  0%|                                                                                           | 0/80 [00:00<?, ?it/s]\n"
     ]
    },
    {
     "name": "stdout",
     "output_type": "stream",
     "text": [
      "https://search.naver.com/search.naver?where=news&sm=tab_pge&query=\"카카오페이\"&photo=0&field=0&pd=3&ds=2017.03.01&de=2017.04.01&cluster_rank=30&mynews=0&office_type=0&office_section_code=0&news_office_checked=&nso=so:r,p:from20190117to20200315,a:all&start=2401\n"
     ]
    },
    {
     "name": "stderr",
     "output_type": "stream",
     "text": [
      "  0%|                                                                                           | 0/80 [00:00<?, ?it/s]\n"
     ]
    },
    {
     "name": "stdout",
     "output_type": "stream",
     "text": [
      "https://search.naver.com/search.naver?where=news&sm=tab_pge&query=\"카카오페이\"&photo=0&field=0&pd=3&ds=2017.03.01&de=2017.04.01&cluster_rank=30&mynews=0&office_type=0&office_section_code=0&news_office_checked=&nso=so:r,p:from20190117to20200315,a:all&start=3201\n"
     ]
    },
    {
     "name": "stderr",
     "output_type": "stream",
     "text": [
      " 18%|██████████████▎                                                                   | 14/80 [01:16<06:00,  5.46s/it]\n"
     ]
    },
    {
     "name": "stdout",
     "output_type": "stream",
     "text": [
      "https://search.naver.com/search.naver?where=news&sm=tab_pge&query=\"카카오페이\"&photo=0&field=0&pd=3&ds=2017.04.01&de=2017.05.01&cluster_rank=30&mynews=0&office_type=0&office_section_code=0&news_office_checked=&nso=so:r,p:from20190117to20200315,a:all&start=141\n"
     ]
    },
    {
     "name": "stderr",
     "output_type": "stream",
     "text": [
      "  0%|                                                                                           | 0/80 [00:00<?, ?it/s]\n"
     ]
    },
    {
     "name": "stdout",
     "output_type": "stream",
     "text": [
      "https://search.naver.com/search.naver?where=news&sm=tab_pge&query=\"카카오페이\"&photo=0&field=0&pd=3&ds=2017.04.01&de=2017.05.01&cluster_rank=30&mynews=0&office_type=0&office_section_code=0&news_office_checked=&nso=so:r,p:from20190117to20200315,a:all&start=801\n"
     ]
    },
    {
     "name": "stderr",
     "output_type": "stream",
     "text": [
      "  0%|                                                                                           | 0/80 [00:00<?, ?it/s]"
     ]
    },
    {
     "name": "stdout",
     "output_type": "stream",
     "text": [
      "https://search.naver.com/search.naver?where=news&sm=tab_pge&query=\"카카오페이\"&photo=0&field=0&pd=3&ds=2017.04.01&de=2017.05.01&cluster_rank=30&mynews=0&office_type=0&office_section_code=0&news_office_checked=&nso=so:r,p:from20190117to20200315,a:all&start=1601"
     ]
    },
    {
     "name": "stderr",
     "output_type": "stream",
     "text": [
      "  0%|                                                                                           | 0/80 [00:00<?, ?it/s]\n"
     ]
    },
    {
     "name": "stdout",
     "output_type": "stream",
     "text": [
      "\n"
     ]
    },
    {
     "name": "stderr",
     "output_type": "stream",
     "text": [
      "  0%|                                                                                           | 0/80 [00:00<?, ?it/s]\n"
     ]
    },
    {
     "name": "stdout",
     "output_type": "stream",
     "text": [
      "https://search.naver.com/search.naver?where=news&sm=tab_pge&query=\"카카오페이\"&photo=0&field=0&pd=3&ds=2017.04.01&de=2017.05.01&cluster_rank=30&mynews=0&office_type=0&office_section_code=0&news_office_checked=&nso=so:r,p:from20190117to20200315,a:all&start=2401\n"
     ]
    },
    {
     "name": "stderr",
     "output_type": "stream",
     "text": [
      "  0%|                                                                                           | 0/80 [00:00<?, ?it/s]\n"
     ]
    },
    {
     "name": "stdout",
     "output_type": "stream",
     "text": [
      "https://search.naver.com/search.naver?where=news&sm=tab_pge&query=\"카카오페이\"&photo=0&field=0&pd=3&ds=2017.04.01&de=2017.05.01&cluster_rank=30&mynews=0&office_type=0&office_section_code=0&news_office_checked=&nso=so:r,p:from20190117to20200315,a:all&start=3201\n"
     ]
    },
    {
     "name": "stderr",
     "output_type": "stream",
     "text": [
      " 16%|█████████████▎                                                                    | 13/80 [01:04<05:34,  5.00s/it]\n"
     ]
    },
    {
     "name": "stdout",
     "output_type": "stream",
     "text": [
      "https://search.naver.com/search.naver?where=news&sm=tab_pge&query=\"카카오페이\"&photo=0&field=0&pd=3&ds=2017.05.01&de=2017.06.01&cluster_rank=30&mynews=0&office_type=0&office_section_code=0&news_office_checked=&nso=so:r,p:from20190117to20200315,a:all&start=131\n"
     ]
    },
    {
     "name": "stderr",
     "output_type": "stream",
     "text": [
      "  0%|                                                                                           | 0/80 [00:00<?, ?it/s]\n"
     ]
    },
    {
     "name": "stdout",
     "output_type": "stream",
     "text": [
      "https://search.naver.com/search.naver?where=news&sm=tab_pge&query=\"카카오페이\"&photo=0&field=0&pd=3&ds=2017.05.01&de=2017.06.01&cluster_rank=30&mynews=0&office_type=0&office_section_code=0&news_office_checked=&nso=so:r,p:from20190117to20200315,a:all&start=801\n"
     ]
    },
    {
     "name": "stderr",
     "output_type": "stream",
     "text": [
      "  0%|                                                                                           | 0/80 [00:00<?, ?it/s]\n"
     ]
    },
    {
     "name": "stdout",
     "output_type": "stream",
     "text": [
      "https://search.naver.com/search.naver?where=news&sm=tab_pge&query=\"카카오페이\"&photo=0&field=0&pd=3&ds=2017.05.01&de=2017.06.01&cluster_rank=30&mynews=0&office_type=0&office_section_code=0&news_office_checked=&nso=so:r,p:from20190117to20200315,a:all&start=1601\n"
     ]
    },
    {
     "name": "stderr",
     "output_type": "stream",
     "text": [
      "  0%|                                                                                           | 0/80 [00:00<?, ?it/s]\n"
     ]
    },
    {
     "name": "stdout",
     "output_type": "stream",
     "text": [
      "https://search.naver.com/search.naver?where=news&sm=tab_pge&query=\"카카오페이\"&photo=0&field=0&pd=3&ds=2017.05.01&de=2017.06.01&cluster_rank=30&mynews=0&office_type=0&office_section_code=0&news_office_checked=&nso=so:r,p:from20190117to20200315,a:all&start=2401\n"
     ]
    },
    {
     "name": "stderr",
     "output_type": "stream",
     "text": [
      "  0%|                                                                                           | 0/80 [00:00<?, ?it/s]\n"
     ]
    },
    {
     "name": "stdout",
     "output_type": "stream",
     "text": [
      "https://search.naver.com/search.naver?where=news&sm=tab_pge&query=\"카카오페이\"&photo=0&field=0&pd=3&ds=2017.05.01&de=2017.06.01&cluster_rank=30&mynews=0&office_type=0&office_section_code=0&news_office_checked=&nso=so:r,p:from20190117to20200315,a:all&start=3201\n"
     ]
    },
    {
     "name": "stderr",
     "output_type": "stream",
     "text": [
      " 21%|█████████████████▍                                                                | 17/80 [01:26<05:19,  5.07s/it]\n"
     ]
    },
    {
     "name": "stdout",
     "output_type": "stream",
     "text": [
      "https://search.naver.com/search.naver?where=news&sm=tab_pge&query=\"카카오페이\"&photo=0&field=0&pd=3&ds=2017.06.01&de=2017.07.01&cluster_rank=30&mynews=0&office_type=0&office_section_code=0&news_office_checked=&nso=so:r,p:from20190117to20200315,a:all&start=171\n"
     ]
    },
    {
     "name": "stderr",
     "output_type": "stream",
     "text": [
      "  0%|                                                                                           | 0/80 [00:00<?, ?it/s]\n"
     ]
    },
    {
     "name": "stdout",
     "output_type": "stream",
     "text": [
      "https://search.naver.com/search.naver?where=news&sm=tab_pge&query=\"카카오페이\"&photo=0&field=0&pd=3&ds=2017.06.01&de=2017.07.01&cluster_rank=30&mynews=0&office_type=0&office_section_code=0&news_office_checked=&nso=so:r,p:from20190117to20200315,a:all&start=801\n"
     ]
    },
    {
     "name": "stderr",
     "output_type": "stream",
     "text": [
      "  0%|                                                                                           | 0/80 [00:00<?, ?it/s]\n"
     ]
    },
    {
     "name": "stdout",
     "output_type": "stream",
     "text": [
      "https://search.naver.com/search.naver?where=news&sm=tab_pge&query=\"카카오페이\"&photo=0&field=0&pd=3&ds=2017.06.01&de=2017.07.01&cluster_rank=30&mynews=0&office_type=0&office_section_code=0&news_office_checked=&nso=so:r,p:from20190117to20200315,a:all&start=1601\n"
     ]
    },
    {
     "name": "stderr",
     "output_type": "stream",
     "text": [
      "  0%|                                                                                           | 0/80 [00:00<?, ?it/s]\n"
     ]
    },
    {
     "name": "stdout",
     "output_type": "stream",
     "text": [
      "https://search.naver.com/search.naver?where=news&sm=tab_pge&query=\"카카오페이\"&photo=0&field=0&pd=3&ds=2017.06.01&de=2017.07.01&cluster_rank=30&mynews=0&office_type=0&office_section_code=0&news_office_checked=&nso=so:r,p:from20190117to20200315,a:all&start=2401\n"
     ]
    },
    {
     "name": "stderr",
     "output_type": "stream",
     "text": [
      "  0%|                                                                                           | 0/80 [00:00<?, ?it/s]\n"
     ]
    },
    {
     "name": "stdout",
     "output_type": "stream",
     "text": [
      "https://search.naver.com/search.naver?where=news&sm=tab_pge&query=\"카카오페이\"&photo=0&field=0&pd=3&ds=2017.06.01&de=2017.07.01&cluster_rank=30&mynews=0&office_type=0&office_section_code=0&news_office_checked=&nso=so:r,p:from20190117to20200315,a:all&start=3201\n"
     ]
    },
    {
     "name": "stderr",
     "output_type": "stream",
     "text": [
      " 66%|██████████████████████████████████████████████████████▎                           | 53/80 [04:03<02:04,  4.60s/it]\n"
     ]
    },
    {
     "name": "stdout",
     "output_type": "stream",
     "text": [
      "https://search.naver.com/search.naver?where=news&sm=tab_pge&query=\"카카오페이\"&photo=0&field=0&pd=3&ds=2017.07.01&de=2017.08.01&cluster_rank=30&mynews=0&office_type=0&office_section_code=0&news_office_checked=&nso=so:r,p:from20190117to20200315,a:all&start=531\n"
     ]
    },
    {
     "name": "stderr",
     "output_type": "stream",
     "text": [
      "  0%|                                                                                           | 0/80 [00:00<?, ?it/s]\n"
     ]
    },
    {
     "name": "stdout",
     "output_type": "stream",
     "text": [
      "https://search.naver.com/search.naver?where=news&sm=tab_pge&query=\"카카오페이\"&photo=0&field=0&pd=3&ds=2017.07.01&de=2017.08.01&cluster_rank=30&mynews=0&office_type=0&office_section_code=0&news_office_checked=&nso=so:r,p:from20190117to20200315,a:all&start=801\n"
     ]
    },
    {
     "name": "stderr",
     "output_type": "stream",
     "text": [
      "  0%|                                                                                           | 0/80 [00:00<?, ?it/s]\n"
     ]
    },
    {
     "name": "stdout",
     "output_type": "stream",
     "text": [
      "https://search.naver.com/search.naver?where=news&sm=tab_pge&query=\"카카오페이\"&photo=0&field=0&pd=3&ds=2017.07.01&de=2017.08.01&cluster_rank=30&mynews=0&office_type=0&office_section_code=0&news_office_checked=&nso=so:r,p:from20190117to20200315,a:all&start=1601\n"
     ]
    },
    {
     "name": "stderr",
     "output_type": "stream",
     "text": [
      "  0%|                                                                                           | 0/80 [00:00<?, ?it/s]\n"
     ]
    },
    {
     "name": "stdout",
     "output_type": "stream",
     "text": [
      "https://search.naver.com/search.naver?where=news&sm=tab_pge&query=\"카카오페이\"&photo=0&field=0&pd=3&ds=2017.07.01&de=2017.08.01&cluster_rank=30&mynews=0&office_type=0&office_section_code=0&news_office_checked=&nso=so:r,p:from20190117to20200315,a:all&start=2401\n"
     ]
    },
    {
     "name": "stderr",
     "output_type": "stream",
     "text": [
      "  0%|                                                                                           | 0/80 [00:00<?, ?it/s]\n"
     ]
    },
    {
     "name": "stdout",
     "output_type": "stream",
     "text": [
      "https://search.naver.com/search.naver?where=news&sm=tab_pge&query=\"카카오페이\"&photo=0&field=0&pd=3&ds=2017.07.01&de=2017.08.01&cluster_rank=30&mynews=0&office_type=0&office_section_code=0&news_office_checked=&nso=so:r,p:from20190117to20200315,a:all&start=3201\n"
     ]
    },
    {
     "name": "stderr",
     "output_type": "stream",
     "text": [
      " 81%|██████████████████████████████████████████████████████████████████▋               | 65/80 [04:20<01:00,  4.01s/it]\n"
     ]
    },
    {
     "name": "stdout",
     "output_type": "stream",
     "text": [
      "https://search.naver.com/search.naver?where=news&sm=tab_pge&query=\"카카오페이\"&photo=0&field=0&pd=3&ds=2017.08.01&de=2017.09.01&cluster_rank=30&mynews=0&office_type=0&office_section_code=0&news_office_checked=&nso=so:r,p:from20190117to20200315,a:all&start=651\n"
     ]
    },
    {
     "name": "stderr",
     "output_type": "stream",
     "text": [
      "  0%|                                                                                           | 0/80 [00:00<?, ?it/s]\n"
     ]
    },
    {
     "name": "stdout",
     "output_type": "stream",
     "text": [
      "https://search.naver.com/search.naver?where=news&sm=tab_pge&query=\"카카오페이\"&photo=0&field=0&pd=3&ds=2017.08.01&de=2017.09.01&cluster_rank=30&mynews=0&office_type=0&office_section_code=0&news_office_checked=&nso=so:r,p:from20190117to20200315,a:all&start=801\n"
     ]
    },
    {
     "name": "stderr",
     "output_type": "stream",
     "text": [
      "  0%|                                                                                           | 0/80 [00:00<?, ?it/s]\n"
     ]
    },
    {
     "name": "stdout",
     "output_type": "stream",
     "text": [
      "https://search.naver.com/search.naver?where=news&sm=tab_pge&query=\"카카오페이\"&photo=0&field=0&pd=3&ds=2017.08.01&de=2017.09.01&cluster_rank=30&mynews=0&office_type=0&office_section_code=0&news_office_checked=&nso=so:r,p:from20190117to20200315,a:all&start=1601\n"
     ]
    },
    {
     "name": "stderr",
     "output_type": "stream",
     "text": [
      "  0%|                                                                                           | 0/80 [00:00<?, ?it/s]\n"
     ]
    },
    {
     "name": "stdout",
     "output_type": "stream",
     "text": [
      "https://search.naver.com/search.naver?where=news&sm=tab_pge&query=\"카카오페이\"&photo=0&field=0&pd=3&ds=2017.08.01&de=2017.09.01&cluster_rank=30&mynews=0&office_type=0&office_section_code=0&news_office_checked=&nso=so:r,p:from20190117to20200315,a:all&start=2401\n"
     ]
    },
    {
     "name": "stderr",
     "output_type": "stream",
     "text": [
      "  0%|                                                                                           | 0/80 [00:00<?, ?it/s]\n"
     ]
    },
    {
     "name": "stdout",
     "output_type": "stream",
     "text": [
      "https://search.naver.com/search.naver?where=news&sm=tab_pge&query=\"카카오페이\"&photo=0&field=0&pd=3&ds=2017.08.01&de=2017.09.01&cluster_rank=30&mynews=0&office_type=0&office_section_code=0&news_office_checked=&nso=so:r,p:from20190117to20200315,a:all&start=3201\n"
     ]
    },
    {
     "name": "stderr",
     "output_type": "stream",
     "text": [
      " 72%|███████████████████████████████████████████████████████████▍                      | 58/80 [04:06<01:33,  4.25s/it]\n"
     ]
    },
    {
     "name": "stdout",
     "output_type": "stream",
     "text": [
      "https://search.naver.com/search.naver?where=news&sm=tab_pge&query=\"카카오페이\"&photo=0&field=0&pd=3&ds=2017.09.01&de=2017.10.01&cluster_rank=30&mynews=0&office_type=0&office_section_code=0&news_office_checked=&nso=so:r,p:from20190117to20200315,a:all&start=581\n"
     ]
    },
    {
     "name": "stderr",
     "output_type": "stream",
     "text": [
      "  0%|                                                                                           | 0/80 [00:00<?, ?it/s]\n"
     ]
    },
    {
     "name": "stdout",
     "output_type": "stream",
     "text": [
      "https://search.naver.com/search.naver?where=news&sm=tab_pge&query=\"카카오페이\"&photo=0&field=0&pd=3&ds=2017.09.01&de=2017.10.01&cluster_rank=30&mynews=0&office_type=0&office_section_code=0&news_office_checked=&nso=so:r,p:from20190117to20200315,a:all&start=801\n"
     ]
    },
    {
     "name": "stderr",
     "output_type": "stream",
     "text": [
      "  0%|                                                                                           | 0/80 [00:00<?, ?it/s]\n"
     ]
    },
    {
     "name": "stdout",
     "output_type": "stream",
     "text": [
      "https://search.naver.com/search.naver?where=news&sm=tab_pge&query=\"카카오페이\"&photo=0&field=0&pd=3&ds=2017.09.01&de=2017.10.01&cluster_rank=30&mynews=0&office_type=0&office_section_code=0&news_office_checked=&nso=so:r,p:from20190117to20200315,a:all&start=1601\n"
     ]
    },
    {
     "name": "stderr",
     "output_type": "stream",
     "text": [
      "  0%|                                                                                           | 0/80 [00:00<?, ?it/s]\n"
     ]
    },
    {
     "name": "stdout",
     "output_type": "stream",
     "text": [
      "https://search.naver.com/search.naver?where=news&sm=tab_pge&query=\"카카오페이\"&photo=0&field=0&pd=3&ds=2017.09.01&de=2017.10.01&cluster_rank=30&mynews=0&office_type=0&office_section_code=0&news_office_checked=&nso=so:r,p:from20190117to20200315,a:all&start=2401\n"
     ]
    },
    {
     "name": "stderr",
     "output_type": "stream",
     "text": [
      "  0%|                                                                                           | 0/80 [00:00<?, ?it/s]\n"
     ]
    },
    {
     "name": "stdout",
     "output_type": "stream",
     "text": [
      "https://search.naver.com/search.naver?where=news&sm=tab_pge&query=\"카카오페이\"&photo=0&field=0&pd=3&ds=2017.09.01&de=2017.10.01&cluster_rank=30&mynews=0&office_type=0&office_section_code=0&news_office_checked=&nso=so:r,p:from20190117to20200315,a:all&start=3201\n"
     ]
    },
    {
     "name": "stderr",
     "output_type": "stream",
     "text": [
      "  0%|                                                                                           | 0/80 [00:00<?, ?it/s]\n"
     ]
    },
    {
     "name": "stdout",
     "output_type": "stream",
     "text": [
      "https://search.naver.com/search.naver?where=news&sm=tab_pge&query=\"카카오페이\"&photo=0&field=0&pd=3&ds=2017.10.01&de=2017.11.01&cluster_rank=30&mynews=0&office_type=0&office_section_code=0&news_office_checked=&nso=so:r,p:from20190117to20200315,a:all&start=1\n"
     ]
    },
    {
     "name": "stderr",
     "output_type": "stream",
     "text": [
      "  0%|                                                                                           | 0/80 [00:00<?, ?it/s]\n"
     ]
    },
    {
     "name": "stdout",
     "output_type": "stream",
     "text": [
      "https://search.naver.com/search.naver?where=news&sm=tab_pge&query=\"카카오페이\"&photo=0&field=0&pd=3&ds=2017.10.01&de=2017.11.01&cluster_rank=30&mynews=0&office_type=0&office_section_code=0&news_office_checked=&nso=so:r,p:from20190117to20200315,a:all&start=801\n"
     ]
    },
    {
     "name": "stderr",
     "output_type": "stream",
     "text": [
      "  0%|                                                                                           | 0/80 [00:00<?, ?it/s]\n"
     ]
    },
    {
     "name": "stdout",
     "output_type": "stream",
     "text": [
      "https://search.naver.com/search.naver?where=news&sm=tab_pge&query=\"카카오페이\"&photo=0&field=0&pd=3&ds=2017.10.01&de=2017.11.01&cluster_rank=30&mynews=0&office_type=0&office_section_code=0&news_office_checked=&nso=so:r,p:from20190117to20200315,a:all&start=1601\n"
     ]
    },
    {
     "name": "stderr",
     "output_type": "stream",
     "text": [
      "  0%|                                                                                           | 0/80 [00:00<?, ?it/s]\n"
     ]
    },
    {
     "name": "stdout",
     "output_type": "stream",
     "text": [
      "https://search.naver.com/search.naver?where=news&sm=tab_pge&query=\"카카오페이\"&photo=0&field=0&pd=3&ds=2017.10.01&de=2017.11.01&cluster_rank=30&mynews=0&office_type=0&office_section_code=0&news_office_checked=&nso=so:r,p:from20190117to20200315,a:all&start=2401\n"
     ]
    },
    {
     "name": "stderr",
     "output_type": "stream",
     "text": [
      "  0%|                                                                                           | 0/80 [00:00<?, ?it/s]\n"
     ]
    },
    {
     "name": "stdout",
     "output_type": "stream",
     "text": [
      "https://search.naver.com/search.naver?where=news&sm=tab_pge&query=\"카카오페이\"&photo=0&field=0&pd=3&ds=2017.10.01&de=2017.11.01&cluster_rank=30&mynews=0&office_type=0&office_section_code=0&news_office_checked=&nso=so:r,p:from20190117to20200315,a:all&start=3201\n"
     ]
    },
    {
     "name": "stderr",
     "output_type": "stream",
     "text": [
      " 55%|█████████████████████████████████████████████                                     | 44/80 [03:29<02:51,  4.77s/it]\n"
     ]
    },
    {
     "name": "stdout",
     "output_type": "stream",
     "text": [
      "https://search.naver.com/search.naver?where=news&sm=tab_pge&query=\"카카오페이\"&photo=0&field=0&pd=3&ds=2017.11.01&de=2017.12.01&cluster_rank=30&mynews=0&office_type=0&office_section_code=0&news_office_checked=&nso=so:r,p:from20190117to20200315,a:all&start=441\n"
     ]
    },
    {
     "name": "stderr",
     "output_type": "stream",
     "text": [
      "  0%|                                                                                           | 0/80 [00:00<?, ?it/s]\n"
     ]
    },
    {
     "name": "stdout",
     "output_type": "stream",
     "text": [
      "https://search.naver.com/search.naver?where=news&sm=tab_pge&query=\"카카오페이\"&photo=0&field=0&pd=3&ds=2017.11.01&de=2017.12.01&cluster_rank=30&mynews=0&office_type=0&office_section_code=0&news_office_checked=&nso=so:r,p:from20190117to20200315,a:all&start=801\n"
     ]
    },
    {
     "name": "stderr",
     "output_type": "stream",
     "text": [
      "  0%|                                                                                           | 0/80 [00:00<?, ?it/s]\n"
     ]
    },
    {
     "name": "stdout",
     "output_type": "stream",
     "text": [
      "https://search.naver.com/search.naver?where=news&sm=tab_pge&query=\"카카오페이\"&photo=0&field=0&pd=3&ds=2017.11.01&de=2017.12.01&cluster_rank=30&mynews=0&office_type=0&office_section_code=0&news_office_checked=&nso=so:r,p:from20190117to20200315,a:all&start=1601\n"
     ]
    },
    {
     "name": "stderr",
     "output_type": "stream",
     "text": [
      "  0%|                                                                                           | 0/80 [00:00<?, ?it/s]\n"
     ]
    },
    {
     "name": "stdout",
     "output_type": "stream",
     "text": [
      "https://search.naver.com/search.naver?where=news&sm=tab_pge&query=\"카카오페이\"&photo=0&field=0&pd=3&ds=2017.11.01&de=2017.12.01&cluster_rank=30&mynews=0&office_type=0&office_section_code=0&news_office_checked=&nso=so:r,p:from20190117to20200315,a:all&start=2401\n"
     ]
    },
    {
     "name": "stderr",
     "output_type": "stream",
     "text": [
      "  0%|                                                                                           | 0/80 [00:00<?, ?it/s]\n"
     ]
    },
    {
     "name": "stdout",
     "output_type": "stream",
     "text": [
      "https://search.naver.com/search.naver?where=news&sm=tab_pge&query=\"카카오페이\"&photo=0&field=0&pd=3&ds=2017.11.01&de=2017.12.01&cluster_rank=30&mynews=0&office_type=0&office_section_code=0&news_office_checked=&nso=so:r,p:from20190117to20200315,a:all&start=3201\n"
     ]
    },
    {
     "name": "stderr",
     "output_type": "stream",
     "text": [
      " 35%|████████████████████████████▋                                                     | 28/80 [02:07<03:56,  4.56s/it]\n"
     ]
    },
    {
     "name": "stdout",
     "output_type": "stream",
     "text": [
      "https://search.naver.com/search.naver?where=news&sm=tab_pge&query=\"카카오페이\"&photo=0&field=0&pd=3&ds=2017.12.01&de=2017.12.31&cluster_rank=30&mynews=0&office_type=0&office_section_code=0&news_office_checked=&nso=so:r,p:from20190117to20200315,a:all&start=281\n"
     ]
    },
    {
     "name": "stderr",
     "output_type": "stream",
     "text": [
      "  0%|                                                                                           | 0/80 [00:00<?, ?it/s]\n"
     ]
    },
    {
     "name": "stdout",
     "output_type": "stream",
     "text": [
      "https://search.naver.com/search.naver?where=news&sm=tab_pge&query=\"카카오페이\"&photo=0&field=0&pd=3&ds=2017.12.01&de=2017.12.31&cluster_rank=30&mynews=0&office_type=0&office_section_code=0&news_office_checked=&nso=so:r,p:from20190117to20200315,a:all&start=801\n"
     ]
    },
    {
     "name": "stderr",
     "output_type": "stream",
     "text": [
      "  0%|                                                                                           | 0/80 [00:00<?, ?it/s]\n"
     ]
    },
    {
     "name": "stdout",
     "output_type": "stream",
     "text": [
      "https://search.naver.com/search.naver?where=news&sm=tab_pge&query=\"카카오페이\"&photo=0&field=0&pd=3&ds=2017.12.01&de=2017.12.31&cluster_rank=30&mynews=0&office_type=0&office_section_code=0&news_office_checked=&nso=so:r,p:from20190117to20200315,a:all&start=1601\n"
     ]
    },
    {
     "name": "stderr",
     "output_type": "stream",
     "text": [
      "  0%|                                                                                           | 0/80 [00:00<?, ?it/s]\n"
     ]
    },
    {
     "name": "stdout",
     "output_type": "stream",
     "text": [
      "https://search.naver.com/search.naver?where=news&sm=tab_pge&query=\"카카오페이\"&photo=0&field=0&pd=3&ds=2017.12.01&de=2017.12.31&cluster_rank=30&mynews=0&office_type=0&office_section_code=0&news_office_checked=&nso=so:r,p:from20190117to20200315,a:all&start=2401\n"
     ]
    },
    {
     "name": "stderr",
     "output_type": "stream",
     "text": [
      "  0%|                                                                                           | 0/80 [00:00<?, ?it/s]\n"
     ]
    },
    {
     "name": "stdout",
     "output_type": "stream",
     "text": [
      "https://search.naver.com/search.naver?where=news&sm=tab_pge&query=\"카카오페이\"&photo=0&field=0&pd=3&ds=2017.12.01&de=2017.12.31&cluster_rank=30&mynews=0&office_type=0&office_section_code=0&news_office_checked=&nso=so:r,p:from20190117to20200315,a:all&start=3201\n"
     ]
    },
    {
     "name": "stderr",
     "output_type": "stream",
     "text": [
      " 64%|████████████████████████████████████████████████████▎                             | 51/80 [03:39<02:05,  4.31s/it]\n"
     ]
    },
    {
     "name": "stdout",
     "output_type": "stream",
     "text": [
      "https://search.naver.com/search.naver?where=news&sm=tab_pge&query=\"카카오페이\"&photo=0&field=0&pd=3&ds=2018.01.01&de=2018.02.01&cluster_rank=30&mynews=0&office_type=0&office_section_code=0&news_office_checked=&nso=so:r,p:from20190117to20200315,a:all&start=511\n"
     ]
    },
    {
     "name": "stderr",
     "output_type": "stream",
     "text": [
      "  0%|                                                                                           | 0/80 [00:00<?, ?it/s]\n"
     ]
    },
    {
     "name": "stdout",
     "output_type": "stream",
     "text": [
      "https://search.naver.com/search.naver?where=news&sm=tab_pge&query=\"카카오페이\"&photo=0&field=0&pd=3&ds=2018.01.01&de=2018.02.01&cluster_rank=30&mynews=0&office_type=0&office_section_code=0&news_office_checked=&nso=so:r,p:from20190117to20200315,a:all&start=801\n"
     ]
    },
    {
     "name": "stderr",
     "output_type": "stream",
     "text": [
      "  0%|                                                                                           | 0/80 [00:00<?, ?it/s]\n"
     ]
    },
    {
     "name": "stdout",
     "output_type": "stream",
     "text": [
      "https://search.naver.com/search.naver?where=news&sm=tab_pge&query=\"카카오페이\"&photo=0&field=0&pd=3&ds=2018.01.01&de=2018.02.01&cluster_rank=30&mynews=0&office_type=0&office_section_code=0&news_office_checked=&nso=so:r,p:from20190117to20200315,a:all&start=1601\n"
     ]
    },
    {
     "name": "stderr",
     "output_type": "stream",
     "text": [
      "  0%|                                                                                           | 0/80 [00:00<?, ?it/s]\n"
     ]
    },
    {
     "name": "stdout",
     "output_type": "stream",
     "text": [
      "https://search.naver.com/search.naver?where=news&sm=tab_pge&query=\"카카오페이\"&photo=0&field=0&pd=3&ds=2018.01.01&de=2018.02.01&cluster_rank=30&mynews=0&office_type=0&office_section_code=0&news_office_checked=&nso=so:r,p:from20190117to20200315,a:all&start=2401\n"
     ]
    },
    {
     "name": "stderr",
     "output_type": "stream",
     "text": [
      "  0%|                                                                                           | 0/80 [00:00<?, ?it/s]\n"
     ]
    },
    {
     "name": "stdout",
     "output_type": "stream",
     "text": [
      "https://search.naver.com/search.naver?where=news&sm=tab_pge&query=\"카카오페이\"&photo=0&field=0&pd=3&ds=2018.01.01&de=2018.02.01&cluster_rank=30&mynews=0&office_type=0&office_section_code=0&news_office_checked=&nso=so:r,p:from20190117to20200315,a:all&start=3201\n"
     ]
    },
    {
     "name": "stderr",
     "output_type": "stream",
     "text": [
      " 48%|██████████████████████████████████████▉                                           | 38/80 [02:55<03:13,  4.61s/it]\n"
     ]
    },
    {
     "name": "stdout",
     "output_type": "stream",
     "text": [
      "https://search.naver.com/search.naver?where=news&sm=tab_pge&query=\"카카오페이\"&photo=0&field=0&pd=3&ds=2018.02.01&de=2018.03.01&cluster_rank=30&mynews=0&office_type=0&office_section_code=0&news_office_checked=&nso=so:r,p:from20190117to20200315,a:all&start=381\n"
     ]
    },
    {
     "name": "stderr",
     "output_type": "stream",
     "text": [
      "  0%|                                                                                           | 0/80 [00:00<?, ?it/s]\n"
     ]
    },
    {
     "name": "stdout",
     "output_type": "stream",
     "text": [
      "https://search.naver.com/search.naver?where=news&sm=tab_pge&query=\"카카오페이\"&photo=0&field=0&pd=3&ds=2018.02.01&de=2018.03.01&cluster_rank=30&mynews=0&office_type=0&office_section_code=0&news_office_checked=&nso=so:r,p:from20190117to20200315,a:all&start=801\n"
     ]
    },
    {
     "name": "stderr",
     "output_type": "stream",
     "text": [
      "  0%|                                                                                           | 0/80 [00:00<?, ?it/s]\n"
     ]
    },
    {
     "name": "stdout",
     "output_type": "stream",
     "text": [
      "https://search.naver.com/search.naver?where=news&sm=tab_pge&query=\"카카오페이\"&photo=0&field=0&pd=3&ds=2018.02.01&de=2018.03.01&cluster_rank=30&mynews=0&office_type=0&office_section_code=0&news_office_checked=&nso=so:r,p:from20190117to20200315,a:all&start=1601\n"
     ]
    },
    {
     "name": "stderr",
     "output_type": "stream",
     "text": [
      "  0%|                                                                                           | 0/80 [00:00<?, ?it/s]\n"
     ]
    },
    {
     "name": "stdout",
     "output_type": "stream",
     "text": [
      "https://search.naver.com/search.naver?where=news&sm=tab_pge&query=\"카카오페이\"&photo=0&field=0&pd=3&ds=2018.02.01&de=2018.03.01&cluster_rank=30&mynews=0&office_type=0&office_section_code=0&news_office_checked=&nso=so:r,p:from20190117to20200315,a:all&start=2401\n"
     ]
    },
    {
     "name": "stderr",
     "output_type": "stream",
     "text": [
      "  0%|                                                                                           | 0/80 [00:00<?, ?it/s]\n"
     ]
    },
    {
     "name": "stdout",
     "output_type": "stream",
     "text": [
      "https://search.naver.com/search.naver?where=news&sm=tab_pge&query=\"카카오페이\"&photo=0&field=0&pd=3&ds=2018.02.01&de=2018.03.01&cluster_rank=30&mynews=0&office_type=0&office_section_code=0&news_office_checked=&nso=so:r,p:from20190117to20200315,a:all&start=3201\n"
     ]
    },
    {
     "name": "stderr",
     "output_type": "stream",
     "text": [
      " 39%|███████████████████████████████▊                                                  | 31/80 [02:17<03:37,  4.43s/it]\n"
     ]
    },
    {
     "name": "stdout",
     "output_type": "stream",
     "text": [
      "https://search.naver.com/search.naver?where=news&sm=tab_pge&query=\"카카오페이\"&photo=0&field=0&pd=3&ds=2018.03.01&de=2018.04.01&cluster_rank=30&mynews=0&office_type=0&office_section_code=0&news_office_checked=&nso=so:r,p:from20190117to20200315,a:all&start=311\n"
     ]
    },
    {
     "name": "stderr",
     "output_type": "stream",
     "text": [
      "  0%|                                                                                           | 0/80 [00:00<?, ?it/s]\n"
     ]
    },
    {
     "name": "stdout",
     "output_type": "stream",
     "text": [
      "https://search.naver.com/search.naver?where=news&sm=tab_pge&query=\"카카오페이\"&photo=0&field=0&pd=3&ds=2018.03.01&de=2018.04.01&cluster_rank=30&mynews=0&office_type=0&office_section_code=0&news_office_checked=&nso=so:r,p:from20190117to20200315,a:all&start=801\n"
     ]
    },
    {
     "name": "stderr",
     "output_type": "stream",
     "text": [
      "  0%|                                                                                           | 0/80 [00:00<?, ?it/s]\n"
     ]
    },
    {
     "name": "stdout",
     "output_type": "stream",
     "text": [
      "https://search.naver.com/search.naver?where=news&sm=tab_pge&query=\"카카오페이\"&photo=0&field=0&pd=3&ds=2018.03.01&de=2018.04.01&cluster_rank=30&mynews=0&office_type=0&office_section_code=0&news_office_checked=&nso=so:r,p:from20190117to20200315,a:all&start=1601\n"
     ]
    },
    {
     "name": "stderr",
     "output_type": "stream",
     "text": [
      "  0%|                                                                                           | 0/80 [00:00<?, ?it/s]\n"
     ]
    },
    {
     "name": "stdout",
     "output_type": "stream",
     "text": [
      "https://search.naver.com/search.naver?where=news&sm=tab_pge&query=\"카카오페이\"&photo=0&field=0&pd=3&ds=2018.03.01&de=2018.04.01&cluster_rank=30&mynews=0&office_type=0&office_section_code=0&news_office_checked=&nso=so:r,p:from20190117to20200315,a:all&start=2401\n"
     ]
    },
    {
     "name": "stderr",
     "output_type": "stream",
     "text": [
      "  0%|                                                                                           | 0/80 [00:00<?, ?it/s]\n"
     ]
    },
    {
     "name": "stdout",
     "output_type": "stream",
     "text": [
      "https://search.naver.com/search.naver?where=news&sm=tab_pge&query=\"카카오페이\"&photo=0&field=0&pd=3&ds=2018.03.01&de=2018.04.01&cluster_rank=30&mynews=0&office_type=0&office_section_code=0&news_office_checked=&nso=so:r,p:from20190117to20200315,a:all&start=3201\n"
     ]
    },
    {
     "name": "stderr",
     "output_type": "stream",
     "text": [
      " 92%|███████████████████████████████████████████████████████████████████████████▊      | 74/80 [04:53<00:23,  3.97s/it]\n"
     ]
    },
    {
     "name": "stdout",
     "output_type": "stream",
     "text": [
      "https://search.naver.com/search.naver?where=news&sm=tab_pge&query=\"카카오페이\"&photo=0&field=0&pd=3&ds=2018.04.01&de=2018.05.01&cluster_rank=30&mynews=0&office_type=0&office_section_code=0&news_office_checked=&nso=so:r,p:from20190117to20200315,a:all&start=741\n"
     ]
    },
    {
     "name": "stderr",
     "output_type": "stream",
     "text": [
      "  0%|                                                                                           | 0/80 [00:00<?, ?it/s]\n"
     ]
    },
    {
     "name": "stdout",
     "output_type": "stream",
     "text": [
      "https://search.naver.com/search.naver?where=news&sm=tab_pge&query=\"카카오페이\"&photo=0&field=0&pd=3&ds=2018.04.01&de=2018.05.01&cluster_rank=30&mynews=0&office_type=0&office_section_code=0&news_office_checked=&nso=so:r,p:from20190117to20200315,a:all&start=801\n"
     ]
    },
    {
     "name": "stderr",
     "output_type": "stream",
     "text": [
      "  0%|                                                                                           | 0/80 [00:00<?, ?it/s]\n"
     ]
    },
    {
     "name": "stdout",
     "output_type": "stream",
     "text": [
      "https://search.naver.com/search.naver?where=news&sm=tab_pge&query=\"카카오페이\"&photo=0&field=0&pd=3&ds=2018.04.01&de=2018.05.01&cluster_rank=30&mynews=0&office_type=0&office_section_code=0&news_office_checked=&nso=so:r,p:from20190117to20200315,a:all&start=1601\n"
     ]
    },
    {
     "name": "stderr",
     "output_type": "stream",
     "text": [
      "  0%|                                                                                           | 0/80 [00:00<?, ?it/s]\n"
     ]
    },
    {
     "name": "stdout",
     "output_type": "stream",
     "text": [
      "https://search.naver.com/search.naver?where=news&sm=tab_pge&query=\"카카오페이\"&photo=0&field=0&pd=3&ds=2018.04.01&de=2018.05.01&cluster_rank=30&mynews=0&office_type=0&office_section_code=0&news_office_checked=&nso=so:r,p:from20190117to20200315,a:all&start=2401\n"
     ]
    },
    {
     "name": "stderr",
     "output_type": "stream",
     "text": [
      "  0%|                                                                                           | 0/80 [00:00<?, ?it/s]\n"
     ]
    },
    {
     "name": "stdout",
     "output_type": "stream",
     "text": [
      "https://search.naver.com/search.naver?where=news&sm=tab_pge&query=\"카카오페이\"&photo=0&field=0&pd=3&ds=2018.04.01&de=2018.05.01&cluster_rank=30&mynews=0&office_type=0&office_section_code=0&news_office_checked=&nso=so:r,p:from20190117to20200315,a:all&start=3201\n"
     ]
    },
    {
     "name": "stderr",
     "output_type": "stream",
     "text": [
      " 90%|█████████████████████████████████████████████████████████████████████████▊        | 72/80 [04:47<00:31,  3.99s/it]\n"
     ]
    },
    {
     "name": "stdout",
     "output_type": "stream",
     "text": [
      "https://search.naver.com/search.naver?where=news&sm=tab_pge&query=\"카카오페이\"&photo=0&field=0&pd=3&ds=2018.05.01&de=2018.06.01&cluster_rank=30&mynews=0&office_type=0&office_section_code=0&news_office_checked=&nso=so:r,p:from20190117to20200315,a:all&start=721\n"
     ]
    },
    {
     "name": "stderr",
     "output_type": "stream",
     "text": [
      "  0%|                                                                                           | 0/80 [00:00<?, ?it/s]\n"
     ]
    },
    {
     "name": "stdout",
     "output_type": "stream",
     "text": [
      "https://search.naver.com/search.naver?where=news&sm=tab_pge&query=\"카카오페이\"&photo=0&field=0&pd=3&ds=2018.05.01&de=2018.06.01&cluster_rank=30&mynews=0&office_type=0&office_section_code=0&news_office_checked=&nso=so:r,p:from20190117to20200315,a:all&start=801\n"
     ]
    },
    {
     "name": "stderr",
     "output_type": "stream",
     "text": [
      "  0%|                                                                                           | 0/80 [00:00<?, ?it/s]\n"
     ]
    },
    {
     "name": "stdout",
     "output_type": "stream",
     "text": [
      "https://search.naver.com/search.naver?where=news&sm=tab_pge&query=\"카카오페이\"&photo=0&field=0&pd=3&ds=2018.05.01&de=2018.06.01&cluster_rank=30&mynews=0&office_type=0&office_section_code=0&news_office_checked=&nso=so:r,p:from20190117to20200315,a:all&start=1601\n"
     ]
    },
    {
     "name": "stderr",
     "output_type": "stream",
     "text": [
      "  0%|                                                                                           | 0/80 [00:00<?, ?it/s]\n"
     ]
    },
    {
     "name": "stdout",
     "output_type": "stream",
     "text": [
      "https://search.naver.com/search.naver?where=news&sm=tab_pge&query=\"카카오페이\"&photo=0&field=0&pd=3&ds=2018.05.01&de=2018.06.01&cluster_rank=30&mynews=0&office_type=0&office_section_code=0&news_office_checked=&nso=so:r,p:from20190117to20200315,a:all&start=2401\n"
     ]
    },
    {
     "name": "stderr",
     "output_type": "stream",
     "text": [
      "  0%|                                                                                           | 0/80 [00:00<?, ?it/s]\n"
     ]
    },
    {
     "name": "stdout",
     "output_type": "stream",
     "text": [
      "https://search.naver.com/search.naver?where=news&sm=tab_pge&query=\"카카오페이\"&photo=0&field=0&pd=3&ds=2018.05.01&de=2018.06.01&cluster_rank=30&mynews=0&office_type=0&office_section_code=0&news_office_checked=&nso=so:r,p:from20190117to20200315,a:all&start=3201\n"
     ]
    },
    {
     "name": "stderr",
     "output_type": "stream",
     "text": [
      " 59%|████████████████████████████████████████████████▏                                 | 47/80 [03:17<02:18,  4.21s/it]\n"
     ]
    },
    {
     "name": "stdout",
     "output_type": "stream",
     "text": [
      "https://search.naver.com/search.naver?where=news&sm=tab_pge&query=\"카카오페이\"&photo=0&field=0&pd=3&ds=2018.06.01&de=2018.07.01&cluster_rank=30&mynews=0&office_type=0&office_section_code=0&news_office_checked=&nso=so:r,p:from20190117to20200315,a:all&start=471\n"
     ]
    },
    {
     "name": "stderr",
     "output_type": "stream",
     "text": [
      "  0%|                                                                                           | 0/80 [00:00<?, ?it/s]\n"
     ]
    },
    {
     "name": "stdout",
     "output_type": "stream",
     "text": [
      "https://search.naver.com/search.naver?where=news&sm=tab_pge&query=\"카카오페이\"&photo=0&field=0&pd=3&ds=2018.06.01&de=2018.07.01&cluster_rank=30&mynews=0&office_type=0&office_section_code=0&news_office_checked=&nso=so:r,p:from20190117to20200315,a:all&start=801\n"
     ]
    },
    {
     "name": "stderr",
     "output_type": "stream",
     "text": [
      "  0%|                                                                                           | 0/80 [00:00<?, ?it/s]\n"
     ]
    },
    {
     "name": "stdout",
     "output_type": "stream",
     "text": [
      "https://search.naver.com/search.naver?where=news&sm=tab_pge&query=\"카카오페이\"&photo=0&field=0&pd=3&ds=2018.06.01&de=2018.07.01&cluster_rank=30&mynews=0&office_type=0&office_section_code=0&news_office_checked=&nso=so:r,p:from20190117to20200315,a:all&start=1601\n"
     ]
    },
    {
     "name": "stderr",
     "output_type": "stream",
     "text": [
      "  0%|                                                                                           | 0/80 [00:00<?, ?it/s]\n"
     ]
    },
    {
     "name": "stdout",
     "output_type": "stream",
     "text": [
      "https://search.naver.com/search.naver?where=news&sm=tab_pge&query=\"카카오페이\"&photo=0&field=0&pd=3&ds=2018.06.01&de=2018.07.01&cluster_rank=30&mynews=0&office_type=0&office_section_code=0&news_office_checked=&nso=so:r,p:from20190117to20200315,a:all&start=2401\n"
     ]
    },
    {
     "name": "stderr",
     "output_type": "stream",
     "text": [
      "  0%|                                                                                           | 0/80 [00:00<?, ?it/s]\n"
     ]
    },
    {
     "name": "stdout",
     "output_type": "stream",
     "text": [
      "https://search.naver.com/search.naver?where=news&sm=tab_pge&query=\"카카오페이\"&photo=0&field=0&pd=3&ds=2018.06.01&de=2018.07.01&cluster_rank=30&mynews=0&office_type=0&office_section_code=0&news_office_checked=&nso=so:r,p:from20190117to20200315,a:all&start=3201\n"
     ]
    },
    {
     "name": "stderr",
     "output_type": "stream",
     "text": [
      "100%|██████████████████████████████████████████████████████████████████████████████████| 80/80 [06:07<00:00,  4.59s/it]\n",
      "  6%|█████▏                                                                             | 5/80 [00:09<02:18,  1.85s/it]\n"
     ]
    },
    {
     "name": "stdout",
     "output_type": "stream",
     "text": [
      "https://search.naver.com/search.naver?where=news&sm=tab_pge&query=\"카카오페이\"&photo=0&field=0&pd=3&ds=2018.07.01&de=2018.08.01&cluster_rank=30&mynews=0&office_type=0&office_section_code=0&news_office_checked=&nso=so:r,p:from20190117to20200315,a:all&start=851\n"
     ]
    },
    {
     "name": "stderr",
     "output_type": "stream",
     "text": [
      "  0%|                                                                                           | 0/80 [00:00<?, ?it/s]\n"
     ]
    },
    {
     "name": "stdout",
     "output_type": "stream",
     "text": [
      "https://search.naver.com/search.naver?where=news&sm=tab_pge&query=\"카카오페이\"&photo=0&field=0&pd=3&ds=2018.07.01&de=2018.08.01&cluster_rank=30&mynews=0&office_type=0&office_section_code=0&news_office_checked=&nso=so:r,p:from20190117to20200315,a:all&start=1601\n"
     ]
    },
    {
     "name": "stderr",
     "output_type": "stream",
     "text": [
      "  0%|                                                                                           | 0/80 [00:00<?, ?it/s]\n"
     ]
    },
    {
     "name": "stdout",
     "output_type": "stream",
     "text": [
      "https://search.naver.com/search.naver?where=news&sm=tab_pge&query=\"카카오페이\"&photo=0&field=0&pd=3&ds=2018.07.01&de=2018.08.01&cluster_rank=30&mynews=0&office_type=0&office_section_code=0&news_office_checked=&nso=so:r,p:from20190117to20200315,a:all&start=2401\n"
     ]
    },
    {
     "name": "stderr",
     "output_type": "stream",
     "text": [
      "  0%|                                                                                           | 0/80 [00:00<?, ?it/s]\n"
     ]
    },
    {
     "name": "stdout",
     "output_type": "stream",
     "text": [
      "https://search.naver.com/search.naver?where=news&sm=tab_pge&query=\"카카오페이\"&photo=0&field=0&pd=3&ds=2018.07.01&de=2018.08.01&cluster_rank=30&mynews=0&office_type=0&office_section_code=0&news_office_checked=&nso=so:r,p:from20190117to20200315,a:all&start=3201\n"
     ]
    },
    {
     "name": "stderr",
     "output_type": "stream",
     "text": [
      "100%|██████████████████████████████████████████████████████████████████████████████████| 80/80 [05:35<00:00,  4.20s/it]\n",
      " 18%|██████████████▎                                                                   | 14/80 [00:46<03:39,  3.33s/it]\n"
     ]
    },
    {
     "name": "stdout",
     "output_type": "stream",
     "text": [
      "https://search.naver.com/search.naver?where=news&sm=tab_pge&query=\"카카오페이\"&photo=0&field=0&pd=3&ds=2018.08.01&de=2018.09.01&cluster_rank=30&mynews=0&office_type=0&office_section_code=0&news_office_checked=&nso=so:r,p:from20190117to20200315,a:all&start=941\n"
     ]
    },
    {
     "name": "stderr",
     "output_type": "stream",
     "text": [
      "  0%|                                                                                           | 0/80 [00:00<?, ?it/s]"
     ]
    },
    {
     "name": "stdout",
     "output_type": "stream",
     "text": [
      "https://search.naver.com/search.naver?where=news&sm=tab_pge&query=\"카카오페이\"&photo=0&field=0&pd=3&ds=2018.08.01&de=2018.09.01&cluster_rank=30&mynews=0&office_type=0&office_section_code=0&news_office_checked=&nso=so:r,p:from20190117to20200315,a:all&start=1601"
     ]
    },
    {
     "name": "stderr",
     "output_type": "stream",
     "text": [
      "  0%|                                                                                           | 0/80 [00:00<?, ?it/s]\n"
     ]
    },
    {
     "name": "stdout",
     "output_type": "stream",
     "text": [
      "\n"
     ]
    },
    {
     "name": "stderr",
     "output_type": "stream",
     "text": [
      "  0%|                                                                                           | 0/80 [00:00<?, ?it/s]\n"
     ]
    },
    {
     "name": "stdout",
     "output_type": "stream",
     "text": [
      "https://search.naver.com/search.naver?where=news&sm=tab_pge&query=\"카카오페이\"&photo=0&field=0&pd=3&ds=2018.08.01&de=2018.09.01&cluster_rank=30&mynews=0&office_type=0&office_section_code=0&news_office_checked=&nso=so:r,p:from20190117to20200315,a:all&start=2401\n"
     ]
    },
    {
     "name": "stderr",
     "output_type": "stream",
     "text": [
      "  0%|                                                                                           | 0/80 [00:00<?, ?it/s]\n"
     ]
    },
    {
     "name": "stdout",
     "output_type": "stream",
     "text": [
      "https://search.naver.com/search.naver?where=news&sm=tab_pge&query=\"카카오페이\"&photo=0&field=0&pd=3&ds=2018.08.01&de=2018.09.01&cluster_rank=30&mynews=0&office_type=0&office_section_code=0&news_office_checked=&nso=so:r,p:from20190117to20200315,a:all&start=3201\n"
     ]
    },
    {
     "name": "stderr",
     "output_type": "stream",
     "text": [
      " 85%|█████████████████████████████████████████████████████████████████████▋            | 68/80 [04:25<00:46,  3.90s/it]\n"
     ]
    },
    {
     "name": "stdout",
     "output_type": "stream",
     "text": [
      "https://search.naver.com/search.naver?where=news&sm=tab_pge&query=\"카카오페이\"&photo=0&field=0&pd=3&ds=2018.09.01&de=2018.10.01&cluster_rank=30&mynews=0&office_type=0&office_section_code=0&news_office_checked=&nso=so:r,p:from20190117to20200315,a:all&start=681\n"
     ]
    },
    {
     "name": "stderr",
     "output_type": "stream",
     "text": [
      "  0%|                                                                                           | 0/80 [00:00<?, ?it/s]\n"
     ]
    },
    {
     "name": "stdout",
     "output_type": "stream",
     "text": [
      "https://search.naver.com/search.naver?where=news&sm=tab_pge&query=\"카카오페이\"&photo=0&field=0&pd=3&ds=2018.09.01&de=2018.10.01&cluster_rank=30&mynews=0&office_type=0&office_section_code=0&news_office_checked=&nso=so:r,p:from20190117to20200315,a:all&start=801\n"
     ]
    },
    {
     "name": "stderr",
     "output_type": "stream",
     "text": [
      "  0%|                                                                                           | 0/80 [00:00<?, ?it/s]\n"
     ]
    },
    {
     "name": "stdout",
     "output_type": "stream",
     "text": [
      "https://search.naver.com/search.naver?where=news&sm=tab_pge&query=\"카카오페이\"&photo=0&field=0&pd=3&ds=2018.09.01&de=2018.10.01&cluster_rank=30&mynews=0&office_type=0&office_section_code=0&news_office_checked=&nso=so:r,p:from20190117to20200315,a:all&start=1601\n"
     ]
    },
    {
     "name": "stderr",
     "output_type": "stream",
     "text": [
      "  0%|                                                                                           | 0/80 [00:00<?, ?it/s]\n"
     ]
    },
    {
     "name": "stdout",
     "output_type": "stream",
     "text": [
      "https://search.naver.com/search.naver?where=news&sm=tab_pge&query=\"카카오페이\"&photo=0&field=0&pd=3&ds=2018.09.01&de=2018.10.01&cluster_rank=30&mynews=0&office_type=0&office_section_code=0&news_office_checked=&nso=so:r,p:from20190117to20200315,a:all&start=2401\n"
     ]
    },
    {
     "name": "stderr",
     "output_type": "stream",
     "text": [
      "  0%|                                                                                           | 0/80 [00:00<?, ?it/s]\n"
     ]
    },
    {
     "name": "stdout",
     "output_type": "stream",
     "text": [
      "https://search.naver.com/search.naver?where=news&sm=tab_pge&query=\"카카오페이\"&photo=0&field=0&pd=3&ds=2018.09.01&de=2018.10.01&cluster_rank=30&mynews=0&office_type=0&office_section_code=0&news_office_checked=&nso=so:r,p:from20190117to20200315,a:all&start=3201\n"
     ]
    },
    {
     "name": "stderr",
     "output_type": "stream",
     "text": [
      " 91%|██████████████████████████████████████████████████████████████████████████▊       | 73/80 [04:52<00:28,  4.01s/it]\n"
     ]
    },
    {
     "name": "stdout",
     "output_type": "stream",
     "text": [
      "https://search.naver.com/search.naver?where=news&sm=tab_pge&query=\"카카오페이\"&photo=0&field=0&pd=3&ds=2018.10.01&de=2018.11.01&cluster_rank=30&mynews=0&office_type=0&office_section_code=0&news_office_checked=&nso=so:r,p:from20190117to20200315,a:all&start=731\n"
     ]
    },
    {
     "name": "stderr",
     "output_type": "stream",
     "text": [
      "  0%|                                                                                           | 0/80 [00:00<?, ?it/s]\n"
     ]
    },
    {
     "name": "stdout",
     "output_type": "stream",
     "text": [
      "https://search.naver.com/search.naver?where=news&sm=tab_pge&query=\"카카오페이\"&photo=0&field=0&pd=3&ds=2018.10.01&de=2018.11.01&cluster_rank=30&mynews=0&office_type=0&office_section_code=0&news_office_checked=&nso=so:r,p:from20190117to20200315,a:all&start=801\n"
     ]
    },
    {
     "name": "stderr",
     "output_type": "stream",
     "text": [
      "  0%|                                                                                           | 0/80 [00:00<?, ?it/s]\n"
     ]
    },
    {
     "name": "stdout",
     "output_type": "stream",
     "text": [
      "https://search.naver.com/search.naver?where=news&sm=tab_pge&query=\"카카오페이\"&photo=0&field=0&pd=3&ds=2018.10.01&de=2018.11.01&cluster_rank=30&mynews=0&office_type=0&office_section_code=0&news_office_checked=&nso=so:r,p:from20190117to20200315,a:all&start=1601\n"
     ]
    },
    {
     "name": "stderr",
     "output_type": "stream",
     "text": [
      "  0%|                                                                                           | 0/80 [00:00<?, ?it/s]\n"
     ]
    },
    {
     "name": "stdout",
     "output_type": "stream",
     "text": [
      "https://search.naver.com/search.naver?where=news&sm=tab_pge&query=\"카카오페이\"&photo=0&field=0&pd=3&ds=2018.10.01&de=2018.11.01&cluster_rank=30&mynews=0&office_type=0&office_section_code=0&news_office_checked=&nso=so:r,p:from20190117to20200315,a:all&start=2401\n"
     ]
    },
    {
     "name": "stderr",
     "output_type": "stream",
     "text": [
      "  0%|                                                                                           | 0/80 [00:00<?, ?it/s]\n"
     ]
    },
    {
     "name": "stdout",
     "output_type": "stream",
     "text": [
      "https://search.naver.com/search.naver?where=news&sm=tab_pge&query=\"카카오페이\"&photo=0&field=0&pd=3&ds=2018.10.01&de=2018.11.01&cluster_rank=30&mynews=0&office_type=0&office_section_code=0&news_office_checked=&nso=so:r,p:from20190117to20200315,a:all&start=3201\n"
     ]
    },
    {
     "name": "stderr",
     "output_type": "stream",
     "text": [
      "100%|██████████████████████████████████████████████████████████████████████████████████| 80/80 [05:42<00:00,  4.28s/it]\n",
      " 42%|██████████████████████████████████▊                                               | 34/80 [01:56<02:37,  3.43s/it]\n"
     ]
    },
    {
     "name": "stdout",
     "output_type": "stream",
     "text": [
      "https://search.naver.com/search.naver?where=news&sm=tab_pge&query=\"카카오페이\"&photo=0&field=0&pd=3&ds=2018.11.01&de=2018.12.01&cluster_rank=30&mynews=0&office_type=0&office_section_code=0&news_office_checked=&nso=so:r,p:from20190117to20200315,a:all&start=1141\n"
     ]
    },
    {
     "name": "stderr",
     "output_type": "stream",
     "text": [
      "  0%|                                                                                           | 0/80 [00:00<?, ?it/s]\n"
     ]
    },
    {
     "name": "stdout",
     "output_type": "stream",
     "text": [
      "https://search.naver.com/search.naver?where=news&sm=tab_pge&query=\"카카오페이\"&photo=0&field=0&pd=3&ds=2018.11.01&de=2018.12.01&cluster_rank=30&mynews=0&office_type=0&office_section_code=0&news_office_checked=&nso=so:r,p:from20190117to20200315,a:all&start=1601\n"
     ]
    },
    {
     "name": "stderr",
     "output_type": "stream",
     "text": [
      "  0%|                                                                                           | 0/80 [00:00<?, ?it/s]\n"
     ]
    },
    {
     "name": "stdout",
     "output_type": "stream",
     "text": [
      "https://search.naver.com/search.naver?where=news&sm=tab_pge&query=\"카카오페이\"&photo=0&field=0&pd=3&ds=2018.11.01&de=2018.12.01&cluster_rank=30&mynews=0&office_type=0&office_section_code=0&news_office_checked=&nso=so:r,p:from20190117to20200315,a:all&start=2401\n"
     ]
    },
    {
     "name": "stderr",
     "output_type": "stream",
     "text": [
      "  0%|                                                                                           | 0/80 [00:00<?, ?it/s]\n"
     ]
    },
    {
     "name": "stdout",
     "output_type": "stream",
     "text": [
      "https://search.naver.com/search.naver?where=news&sm=tab_pge&query=\"카카오페이\"&photo=0&field=0&pd=3&ds=2018.11.01&de=2018.12.01&cluster_rank=30&mynews=0&office_type=0&office_section_code=0&news_office_checked=&nso=so:r,p:from20190117to20200315,a:all&start=3201\n"
     ]
    },
    {
     "name": "stderr",
     "output_type": "stream",
     "text": [
      " 91%|██████████████████████████████████████████████████████████████████████████▊       | 73/80 [05:25<00:31,  4.46s/it]\n"
     ]
    },
    {
     "name": "stdout",
     "output_type": "stream",
     "text": [
      "https://search.naver.com/search.naver?where=news&sm=tab_pge&query=\"카카오페이\"&photo=0&field=0&pd=3&ds=2018.12.01&de=2018.12.31&cluster_rank=30&mynews=0&office_type=0&office_section_code=0&news_office_checked=&nso=so:r,p:from20190117to20200315,a:all&start=731\n"
     ]
    },
    {
     "name": "stderr",
     "output_type": "stream",
     "text": [
      " 40%|████████████████████████████████▊                                                 | 32/80 [01:41<02:32,  3.19s/it]\n"
     ]
    },
    {
     "name": "stdout",
     "output_type": "stream",
     "text": [
      "https://search.naver.com/search.naver?where=news&sm=tab_pge&query=\"카카오페이\"&photo=0&field=0&pd=3&ds=2018.12.01&de=2018.12.31&cluster_rank=30&mynews=0&office_type=0&office_section_code=0&news_office_checked=&nso=so:r,p:from20190117to20200315,a:all&start=1121\n"
     ]
    },
    {
     "name": "stderr",
     "output_type": "stream",
     "text": [
      "  0%|                                                                                           | 0/80 [00:00<?, ?it/s]\n"
     ]
    },
    {
     "name": "stdout",
     "output_type": "stream",
     "text": [
      "https://search.naver.com/search.naver?where=news&sm=tab_pge&query=\"카카오페이\"&photo=0&field=0&pd=3&ds=2018.12.01&de=2018.12.31&cluster_rank=30&mynews=0&office_type=0&office_section_code=0&news_office_checked=&nso=so:r,p:from20190117to20200315,a:all&start=1601\n"
     ]
    },
    {
     "name": "stderr",
     "output_type": "stream",
     "text": [
      "  0%|                                                                                           | 0/80 [00:00<?, ?it/s]\n"
     ]
    },
    {
     "name": "stdout",
     "output_type": "stream",
     "text": [
      "https://search.naver.com/search.naver?where=news&sm=tab_pge&query=\"카카오페이\"&photo=0&field=0&pd=3&ds=2018.12.01&de=2018.12.31&cluster_rank=30&mynews=0&office_type=0&office_section_code=0&news_office_checked=&nso=so:r,p:from20190117to20200315,a:all&start=2401\n"
     ]
    },
    {
     "name": "stderr",
     "output_type": "stream",
     "text": [
      "  0%|                                                                                           | 0/80 [00:00<?, ?it/s]\n"
     ]
    },
    {
     "name": "stdout",
     "output_type": "stream",
     "text": [
      "https://search.naver.com/search.naver?where=news&sm=tab_pge&query=\"카카오페이\"&photo=0&field=0&pd=3&ds=2018.12.01&de=2018.12.31&cluster_rank=30&mynews=0&office_type=0&office_section_code=0&news_office_checked=&nso=so:r,p:from20190117to20200315,a:all&start=3201\n"
     ]
    },
    {
     "name": "stderr",
     "output_type": "stream",
     "text": [
      "100%|██████████████████████████████████████████████████████████████████████████████████| 80/80 [05:37<00:00,  4.21s/it]\n",
      " 75%|█████████████████████████████████████████████████████████████▌                    | 60/80 [03:43<01:14,  3.73s/it]\n"
     ]
    },
    {
     "name": "stdout",
     "output_type": "stream",
     "text": [
      "https://search.naver.com/search.naver?where=news&sm=tab_pge&query=\"카카오페이\"&photo=0&field=0&pd=3&ds=2019.01.01&de=2019.02.01&cluster_rank=30&mynews=0&office_type=0&office_section_code=0&news_office_checked=&nso=so:r,p:from20190117to20200315,a:all&start=1401\n"
     ]
    },
    {
     "name": "stderr",
     "output_type": "stream",
     "text": [
      "  0%|                                                                                           | 0/80 [00:00<?, ?it/s]\n"
     ]
    },
    {
     "name": "stdout",
     "output_type": "stream",
     "text": [
      "https://search.naver.com/search.naver?where=news&sm=tab_pge&query=\"카카오페이\"&photo=0&field=0&pd=3&ds=2019.01.01&de=2019.02.01&cluster_rank=30&mynews=0&office_type=0&office_section_code=0&news_office_checked=&nso=so:r,p:from20190117to20200315,a:all&start=1601\n"
     ]
    },
    {
     "name": "stderr",
     "output_type": "stream",
     "text": [
      "  0%|                                                                                           | 0/80 [00:00<?, ?it/s]\n"
     ]
    },
    {
     "name": "stdout",
     "output_type": "stream",
     "text": [
      "https://search.naver.com/search.naver?where=news&sm=tab_pge&query=\"카카오페이\"&photo=0&field=0&pd=3&ds=2019.01.01&de=2019.02.01&cluster_rank=30&mynews=0&office_type=0&office_section_code=0&news_office_checked=&nso=so:r,p:from20190117to20200315,a:all&start=2401\n"
     ]
    },
    {
     "name": "stderr",
     "output_type": "stream",
     "text": [
      "  0%|                                                                                           | 0/80 [00:00<?, ?it/s]\n"
     ]
    },
    {
     "name": "stdout",
     "output_type": "stream",
     "text": [
      "https://search.naver.com/search.naver?where=news&sm=tab_pge&query=\"카카오페이\"&photo=0&field=0&pd=3&ds=2019.01.01&de=2019.02.01&cluster_rank=30&mynews=0&office_type=0&office_section_code=0&news_office_checked=&nso=so:r,p:from20190117to20200315,a:all&start=3201\n"
     ]
    },
    {
     "name": "stderr",
     "output_type": "stream",
     "text": [
      "100%|██████████████████████████████████████████████████████████████████████████████████| 80/80 [05:54<00:00,  4.43s/it]\n",
      "  9%|███████▎                                                                           | 7/80 [00:16<02:46,  2.29s/it]\n"
     ]
    },
    {
     "name": "stdout",
     "output_type": "stream",
     "text": [
      "https://search.naver.com/search.naver?where=news&sm=tab_pge&query=\"카카오페이\"&photo=0&field=0&pd=3&ds=2019.02.01&de=2019.03.01&cluster_rank=30&mynews=0&office_type=0&office_section_code=0&news_office_checked=&nso=so:r,p:from20190117to20200315,a:all&start=871\n"
     ]
    },
    {
     "name": "stderr",
     "output_type": "stream",
     "text": [
      "  0%|                                                                                           | 0/80 [00:00<?, ?it/s]\n"
     ]
    },
    {
     "name": "stdout",
     "output_type": "stream",
     "text": [
      "https://search.naver.com/search.naver?where=news&sm=tab_pge&query=\"카카오페이\"&photo=0&field=0&pd=3&ds=2019.02.01&de=2019.03.01&cluster_rank=30&mynews=0&office_type=0&office_section_code=0&news_office_checked=&nso=so:r,p:from20190117to20200315,a:all&start=1601\n"
     ]
    },
    {
     "name": "stderr",
     "output_type": "stream",
     "text": [
      "  0%|                                                                                           | 0/80 [00:00<?, ?it/s]\n"
     ]
    },
    {
     "name": "stdout",
     "output_type": "stream",
     "text": [
      "https://search.naver.com/search.naver?where=news&sm=tab_pge&query=\"카카오페이\"&photo=0&field=0&pd=3&ds=2019.02.01&de=2019.03.01&cluster_rank=30&mynews=0&office_type=0&office_section_code=0&news_office_checked=&nso=so:r,p:from20190117to20200315,a:all&start=2401\n"
     ]
    },
    {
     "name": "stderr",
     "output_type": "stream",
     "text": [
      "  0%|                                                                                           | 0/80 [00:00<?, ?it/s]\n"
     ]
    },
    {
     "name": "stdout",
     "output_type": "stream",
     "text": [
      "https://search.naver.com/search.naver?where=news&sm=tab_pge&query=\"카카오페이\"&photo=0&field=0&pd=3&ds=2019.02.01&de=2019.03.01&cluster_rank=30&mynews=0&office_type=0&office_section_code=0&news_office_checked=&nso=so:r,p:from20190117to20200315,a:all&start=3201\n"
     ]
    },
    {
     "name": "stderr",
     "output_type": "stream",
     "text": [
      " 98%|███████████████████████████████████████████████████████████████████████████████▉  | 78/80 [04:25<00:06,  3.40s/it]\n"
     ]
    },
    {
     "name": "stdout",
     "output_type": "stream",
     "text": [
      "https://search.naver.com/search.naver?where=news&sm=tab_pge&query=\"카카오페이\"&photo=0&field=0&pd=3&ds=2019.03.01&de=2019.04.01&cluster_rank=30&mynews=0&office_type=0&office_section_code=0&news_office_checked=&nso=so:r,p:from20190117to20200315,a:all&start=781\n"
     ]
    },
    {
     "name": "stderr",
     "output_type": "stream",
     "text": [
      "  0%|                                                                                           | 0/80 [00:00<?, ?it/s]\n"
     ]
    },
    {
     "name": "stdout",
     "output_type": "stream",
     "text": [
      "https://search.naver.com/search.naver?where=news&sm=tab_pge&query=\"카카오페이\"&photo=0&field=0&pd=3&ds=2019.03.01&de=2019.04.01&cluster_rank=30&mynews=0&office_type=0&office_section_code=0&news_office_checked=&nso=so:r,p:from20190117to20200315,a:all&start=801\n"
     ]
    },
    {
     "name": "stderr",
     "output_type": "stream",
     "text": [
      "  0%|                                                                                           | 0/80 [00:00<?, ?it/s]\n"
     ]
    },
    {
     "name": "stdout",
     "output_type": "stream",
     "text": [
      "https://search.naver.com/search.naver?where=news&sm=tab_pge&query=\"카카오페이\"&photo=0&field=0&pd=3&ds=2019.03.01&de=2019.04.01&cluster_rank=30&mynews=0&office_type=0&office_section_code=0&news_office_checked=&nso=so:r,p:from20190117to20200315,a:all&start=1601\n"
     ]
    },
    {
     "name": "stderr",
     "output_type": "stream",
     "text": [
      "  0%|                                                                                           | 0/80 [00:00<?, ?it/s]\n"
     ]
    },
    {
     "name": "stdout",
     "output_type": "stream",
     "text": [
      "https://search.naver.com/search.naver?where=news&sm=tab_pge&query=\"카카오페이\"&photo=0&field=0&pd=3&ds=2019.03.01&de=2019.04.01&cluster_rank=30&mynews=0&office_type=0&office_section_code=0&news_office_checked=&nso=so:r,p:from20190117to20200315,a:all&start=2401\n"
     ]
    },
    {
     "name": "stderr",
     "output_type": "stream",
     "text": [
      "  0%|                                                                                           | 0/80 [00:00<?, ?it/s]\n"
     ]
    },
    {
     "name": "stdout",
     "output_type": "stream",
     "text": [
      "https://search.naver.com/search.naver?where=news&sm=tab_pge&query=\"카카오페이\"&photo=0&field=0&pd=3&ds=2019.03.01&de=2019.04.01&cluster_rank=30&mynews=0&office_type=0&office_section_code=0&news_office_checked=&nso=so:r,p:from20190117to20200315,a:all&start=3201\n"
     ]
    },
    {
     "name": "stderr",
     "output_type": "stream",
     "text": [
      "100%|██████████████████████████████████████████████████████████████████████████████████| 80/80 [05:09<00:00,  3.87s/it]\n",
      "  6%|█████▏                                                                             | 5/80 [00:06<01:31,  1.22s/it]\n"
     ]
    },
    {
     "name": "stdout",
     "output_type": "stream",
     "text": [
      "https://search.naver.com/search.naver?where=news&sm=tab_pge&query=\"카카오페이\"&photo=0&field=0&pd=3&ds=2019.04.01&de=2019.05.01&cluster_rank=30&mynews=0&office_type=0&office_section_code=0&news_office_checked=&nso=so:r,p:from20190117to20200315,a:all&start=851\n"
     ]
    },
    {
     "name": "stderr",
     "output_type": "stream",
     "text": [
      "  0%|                                                                                           | 0/80 [00:00<?, ?it/s]\n"
     ]
    },
    {
     "name": "stdout",
     "output_type": "stream",
     "text": [
      "https://search.naver.com/search.naver?where=news&sm=tab_pge&query=\"카카오페이\"&photo=0&field=0&pd=3&ds=2019.04.01&de=2019.05.01&cluster_rank=30&mynews=0&office_type=0&office_section_code=0&news_office_checked=&nso=so:r,p:from20190117to20200315,a:all&start=1601\n"
     ]
    },
    {
     "name": "stderr",
     "output_type": "stream",
     "text": [
      "  0%|                                                                                           | 0/80 [00:00<?, ?it/s]\n"
     ]
    },
    {
     "name": "stdout",
     "output_type": "stream",
     "text": [
      "https://search.naver.com/search.naver?where=news&sm=tab_pge&query=\"카카오페이\"&photo=0&field=0&pd=3&ds=2019.04.01&de=2019.05.01&cluster_rank=30&mynews=0&office_type=0&office_section_code=0&news_office_checked=&nso=so:r,p:from20190117to20200315,a:all&start=2401\n"
     ]
    },
    {
     "name": "stderr",
     "output_type": "stream",
     "text": [
      "  0%|                                                                                           | 0/80 [00:00<?, ?it/s]\n"
     ]
    },
    {
     "name": "stdout",
     "output_type": "stream",
     "text": [
      "https://search.naver.com/search.naver?where=news&sm=tab_pge&query=\"카카오페이\"&photo=0&field=0&pd=3&ds=2019.04.01&de=2019.05.01&cluster_rank=30&mynews=0&office_type=0&office_section_code=0&news_office_checked=&nso=so:r,p:from20190117to20200315,a:all&start=3201\n"
     ]
    },
    {
     "name": "stderr",
     "output_type": "stream",
     "text": [
      "100%|██████████████████████████████████████████████████████████████████████████████████| 80/80 [05:09<00:00,  3.86s/it]\n",
      " 80%|█████████████████████████████████████████████████████████████████▌                | 64/80 [03:47<00:56,  3.55s/it]\n"
     ]
    },
    {
     "name": "stdout",
     "output_type": "stream",
     "text": [
      "https://search.naver.com/search.naver?where=news&sm=tab_pge&query=\"카카오페이\"&photo=0&field=0&pd=3&ds=2019.05.01&de=2019.06.01&cluster_rank=30&mynews=0&office_type=0&office_section_code=0&news_office_checked=&nso=so:r,p:from20190117to20200315,a:all&start=1441\n"
     ]
    },
    {
     "name": "stderr",
     "output_type": "stream",
     "text": [
      "  0%|                                                                                           | 0/80 [00:00<?, ?it/s]\n"
     ]
    },
    {
     "name": "stdout",
     "output_type": "stream",
     "text": [
      "https://search.naver.com/search.naver?where=news&sm=tab_pge&query=\"카카오페이\"&photo=0&field=0&pd=3&ds=2019.05.01&de=2019.06.01&cluster_rank=30&mynews=0&office_type=0&office_section_code=0&news_office_checked=&nso=so:r,p:from20190117to20200315,a:all&start=1601\n"
     ]
    },
    {
     "name": "stderr",
     "output_type": "stream",
     "text": [
      "  0%|                                                                                           | 0/80 [00:00<?, ?it/s]\n"
     ]
    },
    {
     "name": "stdout",
     "output_type": "stream",
     "text": [
      "https://search.naver.com/search.naver?where=news&sm=tab_pge&query=\"카카오페이\"&photo=0&field=0&pd=3&ds=2019.05.01&de=2019.06.01&cluster_rank=30&mynews=0&office_type=0&office_section_code=0&news_office_checked=&nso=so:r,p:from20190117to20200315,a:all&start=2401\n"
     ]
    },
    {
     "name": "stderr",
     "output_type": "stream",
     "text": [
      "  0%|                                                                                           | 0/80 [00:00<?, ?it/s]\n"
     ]
    },
    {
     "name": "stdout",
     "output_type": "stream",
     "text": [
      "https://search.naver.com/search.naver?where=news&sm=tab_pge&query=\"카카오페이\"&photo=0&field=0&pd=3&ds=2019.05.01&de=2019.06.01&cluster_rank=30&mynews=0&office_type=0&office_section_code=0&news_office_checked=&nso=so:r,p:from20190117to20200315,a:all&start=3201\n"
     ]
    },
    {
     "name": "stderr",
     "output_type": "stream",
     "text": [
      "100%|██████████████████████████████████████████████████████████████████████████████████| 80/80 [05:26<00:00,  4.08s/it]\n",
      " 81%|██████████████████████████████████████████████████████████████████▋               | 65/80 [03:17<00:45,  3.04s/it]\n"
     ]
    },
    {
     "name": "stdout",
     "output_type": "stream",
     "text": [
      "https://search.naver.com/search.naver?where=news&sm=tab_pge&query=\"카카오페이\"&photo=0&field=0&pd=3&ds=2019.06.01&de=2019.07.01&cluster_rank=30&mynews=0&office_type=0&office_section_code=0&news_office_checked=&nso=so:r,p:from20190117to20200315,a:all&start=1451\n"
     ]
    },
    {
     "name": "stderr",
     "output_type": "stream",
     "text": [
      "  0%|                                                                                           | 0/80 [00:00<?, ?it/s]\n"
     ]
    },
    {
     "name": "stdout",
     "output_type": "stream",
     "text": [
      "https://search.naver.com/search.naver?where=news&sm=tab_pge&query=\"카카오페이\"&photo=0&field=0&pd=3&ds=2019.06.01&de=2019.07.01&cluster_rank=30&mynews=0&office_type=0&office_section_code=0&news_office_checked=&nso=so:r,p:from20190117to20200315,a:all&start=1601\n"
     ]
    },
    {
     "name": "stderr",
     "output_type": "stream",
     "text": [
      "  0%|                                                                                           | 0/80 [00:00<?, ?it/s]\n"
     ]
    },
    {
     "name": "stdout",
     "output_type": "stream",
     "text": [
      "https://search.naver.com/search.naver?where=news&sm=tab_pge&query=\"카카오페이\"&photo=0&field=0&pd=3&ds=2019.06.01&de=2019.07.01&cluster_rank=30&mynews=0&office_type=0&office_section_code=0&news_office_checked=&nso=so:r,p:from20190117to20200315,a:all&start=2401\n"
     ]
    },
    {
     "name": "stderr",
     "output_type": "stream",
     "text": [
      "  0%|                                                                                           | 0/80 [00:00<?, ?it/s]\n"
     ]
    },
    {
     "name": "stdout",
     "output_type": "stream",
     "text": [
      "https://search.naver.com/search.naver?where=news&sm=tab_pge&query=\"카카오페이\"&photo=0&field=0&pd=3&ds=2019.06.01&de=2019.07.01&cluster_rank=30&mynews=0&office_type=0&office_section_code=0&news_office_checked=&nso=so:r,p:from20190117to20200315,a:all&start=3201\n"
     ]
    },
    {
     "name": "stderr",
     "output_type": "stream",
     "text": [
      "100%|██████████████████████████████████████████████████████████████████████████████████| 80/80 [05:31<00:00,  4.14s/it]\n",
      " 15%|████████████▎                                                                     | 12/80 [00:50<04:45,  4.20s/it]\n"
     ]
    },
    {
     "name": "stdout",
     "output_type": "stream",
     "text": [
      "https://search.naver.com/search.naver?where=news&sm=tab_pge&query=\"카카오페이\"&photo=0&field=0&pd=3&ds=2019.07.01&de=2019.08.01&cluster_rank=30&mynews=0&office_type=0&office_section_code=0&news_office_checked=&nso=so:r,p:from20190117to20200315,a:all&start=921\n"
     ]
    },
    {
     "name": "stderr",
     "output_type": "stream",
     "text": [
      " 11%|█████████▎                                                                         | 9/80 [00:21<02:46,  2.34s/it]\n"
     ]
    },
    {
     "name": "stdout",
     "output_type": "stream",
     "text": [
      "https://search.naver.com/search.naver?where=news&sm=tab_pge&query=\"카카오페이\"&photo=0&field=0&pd=3&ds=2019.07.01&de=2019.08.01&cluster_rank=30&mynews=0&office_type=0&office_section_code=0&news_office_checked=&nso=so:r,p:from20190117to20200315,a:all&start=1691\n"
     ]
    },
    {
     "name": "stderr",
     "output_type": "stream",
     "text": [
      "  0%|                                                                                           | 0/80 [00:00<?, ?it/s]\n"
     ]
    },
    {
     "name": "stdout",
     "output_type": "stream",
     "text": [
      "https://search.naver.com/search.naver?where=news&sm=tab_pge&query=\"카카오페이\"&photo=0&field=0&pd=3&ds=2019.07.01&de=2019.08.01&cluster_rank=30&mynews=0&office_type=0&office_section_code=0&news_office_checked=&nso=so:r,p:from20190117to20200315,a:all&start=2401\n"
     ]
    },
    {
     "name": "stderr",
     "output_type": "stream",
     "text": [
      "  0%|                                                                                           | 0/80 [00:00<?, ?it/s]\n"
     ]
    },
    {
     "name": "stdout",
     "output_type": "stream",
     "text": [
      "https://search.naver.com/search.naver?where=news&sm=tab_pge&query=\"카카오페이\"&photo=0&field=0&pd=3&ds=2019.07.01&de=2019.08.01&cluster_rank=30&mynews=0&office_type=0&office_section_code=0&news_office_checked=&nso=so:r,p:from20190117to20200315,a:all&start=3201\n"
     ]
    },
    {
     "name": "stderr",
     "output_type": "stream",
     "text": [
      "100%|██████████████████████████████████████████████████████████████████████████████████| 80/80 [05:00<00:00,  3.76s/it]\n",
      " 55%|█████████████████████████████████████████████                                     | 44/80 [01:30<01:13,  2.05s/it]\n"
     ]
    },
    {
     "name": "stdout",
     "output_type": "stream",
     "text": [
      "https://search.naver.com/search.naver?where=news&sm=tab_pge&query=\"카카오페이\"&photo=0&field=0&pd=3&ds=2019.08.01&de=2019.09.01&cluster_rank=30&mynews=0&office_type=0&office_section_code=0&news_office_checked=&nso=so:r,p:from20190117to20200315,a:all&start=1241\n"
     ]
    },
    {
     "name": "stderr",
     "output_type": "stream",
     "text": [
      "  0%|                                                                                           | 0/80 [00:00<?, ?it/s]\n"
     ]
    },
    {
     "name": "stdout",
     "output_type": "stream",
     "text": [
      "https://search.naver.com/search.naver?where=news&sm=tab_pge&query=\"카카오페이\"&photo=0&field=0&pd=3&ds=2019.08.01&de=2019.09.01&cluster_rank=30&mynews=0&office_type=0&office_section_code=0&news_office_checked=&nso=so:r,p:from20190117to20200315,a:all&start=1601\n"
     ]
    },
    {
     "name": "stderr",
     "output_type": "stream",
     "text": [
      "  0%|                                                                                           | 0/80 [00:00<?, ?it/s]\n"
     ]
    },
    {
     "name": "stdout",
     "output_type": "stream",
     "text": [
      "https://search.naver.com/search.naver?where=news&sm=tab_pge&query=\"카카오페이\"&photo=0&field=0&pd=3&ds=2019.08.01&de=2019.09.01&cluster_rank=30&mynews=0&office_type=0&office_section_code=0&news_office_checked=&nso=so:r,p:from20190117to20200315,a:all&start=2401\n"
     ]
    },
    {
     "name": "stderr",
     "output_type": "stream",
     "text": [
      "  0%|                                                                                           | 0/80 [00:00<?, ?it/s]\n"
     ]
    },
    {
     "name": "stdout",
     "output_type": "stream",
     "text": [
      "https://search.naver.com/search.naver?where=news&sm=tab_pge&query=\"카카오페이\"&photo=0&field=0&pd=3&ds=2019.08.01&de=2019.09.01&cluster_rank=30&mynews=0&office_type=0&office_section_code=0&news_office_checked=&nso=so:r,p:from20190117to20200315,a:all&start=3201\n"
     ]
    },
    {
     "name": "stderr",
     "output_type": "stream",
     "text": [
      "100%|██████████████████████████████████████████████████████████████████████████████████| 80/80 [04:51<00:00,  3.64s/it]\n",
      " 55%|█████████████████████████████████████████████                                     | 44/80 [01:43<01:24,  2.35s/it]\n"
     ]
    },
    {
     "name": "stdout",
     "output_type": "stream",
     "text": [
      "https://search.naver.com/search.naver?where=news&sm=tab_pge&query=\"카카오페이\"&photo=0&field=0&pd=3&ds=2019.09.01&de=2019.10.01&cluster_rank=30&mynews=0&office_type=0&office_section_code=0&news_office_checked=&nso=so:r,p:from20190117to20200315,a:all&start=1241\n"
     ]
    },
    {
     "name": "stderr",
     "output_type": "stream",
     "text": [
      "  0%|                                                                                           | 0/80 [00:00<?, ?it/s]\n"
     ]
    },
    {
     "name": "stdout",
     "output_type": "stream",
     "text": [
      "https://search.naver.com/search.naver?where=news&sm=tab_pge&query=\"카카오페이\"&photo=0&field=0&pd=3&ds=2019.09.01&de=2019.10.01&cluster_rank=30&mynews=0&office_type=0&office_section_code=0&news_office_checked=&nso=so:r,p:from20190117to20200315,a:all&start=1601\n"
     ]
    },
    {
     "name": "stderr",
     "output_type": "stream",
     "text": [
      "  0%|                                                                                           | 0/80 [00:00<?, ?it/s]\n"
     ]
    },
    {
     "name": "stdout",
     "output_type": "stream",
     "text": [
      "https://search.naver.com/search.naver?where=news&sm=tab_pge&query=\"카카오페이\"&photo=0&field=0&pd=3&ds=2019.09.01&de=2019.10.01&cluster_rank=30&mynews=0&office_type=0&office_section_code=0&news_office_checked=&nso=so:r,p:from20190117to20200315,a:all&start=2401\n"
     ]
    },
    {
     "name": "stderr",
     "output_type": "stream",
     "text": [
      "  0%|                                                                                           | 0/80 [00:00<?, ?it/s]\n"
     ]
    },
    {
     "name": "stdout",
     "output_type": "stream",
     "text": [
      "https://search.naver.com/search.naver?where=news&sm=tab_pge&query=\"카카오페이\"&photo=0&field=0&pd=3&ds=2019.09.01&de=2019.10.01&cluster_rank=30&mynews=0&office_type=0&office_section_code=0&news_office_checked=&nso=so:r,p:from20190117to20200315,a:all&start=3201\n"
     ]
    },
    {
     "name": "stderr",
     "output_type": "stream",
     "text": [
      "100%|██████████████████████████████████████████████████████████████████████████████████| 80/80 [05:19<00:00,  3.99s/it]\n",
      " 18%|██████████████▎                                                                   | 14/80 [00:44<03:31,  3.21s/it]\n"
     ]
    },
    {
     "name": "stdout",
     "output_type": "stream",
     "text": [
      "https://search.naver.com/search.naver?where=news&sm=tab_pge&query=\"카카오페이\"&photo=0&field=0&pd=3&ds=2019.10.01&de=2019.11.01&cluster_rank=30&mynews=0&office_type=0&office_section_code=0&news_office_checked=&nso=so:r,p:from20190117to20200315,a:all&start=941\n"
     ]
    },
    {
     "name": "stderr",
     "output_type": "stream",
     "text": [
      "  0%|                                                                                           | 0/80 [00:00<?, ?it/s]\n"
     ]
    },
    {
     "name": "stdout",
     "output_type": "stream",
     "text": [
      "https://search.naver.com/search.naver?where=news&sm=tab_pge&query=\"카카오페이\"&photo=0&field=0&pd=3&ds=2019.10.01&de=2019.11.01&cluster_rank=30&mynews=0&office_type=0&office_section_code=0&news_office_checked=&nso=so:r,p:from20190117to20200315,a:all&start=1601\n"
     ]
    },
    {
     "name": "stderr",
     "output_type": "stream",
     "text": [
      "  0%|                                                                                           | 0/80 [00:00<?, ?it/s]\n"
     ]
    },
    {
     "name": "stdout",
     "output_type": "stream",
     "text": [
      "https://search.naver.com/search.naver?where=news&sm=tab_pge&query=\"카카오페이\"&photo=0&field=0&pd=3&ds=2019.10.01&de=2019.11.01&cluster_rank=30&mynews=0&office_type=0&office_section_code=0&news_office_checked=&nso=so:r,p:from20190117to20200315,a:all&start=2401\n"
     ]
    },
    {
     "name": "stderr",
     "output_type": "stream",
     "text": [
      "  0%|                                                                                           | 0/80 [00:00<?, ?it/s]\n"
     ]
    },
    {
     "name": "stdout",
     "output_type": "stream",
     "text": [
      "https://search.naver.com/search.naver?where=news&sm=tab_pge&query=\"카카오페이\"&photo=0&field=0&pd=3&ds=2019.10.01&de=2019.11.01&cluster_rank=30&mynews=0&office_type=0&office_section_code=0&news_office_checked=&nso=so:r,p:from20190117to20200315,a:all&start=3201\n"
     ]
    },
    {
     "name": "stderr",
     "output_type": "stream",
     "text": [
      "100%|██████████████████████████████████████████████████████████████████████████████████| 80/80 [05:42<00:00,  4.28s/it]\n",
      " 68%|███████████████████████████████████████████████████████▎                          | 54/80 [03:06<01:29,  3.45s/it]\n"
     ]
    },
    {
     "name": "stdout",
     "output_type": "stream",
     "text": [
      "https://search.naver.com/search.naver?where=news&sm=tab_pge&query=\"카카오페이\"&photo=0&field=0&pd=3&ds=2019.11.01&de=2019.12.01&cluster_rank=30&mynews=0&office_type=0&office_section_code=0&news_office_checked=&nso=so:r,p:from20190117to20200315,a:all&start=1341\n"
     ]
    },
    {
     "name": "stderr",
     "output_type": "stream",
     "text": [
      "  0%|                                                                                           | 0/80 [00:00<?, ?it/s]\n"
     ]
    },
    {
     "name": "stdout",
     "output_type": "stream",
     "text": [
      "https://search.naver.com/search.naver?where=news&sm=tab_pge&query=\"카카오페이\"&photo=0&field=0&pd=3&ds=2019.11.01&de=2019.12.01&cluster_rank=30&mynews=0&office_type=0&office_section_code=0&news_office_checked=&nso=so:r,p:from20190117to20200315,a:all&start=1601\n"
     ]
    },
    {
     "name": "stderr",
     "output_type": "stream",
     "text": [
      "  0%|                                                                                           | 0/80 [00:00<?, ?it/s]\n"
     ]
    },
    {
     "name": "stdout",
     "output_type": "stream",
     "text": [
      "https://search.naver.com/search.naver?where=news&sm=tab_pge&query=\"카카오페이\"&photo=0&field=0&pd=3&ds=2019.11.01&de=2019.12.01&cluster_rank=30&mynews=0&office_type=0&office_section_code=0&news_office_checked=&nso=so:r,p:from20190117to20200315,a:all&start=2401\n"
     ]
    },
    {
     "name": "stderr",
     "output_type": "stream",
     "text": [
      "  0%|                                                                                           | 0/80 [00:00<?, ?it/s]\n"
     ]
    },
    {
     "name": "stdout",
     "output_type": "stream",
     "text": [
      "https://search.naver.com/search.naver?where=news&sm=tab_pge&query=\"카카오페이\"&photo=0&field=0&pd=3&ds=2019.11.01&de=2019.12.01&cluster_rank=30&mynews=0&office_type=0&office_section_code=0&news_office_checked=&nso=so:r,p:from20190117to20200315,a:all&start=3201\n"
     ]
    },
    {
     "name": "stderr",
     "output_type": "stream",
     "text": [
      "100%|██████████████████████████████████████████████████████████████████████████████████| 80/80 [05:29<00:00,  4.12s/it]\n",
      " 66%|██████████████████████████████████████████████████████▎                           | 53/80 [02:03<01:02,  2.33s/it]\n"
     ]
    },
    {
     "name": "stdout",
     "output_type": "stream",
     "text": [
      "https://search.naver.com/search.naver?where=news&sm=tab_pge&query=\"카카오페이\"&photo=0&field=0&pd=3&ds=2019.12.01&de=2019.12.31&cluster_rank=30&mynews=0&office_type=0&office_section_code=0&news_office_checked=&nso=so:r,p:from20190117to20200315,a:all&start=1331\n"
     ]
    },
    {
     "name": "stderr",
     "output_type": "stream",
     "text": [
      "  0%|                                                                                           | 0/80 [00:00<?, ?it/s]\n"
     ]
    },
    {
     "name": "stdout",
     "output_type": "stream",
     "text": [
      "https://search.naver.com/search.naver?where=news&sm=tab_pge&query=\"카카오페이\"&photo=0&field=0&pd=3&ds=2019.12.01&de=2019.12.31&cluster_rank=30&mynews=0&office_type=0&office_section_code=0&news_office_checked=&nso=so:r,p:from20190117to20200315,a:all&start=1601\n"
     ]
    },
    {
     "name": "stderr",
     "output_type": "stream",
     "text": [
      "  0%|                                                                                           | 0/80 [00:00<?, ?it/s]\n"
     ]
    },
    {
     "name": "stdout",
     "output_type": "stream",
     "text": [
      "https://search.naver.com/search.naver?where=news&sm=tab_pge&query=\"카카오페이\"&photo=0&field=0&pd=3&ds=2019.12.01&de=2019.12.31&cluster_rank=30&mynews=0&office_type=0&office_section_code=0&news_office_checked=&nso=so:r,p:from20190117to20200315,a:all&start=2401\n"
     ]
    },
    {
     "name": "stderr",
     "output_type": "stream",
     "text": [
      "  0%|                                                                                           | 0/80 [00:00<?, ?it/s]\n"
     ]
    },
    {
     "name": "stdout",
     "output_type": "stream",
     "text": [
      "https://search.naver.com/search.naver?where=news&sm=tab_pge&query=\"카카오페이\"&photo=0&field=0&pd=3&ds=2019.12.01&de=2019.12.31&cluster_rank=30&mynews=0&office_type=0&office_section_code=0&news_office_checked=&nso=so:r,p:from20190117to20200315,a:all&start=3201\n"
     ]
    },
    {
     "name": "stderr",
     "output_type": "stream",
     "text": [
      " 48%|██████████████████████████████████████▉                                           | 38/80 [02:16<02:31,  3.60s/it]\n"
     ]
    },
    {
     "name": "stdout",
     "output_type": "stream",
     "text": [
      "https://search.naver.com/search.naver?where=news&sm=tab_pge&query=\"카카오페이\"&photo=0&field=0&pd=3&ds=2020.01.01&de=2020.02.01&cluster_rank=30&mynews=0&office_type=0&office_section_code=0&news_office_checked=&nso=so:r,p:from20190117to20200315,a:all&start=381\n"
     ]
    },
    {
     "name": "stderr",
     "output_type": "stream",
     "text": [
      "  0%|                                                                                           | 0/80 [00:02<?, ?it/s]\n"
     ]
    },
    {
     "name": "stdout",
     "output_type": "stream",
     "text": [
      "https://search.naver.com/search.naver?where=news&sm=tab_pge&query=\"카카오페이\"&photo=0&field=0&pd=3&ds=2020.01.01&de=2020.02.01&cluster_rank=30&mynews=0&office_type=0&office_section_code=0&news_office_checked=&nso=so:r,p:from20190117to20200315,a:all&start=801\n"
     ]
    },
    {
     "name": "stderr",
     "output_type": "stream",
     "text": [
      "  0%|                                                                                           | 0/80 [00:00<?, ?it/s]\n"
     ]
    },
    {
     "name": "stdout",
     "output_type": "stream",
     "text": [
      "https://search.naver.com/search.naver?where=news&sm=tab_pge&query=\"카카오페이\"&photo=0&field=0&pd=3&ds=2020.01.01&de=2020.02.01&cluster_rank=30&mynews=0&office_type=0&office_section_code=0&news_office_checked=&nso=so:r,p:from20190117to20200315,a:all&start=1601\n"
     ]
    },
    {
     "name": "stderr",
     "output_type": "stream",
     "text": [
      "  0%|                                                                                           | 0/80 [00:00<?, ?it/s]\n"
     ]
    },
    {
     "name": "stdout",
     "output_type": "stream",
     "text": [
      "https://search.naver.com/search.naver?where=news&sm=tab_pge&query=\"카카오페이\"&photo=0&field=0&pd=3&ds=2020.01.01&de=2020.02.01&cluster_rank=30&mynews=0&office_type=0&office_section_code=0&news_office_checked=&nso=so:r,p:from20190117to20200315,a:all&start=2401\n"
     ]
    },
    {
     "name": "stderr",
     "output_type": "stream",
     "text": [
      "  0%|                                                                                           | 0/80 [00:00<?, ?it/s]\n"
     ]
    },
    {
     "name": "stdout",
     "output_type": "stream",
     "text": [
      "https://search.naver.com/search.naver?where=news&sm=tab_pge&query=\"카카오페이\"&photo=0&field=0&pd=3&ds=2020.01.01&de=2020.02.01&cluster_rank=30&mynews=0&office_type=0&office_section_code=0&news_office_checked=&nso=so:r,p:from20190117to20200315,a:all&start=3201\n"
     ]
    },
    {
     "name": "stderr",
     "output_type": "stream",
     "text": [
      "100%|██████████████████████████████████████████████████████████████████████████████████| 80/80 [05:28<00:00,  4.11s/it]\n",
      "100%|██████████████████████████████████████████████████████████████████████████████████| 80/80 [04:31<00:00,  3.40s/it]\n",
      " 11%|█████████▎                                                                         | 9/80 [00:12<01:40,  1.42s/it]\n"
     ]
    },
    {
     "name": "stdout",
     "output_type": "stream",
     "text": [
      "https://search.naver.com/search.naver?where=news&sm=tab_pge&query=\"카카오페이\"&photo=0&field=0&pd=3&ds=2020.02.01&de=2020.03.01&cluster_rank=30&mynews=0&office_type=0&office_section_code=0&news_office_checked=&nso=so:r,p:from20190117to20200315,a:all&start=1691\n"
     ]
    },
    {
     "name": "stderr",
     "output_type": "stream",
     "text": [
      "  0%|                                                                                           | 0/80 [00:00<?, ?it/s]\n"
     ]
    },
    {
     "name": "stdout",
     "output_type": "stream",
     "text": [
      "https://search.naver.com/search.naver?where=news&sm=tab_pge&query=\"카카오페이\"&photo=0&field=0&pd=3&ds=2020.02.01&de=2020.03.01&cluster_rank=30&mynews=0&office_type=0&office_section_code=0&news_office_checked=&nso=so:r,p:from20190117to20200315,a:all&start=2401\n"
     ]
    },
    {
     "name": "stderr",
     "output_type": "stream",
     "text": [
      "  0%|                                                                                           | 0/80 [00:00<?, ?it/s]\n"
     ]
    },
    {
     "name": "stdout",
     "output_type": "stream",
     "text": [
      "https://search.naver.com/search.naver?where=news&sm=tab_pge&query=\"카카오페이\"&photo=0&field=0&pd=3&ds=2020.02.01&de=2020.03.01&cluster_rank=30&mynews=0&office_type=0&office_section_code=0&news_office_checked=&nso=so:r,p:from20190117to20200315,a:all&start=3201\n"
     ]
    },
    {
     "name": "stderr",
     "output_type": "stream",
     "text": [
      "100%|██████████████████████████████████████████████████████████████████████████████████| 80/80 [05:02<00:00,  3.78s/it]\n",
      " 92%|███████████████████████████████████████████████████████████████████████████▊      | 74/80 [04:12<00:20,  3.41s/it]\n"
     ]
    },
    {
     "name": "stdout",
     "output_type": "stream",
     "text": [
      "https://search.naver.com/search.naver?where=news&sm=tab_pge&query=\"카카오페이\"&photo=0&field=0&pd=3&ds=2020.03.01&de=2020.04.01&cluster_rank=30&mynews=0&office_type=0&office_section_code=0&news_office_checked=&nso=so:r,p:from20190117to20200315,a:all&start=1541\n"
     ]
    },
    {
     "name": "stderr",
     "output_type": "stream",
     "text": [
      "  0%|                                                                                           | 0/80 [00:00<?, ?it/s]\n"
     ]
    },
    {
     "name": "stdout",
     "output_type": "stream",
     "text": [
      "https://search.naver.com/search.naver?where=news&sm=tab_pge&query=\"카카오페이\"&photo=0&field=0&pd=3&ds=2020.03.01&de=2020.04.01&cluster_rank=30&mynews=0&office_type=0&office_section_code=0&news_office_checked=&nso=so:r,p:from20190117to20200315,a:all&start=1601\n"
     ]
    },
    {
     "name": "stderr",
     "output_type": "stream",
     "text": [
      "  0%|                                                                                           | 0/80 [00:00<?, ?it/s]\n"
     ]
    },
    {
     "name": "stdout",
     "output_type": "stream",
     "text": [
      "https://search.naver.com/search.naver?where=news&sm=tab_pge&query=\"카카오페이\"&photo=0&field=0&pd=3&ds=2020.03.01&de=2020.04.01&cluster_rank=30&mynews=0&office_type=0&office_section_code=0&news_office_checked=&nso=so:r,p:from20190117to20200315,a:all&start=2401\n"
     ]
    },
    {
     "name": "stderr",
     "output_type": "stream",
     "text": [
      "  0%|                                                                                           | 0/80 [00:00<?, ?it/s]\n"
     ]
    },
    {
     "name": "stdout",
     "output_type": "stream",
     "text": [
      "https://search.naver.com/search.naver?where=news&sm=tab_pge&query=\"카카오페이\"&photo=0&field=0&pd=3&ds=2020.03.01&de=2020.04.01&cluster_rank=30&mynews=0&office_type=0&office_section_code=0&news_office_checked=&nso=so:r,p:from20190117to20200315,a:all&start=3201\n"
     ]
    },
    {
     "name": "stderr",
     "output_type": "stream",
     "text": [
      "100%|██████████████████████████████████████████████████████████████████████████████████| 80/80 [05:12<00:00,  3.91s/it]\n",
      " 11%|█████████▎                                                                         | 9/80 [00:25<03:23,  2.86s/it]\n"
     ]
    },
    {
     "name": "stdout",
     "output_type": "stream",
     "text": [
      "https://search.naver.com/search.naver?where=news&sm=tab_pge&query=\"카카오페이\"&photo=0&field=0&pd=3&ds=2020.04.01&de=2020.05.01&cluster_rank=30&mynews=0&office_type=0&office_section_code=0&news_office_checked=&nso=so:r,p:from20190117to20200315,a:all&start=891\n"
     ]
    },
    {
     "name": "stderr",
     "output_type": "stream",
     "text": [
      "  0%|                                                                                           | 0/80 [00:00<?, ?it/s]\n"
     ]
    },
    {
     "name": "stdout",
     "output_type": "stream",
     "text": [
      "https://search.naver.com/search.naver?where=news&sm=tab_pge&query=\"카카오페이\"&photo=0&field=0&pd=3&ds=2020.04.01&de=2020.05.01&cluster_rank=30&mynews=0&office_type=0&office_section_code=0&news_office_checked=&nso=so:r,p:from20190117to20200315,a:all&start=1601\n"
     ]
    },
    {
     "name": "stderr",
     "output_type": "stream",
     "text": [
      "  0%|                                                                                           | 0/80 [00:00<?, ?it/s]\n"
     ]
    },
    {
     "name": "stdout",
     "output_type": "stream",
     "text": [
      "https://search.naver.com/search.naver?where=news&sm=tab_pge&query=\"카카오페이\"&photo=0&field=0&pd=3&ds=2020.04.01&de=2020.05.01&cluster_rank=30&mynews=0&office_type=0&office_section_code=0&news_office_checked=&nso=so:r,p:from20190117to20200315,a:all&start=2401\n"
     ]
    },
    {
     "name": "stderr",
     "output_type": "stream",
     "text": [
      "  0%|                                                                                           | 0/80 [00:00<?, ?it/s]\n"
     ]
    },
    {
     "name": "stdout",
     "output_type": "stream",
     "text": [
      "https://search.naver.com/search.naver?where=news&sm=tab_pge&query=\"카카오페이\"&photo=0&field=0&pd=3&ds=2020.04.01&de=2020.05.01&cluster_rank=30&mynews=0&office_type=0&office_section_code=0&news_office_checked=&nso=so:r,p:from20190117to20200315,a:all&start=3201\n"
     ]
    },
    {
     "name": "stderr",
     "output_type": "stream",
     "text": [
      "100%|██████████████████████████████████████████████████████████████████████████████████| 80/80 [05:21<00:00,  4.02s/it]\n",
      "100%|██████████████████████████████████████████████████████████████████████████████████| 80/80 [05:36<00:00,  4.20s/it]\n",
      " 89%|████████████████████████████████████████████████████████████████████████▊         | 71/80 [03:47<00:28,  3.21s/it]\n"
     ]
    },
    {
     "name": "stdout",
     "output_type": "stream",
     "text": [
      "https://search.naver.com/search.naver?where=news&sm=tab_pge&query=\"카카오페이\"&photo=0&field=0&pd=3&ds=2020.05.01&de=2020.06.01&cluster_rank=30&mynews=0&office_type=0&office_section_code=0&news_office_checked=&nso=so:r,p:from20190117to20200315,a:all&start=2311\n"
     ]
    },
    {
     "name": "stderr",
     "output_type": "stream",
     "text": [
      "  0%|                                                                                           | 0/80 [00:00<?, ?it/s]\n"
     ]
    },
    {
     "name": "stdout",
     "output_type": "stream",
     "text": [
      "https://search.naver.com/search.naver?where=news&sm=tab_pge&query=\"카카오페이\"&photo=0&field=0&pd=3&ds=2020.05.01&de=2020.06.01&cluster_rank=30&mynews=0&office_type=0&office_section_code=0&news_office_checked=&nso=so:r,p:from20190117to20200315,a:all&start=2401\n"
     ]
    },
    {
     "name": "stderr",
     "output_type": "stream",
     "text": [
      "  0%|                                                                                           | 0/80 [00:00<?, ?it/s]\n"
     ]
    },
    {
     "name": "stdout",
     "output_type": "stream",
     "text": [
      "https://search.naver.com/search.naver?where=news&sm=tab_pge&query=\"카카오페이\"&photo=0&field=0&pd=3&ds=2020.05.01&de=2020.06.01&cluster_rank=30&mynews=0&office_type=0&office_section_code=0&news_office_checked=&nso=so:r,p:from20190117to20200315,a:all&start=3201\n"
     ]
    },
    {
     "name": "stderr",
     "output_type": "stream",
     "text": [
      "100%|██████████████████████████████████████████████████████████████████████████████████| 80/80 [06:01<00:00,  4.51s/it]\n",
      "100%|██████████████████████████████████████████████████████████████████████████████████| 80/80 [06:03<00:00,  4.54s/it]\n",
      " 91%|██████████████████████████████████████████████████████████████████████████▊       | 73/80 [03:25<00:19,  2.81s/it]\n"
     ]
    },
    {
     "name": "stdout",
     "output_type": "stream",
     "text": [
      "https://search.naver.com/search.naver?where=news&sm=tab_pge&query=\"카카오페이\"&photo=0&field=0&pd=3&ds=2020.06.01&de=2020.07.01&cluster_rank=30&mynews=0&office_type=0&office_section_code=0&news_office_checked=&nso=so:r,p:from20190117to20200315,a:all&start=2331\n"
     ]
    },
    {
     "name": "stderr",
     "output_type": "stream",
     "text": [
      "  0%|                                                                                           | 0/80 [00:00<?, ?it/s]\n"
     ]
    },
    {
     "name": "stdout",
     "output_type": "stream",
     "text": [
      "https://search.naver.com/search.naver?where=news&sm=tab_pge&query=\"카카오페이\"&photo=0&field=0&pd=3&ds=2020.06.01&de=2020.07.01&cluster_rank=30&mynews=0&office_type=0&office_section_code=0&news_office_checked=&nso=so:r,p:from20190117to20200315,a:all&start=2401\n"
     ]
    },
    {
     "name": "stderr",
     "output_type": "stream",
     "text": [
      "  0%|                                                                                           | 0/80 [00:00<?, ?it/s]\n"
     ]
    },
    {
     "name": "stdout",
     "output_type": "stream",
     "text": [
      "https://search.naver.com/search.naver?where=news&sm=tab_pge&query=\"카카오페이\"&photo=0&field=0&pd=3&ds=2020.06.01&de=2020.07.01&cluster_rank=30&mynews=0&office_type=0&office_section_code=0&news_office_checked=&nso=so:r,p:from20190117to20200315,a:all&start=3201\n"
     ]
    },
    {
     "name": "stderr",
     "output_type": "stream",
     "text": [
      "100%|██████████████████████████████████████████████████████████████████████████████████| 80/80 [06:30<00:00,  4.88s/it]\n",
      "100%|██████████████████████████████████████████████████████████████████████████████████| 80/80 [05:17<00:00,  3.96s/it]\n",
      " 50%|█████████████████████████████████████████                                         | 40/80 [01:16<01:16,  1.91s/it]\n"
     ]
    },
    {
     "name": "stdout",
     "output_type": "stream",
     "text": [
      "https://search.naver.com/search.naver?where=news&sm=tab_pge&query=\"카카오페이\"&photo=0&field=0&pd=3&ds=2020.07.01&de=2020.08.01&cluster_rank=30&mynews=0&office_type=0&office_section_code=0&news_office_checked=&nso=so:r,p:from20190117to20200315,a:all&start=2001\n"
     ]
    },
    {
     "name": "stderr",
     "output_type": "stream",
     "text": [
      "  0%|                                                                                           | 0/80 [00:00<?, ?it/s]\n"
     ]
    },
    {
     "name": "stdout",
     "output_type": "stream",
     "text": [
      "https://search.naver.com/search.naver?where=news&sm=tab_pge&query=\"카카오페이\"&photo=0&field=0&pd=3&ds=2020.07.01&de=2020.08.01&cluster_rank=30&mynews=0&office_type=0&office_section_code=0&news_office_checked=&nso=so:r,p:from20190117to20200315,a:all&start=2401\n"
     ]
    },
    {
     "name": "stderr",
     "output_type": "stream",
     "text": [
      "  0%|                                                                                           | 0/80 [00:00<?, ?it/s]\n"
     ]
    },
    {
     "name": "stdout",
     "output_type": "stream",
     "text": [
      "https://search.naver.com/search.naver?where=news&sm=tab_pge&query=\"카카오페이\"&photo=0&field=0&pd=3&ds=2020.07.01&de=2020.08.01&cluster_rank=30&mynews=0&office_type=0&office_section_code=0&news_office_checked=&nso=so:r,p:from20190117to20200315,a:all&start=3201\n"
     ]
    },
    {
     "name": "stderr",
     "output_type": "stream",
     "text": [
      "100%|██████████████████████████████████████████████████████████████████████████████████| 80/80 [05:44<00:00,  4.31s/it]\n",
      "100%|██████████████████████████████████████████████████████████████████████████████████| 80/80 [04:44<00:00,  3.56s/it]\n",
      " 11%|█████████▎                                                                         | 9/80 [00:12<01:41,  1.43s/it]\n"
     ]
    },
    {
     "name": "stdout",
     "output_type": "stream",
     "text": [
      "https://search.naver.com/search.naver?where=news&sm=tab_pge&query=\"카카오페이\"&photo=0&field=0&pd=3&ds=2020.08.01&de=2020.09.01&cluster_rank=30&mynews=0&office_type=0&office_section_code=0&news_office_checked=&nso=so:r,p:from20190117to20200315,a:all&start=1691\n"
     ]
    },
    {
     "name": "stderr",
     "output_type": "stream",
     "text": [
      "  0%|                                                                                           | 0/80 [00:00<?, ?it/s]\n"
     ]
    },
    {
     "name": "stdout",
     "output_type": "stream",
     "text": [
      "https://search.naver.com/search.naver?where=news&sm=tab_pge&query=\"카카오페이\"&photo=0&field=0&pd=3&ds=2020.08.01&de=2020.09.01&cluster_rank=30&mynews=0&office_type=0&office_section_code=0&news_office_checked=&nso=so:r,p:from20190117to20200315,a:all&start=2401\n"
     ]
    },
    {
     "name": "stderr",
     "output_type": "stream",
     "text": [
      "  0%|                                                                                           | 0/80 [00:00<?, ?it/s]\n"
     ]
    },
    {
     "name": "stdout",
     "output_type": "stream",
     "text": [
      "https://search.naver.com/search.naver?where=news&sm=tab_pge&query=\"카카오페이\"&photo=0&field=0&pd=3&ds=2020.08.01&de=2020.09.01&cluster_rank=30&mynews=0&office_type=0&office_section_code=0&news_office_checked=&nso=so:r,p:from20190117to20200315,a:all&start=3201\n"
     ]
    },
    {
     "name": "stderr",
     "output_type": "stream",
     "text": [
      "100%|██████████████████████████████████████████████████████████████████████████████████| 80/80 [05:30<00:00,  4.13s/it]\n",
      "100%|██████████████████████████████████████████████████████████████████████████████████| 80/80 [05:32<00:00,  4.15s/it]\n",
      "100%|██████████████████████████████████████████████████████████████████████████████████| 80/80 [04:00<00:00,  3.01s/it]\n",
      " 26%|█████████████████████▌                                                            | 21/80 [00:29<01:22,  1.41s/it]\n"
     ]
    },
    {
     "name": "stdout",
     "output_type": "stream",
     "text": [
      "https://search.naver.com/search.naver?where=news&sm=tab_pge&query=\"카카오페이\"&photo=0&field=0&pd=3&ds=2020.09.01&de=2020.10.01&cluster_rank=30&mynews=0&office_type=0&office_section_code=0&news_office_checked=&nso=so:r,p:from20190117to20200315,a:all&start=2611\n"
     ]
    },
    {
     "name": "stderr",
     "output_type": "stream",
     "text": [
      "  0%|                                                                                           | 0/80 [00:00<?, ?it/s]\n"
     ]
    },
    {
     "name": "stdout",
     "output_type": "stream",
     "text": [
      "https://search.naver.com/search.naver?where=news&sm=tab_pge&query=\"카카오페이\"&photo=0&field=0&pd=3&ds=2020.09.01&de=2020.10.01&cluster_rank=30&mynews=0&office_type=0&office_section_code=0&news_office_checked=&nso=so:r,p:from20190117to20200315,a:all&start=3201\n"
     ]
    },
    {
     "name": "stderr",
     "output_type": "stream",
     "text": [
      "100%|██████████████████████████████████████████████████████████████████████████████████| 80/80 [04:58<00:00,  3.73s/it]\n",
      " 69%|████████████████████████████████████████████████████████▍                         | 55/80 [02:57<01:20,  3.22s/it]\n"
     ]
    },
    {
     "name": "stdout",
     "output_type": "stream",
     "text": [
      "https://search.naver.com/search.naver?where=news&sm=tab_pge&query=\"카카오페이\"&photo=0&field=0&pd=3&ds=2020.10.01&de=2020.11.01&cluster_rank=30&mynews=0&office_type=0&office_section_code=0&news_office_checked=&nso=so:r,p:from20190117to20200315,a:all&start=1351\n"
     ]
    },
    {
     "name": "stderr",
     "output_type": "stream",
     "text": [
      "  4%|███                                                                                | 3/80 [00:04<01:48,  1.41s/it]\n"
     ]
    },
    {
     "name": "stdout",
     "output_type": "stream",
     "text": [
      "https://search.naver.com/search.naver?where=news&sm=tab_pge&query=\"카카오페이\"&photo=0&field=0&pd=3&ds=2020.10.01&de=2020.11.01&cluster_rank=30&mynews=0&office_type=0&office_section_code=0&news_office_checked=&nso=so:r,p:from20190117to20200315,a:all&start=1631\n"
     ]
    },
    {
     "name": "stderr",
     "output_type": "stream",
     "text": [
      "  0%|                                                                                           | 0/80 [00:00<?, ?it/s]\n"
     ]
    },
    {
     "name": "stdout",
     "output_type": "stream",
     "text": [
      "https://search.naver.com/search.naver?where=news&sm=tab_pge&query=\"카카오페이\"&photo=0&field=0&pd=3&ds=2020.10.01&de=2020.11.01&cluster_rank=30&mynews=0&office_type=0&office_section_code=0&news_office_checked=&nso=so:r,p:from20190117to20200315,a:all&start=2401\n"
     ]
    },
    {
     "name": "stderr",
     "output_type": "stream",
     "text": [
      "  0%|                                                                                           | 0/80 [00:00<?, ?it/s]\n"
     ]
    },
    {
     "name": "stdout",
     "output_type": "stream",
     "text": [
      "https://search.naver.com/search.naver?where=news&sm=tab_pge&query=\"카카오페이\"&photo=0&field=0&pd=3&ds=2020.10.01&de=2020.11.01&cluster_rank=30&mynews=0&office_type=0&office_section_code=0&news_office_checked=&nso=so:r,p:from20190117to20200315,a:all&start=3201\n"
     ]
    },
    {
     "name": "stderr",
     "output_type": "stream",
     "text": [
      "100%|██████████████████████████████████████████████████████████████████████████████████| 80/80 [05:49<00:00,  4.37s/it]\n",
      "100%|██████████████████████████████████████████████████████████████████████████████████| 80/80 [05:04<00:00,  3.80s/it]\n",
      "100%|██████████████████████████████████████████████████████████████████████████████████| 80/80 [04:33<00:00,  3.42s/it]\n",
      " 32%|██████████████████████████▋                                                       | 26/80 [00:44<01:33,  1.73s/it]\n"
     ]
    },
    {
     "name": "stdout",
     "output_type": "stream",
     "text": [
      "https://search.naver.com/search.naver?where=news&sm=tab_pge&query=\"카카오페이\"&photo=0&field=0&pd=3&ds=2020.11.01&de=2020.12.01&cluster_rank=30&mynews=0&office_type=0&office_section_code=0&news_office_checked=&nso=so:r,p:from20190117to20200315,a:all&start=2661\n"
     ]
    },
    {
     "name": "stderr",
     "output_type": "stream",
     "text": [
      "  0%|                                                                                           | 0/80 [00:00<?, ?it/s]\n"
     ]
    },
    {
     "name": "stdout",
     "output_type": "stream",
     "text": [
      "https://search.naver.com/search.naver?where=news&sm=tab_pge&query=\"카카오페이\"&photo=0&field=0&pd=3&ds=2020.11.01&de=2020.12.01&cluster_rank=30&mynews=0&office_type=0&office_section_code=0&news_office_checked=&nso=so:r,p:from20190117to20200315,a:all&start=3201\n"
     ]
    },
    {
     "name": "stderr",
     "output_type": "stream",
     "text": [
      "100%|██████████████████████████████████████████████████████████████████████████████████| 80/80 [05:25<00:00,  4.07s/it]\n",
      "100%|██████████████████████████████████████████████████████████████████████████████████| 80/80 [05:46<00:00,  4.33s/it]\n",
      "100%|██████████████████████████████████████████████████████████████████████████████████| 80/80 [02:56<00:00,  2.21s/it]\n",
      "  9%|███████▎                                                                           | 7/80 [00:06<01:08,  1.06it/s]\n"
     ]
    },
    {
     "name": "stdout",
     "output_type": "stream",
     "text": [
      "https://search.naver.com/search.naver?where=news&sm=tab_pge&query=\"카카오페이\"&photo=0&field=0&pd=3&ds=2020.12.01&de=2020.12.31&cluster_rank=30&mynews=0&office_type=0&office_section_code=0&news_office_checked=&nso=so:r,p:from20190117to20200315,a:all&start=2471\n"
     ]
    },
    {
     "name": "stderr",
     "output_type": "stream",
     "text": [
      "  0%|                                                                                           | 0/80 [00:00<?, ?it/s]\n"
     ]
    },
    {
     "name": "stdout",
     "output_type": "stream",
     "text": [
      "https://search.naver.com/search.naver?where=news&sm=tab_pge&query=\"카카오페이\"&photo=0&field=0&pd=3&ds=2020.12.01&de=2020.12.31&cluster_rank=30&mynews=0&office_type=0&office_section_code=0&news_office_checked=&nso=so:r,p:from20190117to20200315,a:all&start=3201\n"
     ]
    },
    {
     "name": "stderr",
     "output_type": "stream",
     "text": [
      "100%|██████████████████████████████████████████████████████████████████████████████████| 80/80 [05:33<00:00,  4.17s/it]\n",
      "100%|██████████████████████████████████████████████████████████████████████████████████| 80/80 [05:41<00:00,  4.26s/it]\n",
      " 92%|███████████████████████████████████████████████████████████████████████████▊      | 74/80 [03:09<00:15,  2.56s/it]\n"
     ]
    },
    {
     "name": "stdout",
     "output_type": "stream",
     "text": [
      "https://search.naver.com/search.naver?where=news&sm=tab_pge&query=\"카카오페이\"&photo=0&field=0&pd=3&ds=2021.01.01&de=2021.02.01&cluster_rank=30&mynews=0&office_type=0&office_section_code=0&news_office_checked=&nso=so:r,p:from20190117to20200315,a:all&start=2341\n"
     ]
    },
    {
     "name": "stderr",
     "output_type": "stream",
     "text": [
      "  0%|                                                                                           | 0/80 [00:00<?, ?it/s]\n"
     ]
    },
    {
     "name": "stdout",
     "output_type": "stream",
     "text": [
      "https://search.naver.com/search.naver?where=news&sm=tab_pge&query=\"카카오페이\"&photo=0&field=0&pd=3&ds=2021.01.01&de=2021.02.01&cluster_rank=30&mynews=0&office_type=0&office_section_code=0&news_office_checked=&nso=so:r,p:from20190117to20200315,a:all&start=2401\n"
     ]
    },
    {
     "name": "stderr",
     "output_type": "stream",
     "text": [
      "  0%|                                                                                           | 0/80 [00:00<?, ?it/s]\n"
     ]
    },
    {
     "name": "stdout",
     "output_type": "stream",
     "text": [
      "https://search.naver.com/search.naver?where=news&sm=tab_pge&query=\"카카오페이\"&photo=0&field=0&pd=3&ds=2021.01.01&de=2021.02.01&cluster_rank=30&mynews=0&office_type=0&office_section_code=0&news_office_checked=&nso=so:r,p:from20190117to20200315,a:all&start=3201\n"
     ]
    },
    {
     "name": "stderr",
     "output_type": "stream",
     "text": [
      "100%|██████████████████████████████████████████████████████████████████████████████████| 80/80 [05:59<00:00,  4.49s/it]\n",
      "100%|██████████████████████████████████████████████████████████████████████████████████| 80/80 [06:23<00:00,  4.80s/it]\n",
      " 55%|█████████████████████████████████████████████                                     | 44/80 [01:39<01:21,  2.26s/it]\n"
     ]
    },
    {
     "name": "stdout",
     "output_type": "stream",
     "text": [
      "https://search.naver.com/search.naver?where=news&sm=tab_pge&query=\"카카오페이\"&photo=0&field=0&pd=3&ds=2021.02.01&de=2021.03.01&cluster_rank=30&mynews=0&office_type=0&office_section_code=0&news_office_checked=&nso=so:r,p:from20190117to20200315,a:all&start=2041\n"
     ]
    },
    {
     "name": "stderr",
     "output_type": "stream",
     "text": [
      "  0%|                                                                                           | 0/80 [00:00<?, ?it/s]\n"
     ]
    },
    {
     "name": "stdout",
     "output_type": "stream",
     "text": [
      "https://search.naver.com/search.naver?where=news&sm=tab_pge&query=\"카카오페이\"&photo=0&field=0&pd=3&ds=2021.02.01&de=2021.03.01&cluster_rank=30&mynews=0&office_type=0&office_section_code=0&news_office_checked=&nso=so:r,p:from20190117to20200315,a:all&start=2401\n"
     ]
    },
    {
     "name": "stderr",
     "output_type": "stream",
     "text": [
      "  0%|                                                                                           | 0/80 [00:00<?, ?it/s]\n"
     ]
    },
    {
     "name": "stdout",
     "output_type": "stream",
     "text": [
      "https://search.naver.com/search.naver?where=news&sm=tab_pge&query=\"카카오페이\"&photo=0&field=0&pd=3&ds=2021.02.01&de=2021.03.01&cluster_rank=30&mynews=0&office_type=0&office_section_code=0&news_office_checked=&nso=so:r,p:from20190117to20200315,a:all&start=3201\n"
     ]
    },
    {
     "name": "stderr",
     "output_type": "stream",
     "text": [
      "100%|██████████████████████████████████████████████████████████████████████████████████| 80/80 [05:56<00:00,  4.45s/it]\n",
      "100%|██████████████████████████████████████████████████████████████████████████████████| 80/80 [06:08<00:00,  4.61s/it]\n",
      " 46%|█████████████████████████████████████▉                                            | 37/80 [01:22<01:36,  2.24s/it]\n"
     ]
    },
    {
     "name": "stdout",
     "output_type": "stream",
     "text": [
      "https://search.naver.com/search.naver?where=news&sm=tab_pge&query=\"카카오페이\"&photo=0&field=0&pd=3&ds=2021.03.01&de=2021.04.01&cluster_rank=30&mynews=0&office_type=0&office_section_code=0&news_office_checked=&nso=so:r,p:from20190117to20200315,a:all&start=1971\n"
     ]
    },
    {
     "name": "stderr",
     "output_type": "stream",
     "text": [
      "  0%|                                                                                           | 0/80 [00:00<?, ?it/s]\n"
     ]
    },
    {
     "name": "stdout",
     "output_type": "stream",
     "text": [
      "https://search.naver.com/search.naver?where=news&sm=tab_pge&query=\"카카오페이\"&photo=0&field=0&pd=3&ds=2021.03.01&de=2021.04.01&cluster_rank=30&mynews=0&office_type=0&office_section_code=0&news_office_checked=&nso=so:r,p:from20190117to20200315,a:all&start=2401\n"
     ]
    },
    {
     "name": "stderr",
     "output_type": "stream",
     "text": [
      "  0%|                                                                                           | 0/80 [00:00<?, ?it/s]\n"
     ]
    },
    {
     "name": "stdout",
     "output_type": "stream",
     "text": [
      "https://search.naver.com/search.naver?where=news&sm=tab_pge&query=\"카카오페이\"&photo=0&field=0&pd=3&ds=2021.03.01&de=2021.04.01&cluster_rank=30&mynews=0&office_type=0&office_section_code=0&news_office_checked=&nso=so:r,p:from20190117to20200315,a:all&start=3201\n"
     ]
    },
    {
     "name": "stderr",
     "output_type": "stream",
     "text": [
      "100%|██████████████████████████████████████████████████████████████████████████████████| 80/80 [05:54<00:00,  4.43s/it]\n",
      "100%|██████████████████████████████████████████████████████████████████████████████████| 80/80 [05:03<00:00,  3.79s/it]\n",
      " 18%|██████████████▎                                                                   | 14/80 [00:23<01:53,  1.71s/it]\n"
     ]
    },
    {
     "name": "stdout",
     "output_type": "stream",
     "text": [
      "https://search.naver.com/search.naver?where=news&sm=tab_pge&query=\"카카오페이\"&photo=0&field=0&pd=3&ds=2021.04.01&de=2021.05.01&cluster_rank=30&mynews=0&office_type=0&office_section_code=0&news_office_checked=&nso=so:r,p:from20190117to20200315,a:all&start=1741\n"
     ]
    },
    {
     "name": "stderr",
     "output_type": "stream",
     "text": [
      "  0%|                                                                                           | 0/80 [00:00<?, ?it/s]\n"
     ]
    },
    {
     "name": "stdout",
     "output_type": "stream",
     "text": [
      "https://search.naver.com/search.naver?where=news&sm=tab_pge&query=\"카카오페이\"&photo=0&field=0&pd=3&ds=2021.04.01&de=2021.05.01&cluster_rank=30&mynews=0&office_type=0&office_section_code=0&news_office_checked=&nso=so:r,p:from20190117to20200315,a:all&start=2401\n"
     ]
    },
    {
     "name": "stderr",
     "output_type": "stream",
     "text": [
      "  0%|                                                                                           | 0/80 [00:00<?, ?it/s]\n"
     ]
    },
    {
     "name": "stdout",
     "output_type": "stream",
     "text": [
      "https://search.naver.com/search.naver?where=news&sm=tab_pge&query=\"카카오페이\"&photo=0&field=0&pd=3&ds=2021.04.01&de=2021.05.01&cluster_rank=30&mynews=0&office_type=0&office_section_code=0&news_office_checked=&nso=so:r,p:from20190117to20200315,a:all&start=3201\n"
     ]
    },
    {
     "name": "stderr",
     "output_type": "stream",
     "text": [
      "100%|██████████████████████████████████████████████████████████████████████████████████| 80/80 [06:36<00:00,  4.95s/it]\n",
      "  2%|██                                                                                 | 2/80 [00:10<06:36,  5.08s/it]\n"
     ]
    },
    {
     "name": "stdout",
     "output_type": "stream",
     "text": [
      "https://search.naver.com/search.naver?where=news&sm=tab_pge&query=\"카카오페이\"&photo=0&field=0&pd=3&ds=2021.05.01&de=2021.06.01&cluster_rank=30&mynews=0&office_type=0&office_section_code=0&news_office_checked=&nso=so:r,p:from20190117to20200315,a:all&start=821\n"
     ]
    },
    {
     "name": "stderr",
     "output_type": "stream",
     "text": [
      " 45%|████████████████████████████████████▉                                             | 36/80 [01:35<01:56,  2.64s/it]\n"
     ]
    },
    {
     "name": "stdout",
     "output_type": "stream",
     "text": [
      "https://search.naver.com/search.naver?where=news&sm=tab_pge&query=\"카카오페이\"&photo=0&field=0&pd=3&ds=2021.05.01&de=2021.06.01&cluster_rank=30&mynews=0&office_type=0&office_section_code=0&news_office_checked=&nso=so:r,p:from20190117to20200315,a:all&start=1961\n"
     ]
    },
    {
     "name": "stderr",
     "output_type": "stream",
     "text": [
      "  0%|                                                                                           | 0/80 [00:00<?, ?it/s]\n"
     ]
    },
    {
     "name": "stdout",
     "output_type": "stream",
     "text": [
      "https://search.naver.com/search.naver?where=news&sm=tab_pge&query=\"카카오페이\"&photo=0&field=0&pd=3&ds=2021.05.01&de=2021.06.01&cluster_rank=30&mynews=0&office_type=0&office_section_code=0&news_office_checked=&nso=so:r,p:from20190117to20200315,a:all&start=2401\n"
     ]
    },
    {
     "name": "stderr",
     "output_type": "stream",
     "text": [
      "  0%|                                                                                           | 0/80 [00:00<?, ?it/s]\n"
     ]
    },
    {
     "name": "stdout",
     "output_type": "stream",
     "text": [
      "https://search.naver.com/search.naver?where=news&sm=tab_pge&query=\"카카오페이\"&photo=0&field=0&pd=3&ds=2021.05.01&de=2021.06.01&cluster_rank=30&mynews=0&office_type=0&office_section_code=0&news_office_checked=&nso=so:r,p:from20190117to20200315,a:all&start=3201\n"
     ]
    },
    {
     "name": "stderr",
     "output_type": "stream",
     "text": [
      "100%|██████████████████████████████████████████████████████████████████████████████████| 80/80 [06:38<00:00,  4.98s/it]\n",
      "100%|██████████████████████████████████████████████████████████████████████████████████| 80/80 [05:17<00:00,  3.97s/it]\n",
      "100%|██████████████████████████████████████████████████████████████████████████████████| 80/80 [05:18<00:00,  3.98s/it]\n",
      " 51%|██████████████████████████████████████████                                        | 41/80 [01:17<01:13,  1.89s/it]\n"
     ]
    },
    {
     "name": "stdout",
     "output_type": "stream",
     "text": [
      "https://search.naver.com/search.naver?where=news&sm=tab_pge&query=\"카카오페이\"&photo=0&field=0&pd=3&ds=2021.06.01&de=2021.07.01&cluster_rank=30&mynews=0&office_type=0&office_section_code=0&news_office_checked=&nso=so:r,p:from20190117to20200315,a:all&start=2811\n"
     ]
    },
    {
     "name": "stderr",
     "output_type": "stream",
     "text": [
      "  0%|                                                                                           | 0/80 [00:00<?, ?it/s]\n"
     ]
    },
    {
     "name": "stdout",
     "output_type": "stream",
     "text": [
      "https://search.naver.com/search.naver?where=news&sm=tab_pge&query=\"카카오페이\"&photo=0&field=0&pd=3&ds=2021.06.01&de=2021.07.01&cluster_rank=30&mynews=0&office_type=0&office_section_code=0&news_office_checked=&nso=so:r,p:from20190117to20200315,a:all&start=3201\n"
     ]
    },
    {
     "name": "stderr",
     "output_type": "stream",
     "text": [
      "100%|██████████████████████████████████████████████████████████████████████████████████| 80/80 [06:00<00:00,  4.50s/it]\n",
      "100%|██████████████████████████████████████████████████████████████████████████████████| 80/80 [05:43<00:00,  4.29s/it]\n",
      "100%|██████████████████████████████████████████████████████████████████████████████████| 80/80 [05:48<00:00,  4.36s/it]\n",
      "100%|██████████████████████████████████████████████████████████████████████████████████| 80/80 [02:55<00:00,  2.20s/it]\n",
      "  4%|███                                                                                | 3/80 [00:06<02:37,  2.04s/it]\n"
     ]
    },
    {
     "name": "stdout",
     "output_type": "stream",
     "text": [
      "https://search.naver.com/search.naver?where=news&sm=tab_pge&query=\"카카오페이\"&photo=0&field=0&pd=3&ds=2021.07.01&de=2021.08.01&cluster_rank=30&mynews=0&office_type=0&office_section_code=0&news_office_checked=&nso=so:r,p:from20190117to20200315,a:all&start=3231\n"
     ]
    },
    {
     "name": "stderr",
     "output_type": "stream",
     "text": [
      "100%|██████████████████████████████████████████████████████████████████████████████████| 80/80 [05:44<00:00,  4.31s/it]\n",
      "100%|██████████████████████████████████████████████████████████████████████████████████| 80/80 [05:16<00:00,  3.95s/it]\n",
      "100%|██████████████████████████████████████████████████████████████████████████████████| 80/80 [04:58<00:00,  3.73s/it]\n",
      " 25%|████████████████████▌                                                             | 20/80 [00:46<02:18,  2.30s/it]\n"
     ]
    },
    {
     "name": "stdout",
     "output_type": "stream",
     "text": [
      "https://search.naver.com/search.naver?where=news&sm=tab_pge&query=\"카카오페이\"&photo=0&field=0&pd=3&ds=2021.08.01&de=2021.09.01&cluster_rank=30&mynews=0&office_type=0&office_section_code=0&news_office_checked=&nso=so:r,p:from20190117to20200315,a:all&start=2601\n"
     ]
    },
    {
     "name": "stderr",
     "output_type": "stream",
     "text": [
      "  0%|                                                                                           | 0/80 [00:00<?, ?it/s]\n"
     ]
    },
    {
     "name": "stdout",
     "output_type": "stream",
     "text": [
      "https://search.naver.com/search.naver?where=news&sm=tab_pge&query=\"카카오페이\"&photo=0&field=0&pd=3&ds=2021.08.01&de=2021.09.01&cluster_rank=30&mynews=0&office_type=0&office_section_code=0&news_office_checked=&nso=so:r,p:from20190117to20200315,a:all&start=3201\n"
     ]
    },
    {
     "name": "stderr",
     "output_type": "stream",
     "text": [
      "100%|██████████████████████████████████████████████████████████████████████████████████| 80/80 [06:39<00:00,  5.00s/it]\n",
      " 29%|███████████████████████▌                                                          | 23/80 [01:42<04:13,  4.44s/it]\n"
     ]
    },
    {
     "name": "stdout",
     "output_type": "stream",
     "text": [
      "https://search.naver.com/search.naver?where=news&sm=tab_pge&query=\"카카오페이\"&photo=0&field=0&pd=3&ds=2021.09.01&de=2021.10.01&cluster_rank=30&mynews=0&office_type=0&office_section_code=0&news_office_checked=&nso=so:r,p:from20190117to20200315,a:all&start=1031\n"
     ]
    },
    {
     "name": "stderr",
     "output_type": "stream",
     "text": [
      "100%|██████████████████████████████████████████████████████████████████████████████████| 80/80 [06:14<00:00,  4.68s/it]\n",
      "100%|██████████████████████████████████████████████████████████████████████████████████| 80/80 [05:01<00:00,  3.76s/it]\n",
      " 45%|████████████████████████████████████▉                                             | 36/80 [00:52<01:04,  1.47s/it]\n"
     ]
    },
    {
     "name": "stdout",
     "output_type": "stream",
     "text": [
      "https://search.naver.com/search.naver?where=news&sm=tab_pge&query=\"카카오페이\"&photo=0&field=0&pd=3&ds=2021.09.01&de=2021.10.01&cluster_rank=30&mynews=0&office_type=0&office_section_code=0&news_office_checked=&nso=so:r,p:from20190117to20200315,a:all&start=3561\n"
     ]
    },
    {
     "name": "stderr",
     "output_type": "stream",
     "text": [
      "100%|██████████████████████████████████████████████████████████████████████████████████| 80/80 [07:58<00:00,  5.98s/it]\n",
      "100%|██████████████████████████████████████████████████████████████████████████████████| 80/80 [04:14<00:00,  3.18s/it]\n",
      " 38%|██████████████████████████████▊                                                   | 30/80 [02:05<03:28,  4.18s/it]\n"
     ]
    },
    {
     "name": "stdout",
     "output_type": "stream",
     "text": [
      "https://search.naver.com/search.naver?where=news&sm=tab_pge&query=\"카카오페이\"&photo=0&field=0&pd=3&ds=2021.10.01&de=2021.11.01&cluster_rank=30&mynews=0&office_type=0&office_section_code=0&news_office_checked=&nso=so:r,p:from20190117to20200315,a:all&start=1901\n"
     ]
    },
    {
     "name": "stderr",
     "output_type": "stream",
     "text": [
      " 70%|█████████████████████████████████████████████████████████▍                        | 56/80 [02:48<01:12,  3.02s/it]\n"
     ]
    },
    {
     "name": "stdout",
     "output_type": "stream",
     "text": [
      "https://search.naver.com/search.naver?where=news&sm=tab_pge&query=\"카카오페이\"&photo=0&field=0&pd=3&ds=2021.10.01&de=2021.11.01&cluster_rank=30&mynews=0&office_type=0&office_section_code=0&news_office_checked=&nso=so:r,p:from20190117to20200315,a:all&start=2961\n"
     ]
    },
    {
     "name": "stderr",
     "output_type": "stream",
     "text": [
      "  0%|                                                                                           | 0/80 [00:00<?, ?it/s]\n"
     ]
    },
    {
     "name": "stdout",
     "output_type": "stream",
     "text": [
      "https://search.naver.com/search.naver?where=news&sm=tab_pge&query=\"카카오페이\"&photo=0&field=0&pd=3&ds=2021.10.01&de=2021.11.01&cluster_rank=30&mynews=0&office_type=0&office_section_code=0&news_office_checked=&nso=so:r,p:from20190117to20200315,a:all&start=3201\n"
     ]
    },
    {
     "name": "stderr",
     "output_type": "stream",
     "text": [
      "100%|██████████████████████████████████████████████████████████████████████████████████| 80/80 [06:21<00:00,  4.76s/it]\n",
      "100%|██████████████████████████████████████████████████████████████████████████████████| 80/80 [06:10<00:00,  4.63s/it]\n",
      "100%|██████████████████████████████████████████████████████████████████████████████████| 80/80 [04:59<00:00,  3.74s/it]\n",
      "100%|██████████████████████████████████████████████████████████████████████████████████| 80/80 [05:49<00:00,  4.36s/it]\n",
      "100%|██████████████████████████████████████████████████████████████████████████████████| 80/80 [04:43<00:00,  3.54s/it]\n",
      "100%|██████████████████████████████████████████████████████████████████████████████████| 80/80 [06:10<00:00,  4.64s/it]\n",
      "100%|██████████████████████████████████████████████████████████████████████████████████| 80/80 [05:30<00:00,  4.13s/it]\n",
      "100%|██████████████████████████████████████████████████████████████████████████████████| 80/80 [05:31<00:00,  4.15s/it]\n",
      " 61%|██████████████████████████████████████████████████▏                               | 49/80 [01:30<00:57,  1.84s/it]\n"
     ]
    },
    {
     "name": "stdout",
     "output_type": "stream",
     "text": [
      "https://search.naver.com/search.naver?where=news&sm=tab_pge&query=\"카카오페이\"&photo=0&field=0&pd=3&ds=2021.12.01&de=2021.12.31&cluster_rank=30&mynews=0&office_type=0&office_section_code=0&news_office_checked=&nso=so:r,p:from20190117to20200315,a:all&start=2891\n"
     ]
    },
    {
     "name": "stderr",
     "output_type": "stream",
     "text": [
      "  0%|                                                                                           | 0/80 [00:00<?, ?it/s]\n"
     ]
    },
    {
     "name": "stdout",
     "output_type": "stream",
     "text": [
      "https://search.naver.com/search.naver?where=news&sm=tab_pge&query=\"카카오페이\"&photo=0&field=0&pd=3&ds=2021.12.01&de=2021.12.31&cluster_rank=30&mynews=0&office_type=0&office_section_code=0&news_office_checked=&nso=so:r,p:from20190117to20200315,a:all&start=3201\n"
     ]
    },
    {
     "name": "stderr",
     "output_type": "stream",
     "text": [
      "100%|██████████████████████████████████████████████████████████████████████████████████| 80/80 [08:01<00:00,  6.02s/it]\n",
      "100%|██████████████████████████████████████████████████████████████████████████████████| 80/80 [06:13<00:00,  4.67s/it]\n",
      "100%|██████████████████████████████████████████████████████████████████████████████████| 80/80 [05:25<00:00,  4.07s/it]\n",
      "100%|██████████████████████████████████████████████████████████████████████████████████| 80/80 [06:44<00:00,  5.05s/it]\n",
      "100%|██████████████████████████████████████████████████████████████████████████████████| 80/80 [04:45<00:00,  3.57s/it]\n",
      "100%|██████████████████████████████████████████████████████████████████████████████████| 80/80 [06:43<00:00,  5.05s/it]\n",
      " 84%|████████████████████████████████████████████████████████████████████▋             | 67/80 [04:49<00:56,  4.32s/it]\n"
     ]
    },
    {
     "name": "stdout",
     "output_type": "stream",
     "text": [
      "https://search.naver.com/search.naver?where=news&sm=tab_pge&query=\"카카오페이\"&photo=0&field=0&pd=3&ds=2022.02.01&de=2022.03.01&cluster_rank=30&mynews=0&office_type=0&office_section_code=0&news_office_checked=&nso=so:r,p:from20190117to20200315,a:all&start=1471\n"
     ]
    },
    {
     "name": "stderr",
     "output_type": "stream",
     "text": [
      " 84%|████████████████████████████████████████████████████████████████████▋             | 67/80 [03:23<00:39,  3.03s/it]\n"
     ]
    },
    {
     "name": "stdout",
     "output_type": "stream",
     "text": [
      "https://search.naver.com/search.naver?where=news&sm=tab_pge&query=\"카카오페이\"&photo=0&field=0&pd=3&ds=2022.02.01&de=2022.03.01&cluster_rank=30&mynews=0&office_type=0&office_section_code=0&news_office_checked=&nso=so:r,p:from20190117to20200315,a:all&start=2271\n"
     ]
    },
    {
     "name": "stderr",
     "output_type": "stream",
     "text": [
      "  0%|                                                                                           | 0/80 [00:00<?, ?it/s]\n"
     ]
    },
    {
     "name": "stdout",
     "output_type": "stream",
     "text": [
      "https://search.naver.com/search.naver?where=news&sm=tab_pge&query=\"카카오페이\"&photo=0&field=0&pd=3&ds=2022.02.01&de=2022.03.01&cluster_rank=30&mynews=0&office_type=0&office_section_code=0&news_office_checked=&nso=so:r,p:from20190117to20200315,a:all&start=2401\n"
     ]
    },
    {
     "name": "stderr",
     "output_type": "stream",
     "text": [
      "  0%|                                                                                           | 0/80 [00:00<?, ?it/s]\n"
     ]
    },
    {
     "name": "stdout",
     "output_type": "stream",
     "text": [
      "https://search.naver.com/search.naver?where=news&sm=tab_pge&query=\"카카오페이\"&photo=0&field=0&pd=3&ds=2022.02.01&de=2022.03.01&cluster_rank=30&mynews=0&office_type=0&office_section_code=0&news_office_checked=&nso=so:r,p:from20190117to20200315,a:all&start=3201\n"
     ]
    },
    {
     "name": "stderr",
     "output_type": "stream",
     "text": [
      "100%|██████████████████████████████████████████████████████████████████████████████████| 80/80 [05:51<00:00,  4.39s/it]\n",
      " 59%|████████████████████████████████████████████████▏                                 | 47/80 [03:46<02:39,  4.82s/it]\n"
     ]
    },
    {
     "name": "stdout",
     "output_type": "stream",
     "text": [
      "https://search.naver.com/search.naver?where=news&sm=tab_pge&query=\"카카오페이\"&photo=0&field=0&pd=3&ds=2022.03.01&de=2022.04.01&cluster_rank=30&mynews=0&office_type=0&office_section_code=0&news_office_checked=&nso=so:r,p:from20190117to20200315,a:all&start=1271\n"
     ]
    },
    {
     "name": "stderr",
     "output_type": "stream",
     "text": [
      " 14%|███████████▎                                                                      | 11/80 [00:16<01:43,  1.50s/it]\n"
     ]
    },
    {
     "name": "stdout",
     "output_type": "stream",
     "text": [
      "https://search.naver.com/search.naver?where=news&sm=tab_pge&query=\"카카오페이\"&photo=0&field=0&pd=3&ds=2022.03.01&de=2022.04.01&cluster_rank=30&mynews=0&office_type=0&office_section_code=0&news_office_checked=&nso=so:r,p:from20190117to20200315,a:all&start=1711\n"
     ]
    },
    {
     "name": "stderr",
     "output_type": "stream",
     "text": [
      "  0%|                                                                                           | 0/80 [00:00<?, ?it/s]\n"
     ]
    },
    {
     "name": "stdout",
     "output_type": "stream",
     "text": [
      "https://search.naver.com/search.naver?where=news&sm=tab_pge&query=\"카카오페이\"&photo=0&field=0&pd=3&ds=2022.03.01&de=2022.04.01&cluster_rank=30&mynews=0&office_type=0&office_section_code=0&news_office_checked=&nso=so:r,p:from20190117to20200315,a:all&start=2401\n"
     ]
    },
    {
     "name": "stderr",
     "output_type": "stream",
     "text": [
      "  0%|                                                                                           | 0/80 [00:00<?, ?it/s]\n"
     ]
    },
    {
     "name": "stdout",
     "output_type": "stream",
     "text": [
      "https://search.naver.com/search.naver?where=news&sm=tab_pge&query=\"카카오페이\"&photo=0&field=0&pd=3&ds=2022.03.01&de=2022.04.01&cluster_rank=30&mynews=0&office_type=0&office_section_code=0&news_office_checked=&nso=so:r,p:from20190117to20200315,a:all&start=3201\n"
     ]
    },
    {
     "name": "stderr",
     "output_type": "stream",
     "text": [
      "100%|██████████████████████████████████████████████████████████████████████████████████| 80/80 [05:58<00:00,  4.48s/it]\n",
      "100%|██████████████████████████████████████████████████████████████████████████████████| 80/80 [05:54<00:00,  4.43s/it]\n",
      " 26%|█████████████████████▌                                                            | 21/80 [01:07<03:11,  3.24s/it]\n"
     ]
    },
    {
     "name": "stdout",
     "output_type": "stream",
     "text": [
      "https://search.naver.com/search.naver?where=news&sm=tab_pge&query=\"카카오페이\"&photo=0&field=0&pd=3&ds=2022.04.01&de=2022.05.01&cluster_rank=30&mynews=0&office_type=0&office_section_code=0&news_office_checked=&nso=so:r,p:from20190117to20200315,a:all&start=1811\n"
     ]
    },
    {
     "name": "stderr",
     "output_type": "stream",
     "text": [
      "  0%|                                                                                           | 0/80 [00:00<?, ?it/s]\n"
     ]
    },
    {
     "name": "stdout",
     "output_type": "stream",
     "text": [
      "https://search.naver.com/search.naver?where=news&sm=tab_pge&query=\"카카오페이\"&photo=0&field=0&pd=3&ds=2022.04.01&de=2022.05.01&cluster_rank=30&mynews=0&office_type=0&office_section_code=0&news_office_checked=&nso=so:r,p:from20190117to20200315,a:all&start=2401\n"
     ]
    },
    {
     "name": "stderr",
     "output_type": "stream",
     "text": [
      "  0%|                                                                                           | 0/80 [00:00<?, ?it/s]\n"
     ]
    },
    {
     "name": "stdout",
     "output_type": "stream",
     "text": [
      "https://search.naver.com/search.naver?where=news&sm=tab_pge&query=\"카카오페이\"&photo=0&field=0&pd=3&ds=2022.04.01&de=2022.05.01&cluster_rank=30&mynews=0&office_type=0&office_section_code=0&news_office_checked=&nso=so:r,p:from20190117to20200315,a:all&start=3201\n"
     ]
    },
    {
     "name": "stderr",
     "output_type": "stream",
     "text": [
      "100%|██████████████████████████████████████████████████████████████████████████████████| 80/80 [06:44<00:00,  5.05s/it]\n",
      "100%|██████████████████████████████████████████████████████████████████████████████████| 80/80 [05:27<00:00,  4.09s/it]\n",
      "100%|██████████████████████████████████████████████████████████████████████████████████| 80/80 [04:19<00:00,  3.25s/it]\n",
      "  6%|█████▏                                                                             | 5/80 [00:04<01:13,  1.02it/s]\n"
     ]
    },
    {
     "name": "stdout",
     "output_type": "stream",
     "text": [
      "https://search.naver.com/search.naver?where=news&sm=tab_pge&query=\"카카오페이\"&photo=0&field=0&pd=3&ds=2022.05.01&de=2022.06.01&cluster_rank=30&mynews=0&office_type=0&office_section_code=0&news_office_checked=&nso=so:r,p:from20190117to20200315,a:all&start=2451\n"
     ]
    },
    {
     "name": "stderr",
     "output_type": "stream",
     "text": [
      "  0%|                                                                                           | 0/80 [00:00<?, ?it/s]\n"
     ]
    },
    {
     "name": "stdout",
     "output_type": "stream",
     "text": [
      "https://search.naver.com/search.naver?where=news&sm=tab_pge&query=\"카카오페이\"&photo=0&field=0&pd=3&ds=2022.05.01&de=2022.06.01&cluster_rank=30&mynews=0&office_type=0&office_section_code=0&news_office_checked=&nso=so:r,p:from20190117to20200315,a:all&start=3201\n"
     ]
    },
    {
     "name": "stderr",
     "output_type": "stream",
     "text": [
      "100%|██████████████████████████████████████████████████████████████████████████████████| 80/80 [06:18<00:00,  4.73s/it]\n",
      "100%|██████████████████████████████████████████████████████████████████████████████████| 80/80 [05:22<00:00,  4.04s/it]\n",
      "100%|██████████████████████████████████████████████████████████████████████████████████| 80/80 [04:36<00:00,  3.45s/it]\n",
      " 24%|███████████████████▍                                                              | 19/80 [00:27<01:27,  1.43s/it]\n"
     ]
    },
    {
     "name": "stdout",
     "output_type": "stream",
     "text": [
      "https://search.naver.com/search.naver?where=news&sm=tab_pge&query=\"카카오페이\"&photo=0&field=0&pd=3&ds=2022.06.01&de=2022.07.01&cluster_rank=30&mynews=0&office_type=0&office_section_code=0&news_office_checked=&nso=so:r,p:from20190117to20200315,a:all&start=2591\n"
     ]
    },
    {
     "name": "stderr",
     "output_type": "stream",
     "text": [
      "  0%|                                                                                           | 0/80 [00:00<?, ?it/s]\n"
     ]
    },
    {
     "name": "stdout",
     "output_type": "stream",
     "text": [
      "https://search.naver.com/search.naver?where=news&sm=tab_pge&query=\"카카오페이\"&photo=0&field=0&pd=3&ds=2022.06.01&de=2022.07.01&cluster_rank=30&mynews=0&office_type=0&office_section_code=0&news_office_checked=&nso=so:r,p:from20190117to20200315,a:all&start=3201\n"
     ]
    },
    {
     "name": "stderr",
     "output_type": "stream",
     "text": [
      "100%|██████████████████████████████████████████████████████████████████████████████████| 80/80 [06:17<00:00,  4.72s/it]\n",
      "100%|██████████████████████████████████████████████████████████████████████████████████| 80/80 [05:13<00:00,  3.92s/it]\n",
      " 56%|██████████████████████████████████████████████▏                                   | 45/80 [01:35<01:14,  2.13s/it]\n"
     ]
    },
    {
     "name": "stdout",
     "output_type": "stream",
     "text": [
      "https://search.naver.com/search.naver?where=news&sm=tab_pge&query=\"카카오페이\"&photo=0&field=0&pd=3&ds=2022.07.01&de=2022.08.01&cluster_rank=30&mynews=0&office_type=0&office_section_code=0&news_office_checked=&nso=so:r,p:from20190117to20200315,a:all&start=2051\n"
     ]
    },
    {
     "name": "stderr",
     "output_type": "stream",
     "text": [
      "  0%|                                                                                           | 0/80 [00:00<?, ?it/s]\n"
     ]
    },
    {
     "name": "stdout",
     "output_type": "stream",
     "text": [
      "https://search.naver.com/search.naver?where=news&sm=tab_pge&query=\"카카오페이\"&photo=0&field=0&pd=3&ds=2022.07.01&de=2022.08.01&cluster_rank=30&mynews=0&office_type=0&office_section_code=0&news_office_checked=&nso=so:r,p:from20190117to20200315,a:all&start=2401\n"
     ]
    },
    {
     "name": "stderr",
     "output_type": "stream",
     "text": [
      "  0%|                                                                                           | 0/80 [00:00<?, ?it/s]\n"
     ]
    },
    {
     "name": "stdout",
     "output_type": "stream",
     "text": [
      "https://search.naver.com/search.naver?where=news&sm=tab_pge&query=\"카카오페이\"&photo=0&field=0&pd=3&ds=2022.07.01&de=2022.08.01&cluster_rank=30&mynews=0&office_type=0&office_section_code=0&news_office_checked=&nso=so:r,p:from20190117to20200315,a:all&start=3201\n"
     ]
    },
    {
     "name": "stderr",
     "output_type": "stream",
     "text": [
      "100%|██████████████████████████████████████████████████████████████████████████████████| 80/80 [06:08<00:00,  4.61s/it]\n",
      "100%|██████████████████████████████████████████████████████████████████████████████████| 80/80 [06:17<00:00,  4.71s/it]\n",
      " 92%|███████████████████████████████████████████████████████████████████████████▊      | 74/80 [03:07<00:15,  2.53s/it]\n"
     ]
    },
    {
     "name": "stdout",
     "output_type": "stream",
     "text": [
      "https://search.naver.com/search.naver?where=news&sm=tab_pge&query=\"카카오페이\"&photo=0&field=0&pd=3&ds=2022.08.01&de=2022.09.01&cluster_rank=30&mynews=0&office_type=0&office_section_code=0&news_office_checked=&nso=so:r,p:from20190117to20200315,a:all&start=2341\n"
     ]
    },
    {
     "name": "stderr",
     "output_type": "stream",
     "text": [
      "  0%|                                                                                           | 0/80 [00:00<?, ?it/s]\n"
     ]
    },
    {
     "name": "stdout",
     "output_type": "stream",
     "text": [
      "https://search.naver.com/search.naver?where=news&sm=tab_pge&query=\"카카오페이\"&photo=0&field=0&pd=3&ds=2022.08.01&de=2022.09.01&cluster_rank=30&mynews=0&office_type=0&office_section_code=0&news_office_checked=&nso=so:r,p:from20190117to20200315,a:all&start=2401\n"
     ]
    },
    {
     "name": "stderr",
     "output_type": "stream",
     "text": [
      "  0%|                                                                                           | 0/80 [00:00<?, ?it/s]\n"
     ]
    },
    {
     "name": "stdout",
     "output_type": "stream",
     "text": [
      "https://search.naver.com/search.naver?where=news&sm=tab_pge&query=\"카카오페이\"&photo=0&field=0&pd=3&ds=2022.08.01&de=2022.09.01&cluster_rank=30&mynews=0&office_type=0&office_section_code=0&news_office_checked=&nso=so:r,p:from20190117to20200315,a:all&start=3201\n"
     ]
    },
    {
     "name": "stderr",
     "output_type": "stream",
     "text": [
      "100%|██████████████████████████████████████████████████████████████████████████████████| 80/80 [05:39<00:00,  4.24s/it]\n",
      "100%|██████████████████████████████████████████████████████████████████████████████████| 80/80 [05:29<00:00,  4.12s/it]\n",
      " 52%|███████████████████████████████████████████                                       | 42/80 [01:42<01:33,  2.45s/it]\n"
     ]
    },
    {
     "name": "stdout",
     "output_type": "stream",
     "text": [
      "https://search.naver.com/search.naver?where=news&sm=tab_pge&query=\"카카오페이\"&photo=0&field=0&pd=3&ds=2022.09.01&de=2022.10.01&cluster_rank=30&mynews=0&office_type=0&office_section_code=0&news_office_checked=&nso=so:r,p:from20190117to20200315,a:all&start=2021\n"
     ]
    },
    {
     "name": "stderr",
     "output_type": "stream",
     "text": [
      "  0%|                                                                                           | 0/80 [00:00<?, ?it/s]\n"
     ]
    },
    {
     "name": "stdout",
     "output_type": "stream",
     "text": [
      "https://search.naver.com/search.naver?where=news&sm=tab_pge&query=\"카카오페이\"&photo=0&field=0&pd=3&ds=2022.09.01&de=2022.10.01&cluster_rank=30&mynews=0&office_type=0&office_section_code=0&news_office_checked=&nso=so:r,p:from20190117to20200315,a:all&start=2401\n"
     ]
    },
    {
     "name": "stderr",
     "output_type": "stream",
     "text": [
      "  0%|                                                                                           | 0/80 [00:00<?, ?it/s]\n"
     ]
    },
    {
     "name": "stdout",
     "output_type": "stream",
     "text": [
      "https://search.naver.com/search.naver?where=news&sm=tab_pge&query=\"카카오페이\"&photo=0&field=0&pd=3&ds=2022.09.01&de=2022.10.01&cluster_rank=30&mynews=0&office_type=0&office_section_code=0&news_office_checked=&nso=so:r,p:from20190117to20200315,a:all&start=3201\n"
     ]
    },
    {
     "name": "stderr",
     "output_type": "stream",
     "text": [
      "100%|██████████████████████████████████████████████████████████████████████████████████| 80/80 [09:26<00:00,  7.08s/it]\n",
      "100%|██████████████████████████████████████████████████████████████████████████████████| 80/80 [07:04<00:00,  5.31s/it]\n",
      " 18%|██████████████▎                                                                   | 14/80 [01:16<06:02,  5.49s/it]\n"
     ]
    },
    {
     "name": "stdout",
     "output_type": "stream",
     "text": [
      "https://search.naver.com/search.naver?where=news&sm=tab_pge&query=\"카카오페이\"&photo=0&field=0&pd=3&ds=2022.10.01&de=2022.11.01&cluster_rank=30&mynews=0&office_type=0&office_section_code=0&news_office_checked=&nso=so:r,p:from20190117to20200315,a:all&start=1741\n"
     ]
    },
    {
     "name": "stderr",
     "output_type": "stream",
     "text": [
      "100%|██████████████████████████████████████████████████████████████████████████████████| 80/80 [06:09<00:00,  4.61s/it]\n",
      "100%|██████████████████████████████████████████████████████████████████████████████████| 80/80 [04:36<00:00,  3.46s/it]\n",
      "100%|██████████████████████████████████████████████████████████████████████████████████| 80/80 [06:37<00:00,  4.97s/it]\n",
      "100%|██████████████████████████████████████████████████████████████████████████████████| 80/80 [05:02<00:00,  3.78s/it]\n",
      "100%|██████████████████████████████████████████████████████████████████████████████████| 80/80 [04:26<00:00,  3.34s/it]\n",
      "  5%|████▏                                                                              | 4/80 [00:03<01:05,  1.16it/s]\n"
     ]
    },
    {
     "name": "stdout",
     "output_type": "stream",
     "text": [
      "https://search.naver.com/search.naver?where=news&sm=tab_pge&query=\"카카오페이\"&photo=0&field=0&pd=3&ds=2022.11.01&de=2022.12.01&cluster_rank=30&mynews=0&office_type=0&office_section_code=0&news_office_checked=&nso=so:r,p:from20190117to20200315,a:all&start=2441\n"
     ]
    },
    {
     "name": "stderr",
     "output_type": "stream",
     "text": [
      "  0%|                                                                                           | 0/80 [00:00<?, ?it/s]\n"
     ]
    },
    {
     "name": "stdout",
     "output_type": "stream",
     "text": [
      "https://search.naver.com/search.naver?where=news&sm=tab_pge&query=\"카카오페이\"&photo=0&field=0&pd=3&ds=2022.11.01&de=2022.12.01&cluster_rank=30&mynews=0&office_type=0&office_section_code=0&news_office_checked=&nso=so:r,p:from20190117to20200315,a:all&start=3201\n"
     ]
    },
    {
     "name": "stderr",
     "output_type": "stream",
     "text": [
      "100%|██████████████████████████████████████████████████████████████████████████████████| 80/80 [05:51<00:00,  4.39s/it]\n",
      "100%|██████████████████████████████████████████████████████████████████████████████████| 80/80 [06:00<00:00,  4.51s/it]\n",
      " 19%|███████████████▍                                                                  | 15/80 [00:53<03:49,  3.54s/it]\n"
     ]
    },
    {
     "name": "stdout",
     "output_type": "stream",
     "text": [
      "https://search.naver.com/search.naver?where=news&sm=tab_pge&query=\"카카오페이\"&photo=0&field=0&pd=3&ds=2022.12.01&de=2022.12.31&cluster_rank=30&mynews=0&office_type=0&office_section_code=0&news_office_checked=&nso=so:r,p:from20190117to20200315,a:all&start=1751\n"
     ]
    },
    {
     "name": "stderr",
     "output_type": "stream",
     "text": [
      "  0%|                                                                                           | 0/80 [00:00<?, ?it/s]\n"
     ]
    },
    {
     "name": "stdout",
     "output_type": "stream",
     "text": [
      "https://search.naver.com/search.naver?where=news&sm=tab_pge&query=\"카카오페이\"&photo=0&field=0&pd=3&ds=2022.12.01&de=2022.12.31&cluster_rank=30&mynews=0&office_type=0&office_section_code=0&news_office_checked=&nso=so:r,p:from20190117to20200315,a:all&start=2401\n"
     ]
    },
    {
     "name": "stderr",
     "output_type": "stream",
     "text": [
      "  0%|                                                                                           | 0/80 [00:00<?, ?it/s]"
     ]
    },
    {
     "name": "stdout",
     "output_type": "stream",
     "text": [
      "https://search.naver.com/search.naver?where=news&sm=tab_pge&query=\"카카오페이\"&photo=0&field=0&pd=3&ds=2022.12.01&de=2022.12.31&cluster_rank=30&mynews=0&office_type=0&office_section_code=0&news_office_checked=&nso=so:r,p:from20190117to20200315,a:all&start=3201\n",
      "44080\n"
     ]
    },
    {
     "name": "stderr",
     "output_type": "stream",
     "text": [
      "\n"
     ]
    }
   ],
   "source": [
    "from pyvirtualdisplay import Display\n",
    "\n",
    "driver = webdriver.Chrome(ChromeDriverManager().install())\n",
    "driver.implicitly_wait(3)\n",
    "\n",
    "\n",
    "# selenium으로 검색 페이지 불러오기 #\n",
    "\n",
    "naver_news=[]\n",
    "\n",
    "for i in range(int(len(search_urls) / 400)):\n",
    "    lst = search_urls[i*400 : (i+1)*400]\n",
    "\n",
    "\n",
    "    for url in tqdm(lst):\n",
    "        driver.switch_to.window(driver.window_handles[0])\n",
    "        driver.get(url)\n",
    "        driver.implicitly_wait(0.5) #대기시간 변경 가능\n",
    "\n",
    "        # 네이버 기사 눌러서 제목 및 본문 가져오기#\n",
    "        # 네이버 기사가 있는 기사 css selector 모아오기\n",
    "        a = driver.find_elements(By.CSS_SELECTOR,'a.info')\n",
    "        for item in a:\n",
    "            driver.switch_to.window(driver.window_handles[0])\n",
    "            if item.text == '네이버뉴스':\n",
    "                item.click()\n",
    "                driver.implicitly_wait(0.5)\n",
    "                driver.switch_to.window(driver.window_handles[-1])\n",
    "                driver.implicitly_wait(0.5)\n",
    "                temp_url = driver.current_url\n",
    "                naver_news.append(temp_url)\n",
    "                driver.implicitly_wait(0.5)\n",
    "                driver.close()\n",
    "\n",
    "            else:\n",
    "                pass\n",
    "            \n",
    "        if len(a) < 10:\n",
    "            print(url)\n",
    "            break\n",
    "\n",
    "print(len(naver_news))"
   ]
  },
  {
   "cell_type": "code",
   "execution_count": null,
   "metadata": {},
   "outputs": [
    {
     "data": {
      "text/plain": [
       "44080"
      ]
     },
     "metadata": {},
     "output_type": "display_data"
    }
   ],
   "source": [
    "len(naver_news)"
   ]
  },
  {
   "cell_type": "code",
   "execution_count": null,
   "metadata": {},
   "outputs": [],
   "source": [
    "pd.DataFrame(naver_news).to_csv(\"./coupang_monthlyTop4000.csv\")"
   ]
  },
  {
   "cell_type": "code",
   "execution_count": null,
   "metadata": {},
   "outputs": [
    {
     "name": "stderr",
     "output_type": "stream",
     "text": [
      "100%|██████████████████████████████████████████████████████████████████████████| 44080/44080 [2:59:57<00:00,  4.08it/s]\n"
     ]
    }
   ],
   "source": [
    "headers = { \"User-Agent\": \"Mozilla/5.0 (Windows NT 10.0; Win64; x64) Chrome/98.0.4758.102\" }\n",
    "\n",
    "titles = []\n",
    "contents=[]\n",
    "for i in tqdm(naver_news):\n",
    "    #print(i)\n",
    "    original_html = requests.get(i,headers=headers)\n",
    "    html = BeautifulSoup(original_html.text, \"html.parser\")\n",
    "    # 검색결과확인시\n",
    "    #print(html)\n",
    "    \n",
    "    #뉴스 제목 가져오기\n",
    "    title = html.select(\"#ct > div.media_end_head.go_trans > div.media_end_head_title > h2\")\n",
    "    # list합치기\n",
    "    title = ''.join(str(title))\n",
    "    # html태그제거\n",
    "    pattern1 = '<[^>]*>'\n",
    "    title = re.sub(pattern=pattern1,repl='',string=title)\n",
    "    title = title.replace('[', \"\")\n",
    "    title = title.replace(']' , \"\")\n",
    "    title = title.replace('\"', '')\n",
    "    #print(title)\n",
    "    titles.append(title)\n",
    "\n",
    "    #뉴스 본문 가져오기\n",
    "\n",
    "    content = html.select(\"#dic_area\")\n",
    "\n",
    "    # 기사 텍스트만 가져오기\n",
    "    # list합치기\n",
    "    content = ''.join(str(content))\n",
    "    \n",
    "    #html태그제거 및 텍스트 다듬기\n",
    "    content = re.sub(pattern=pattern1,repl='',string=content)\n",
    "    pattern2 = \"\"\"[\\n\\n\\n\\n\\n// flash 오류를 우회하기 위한 함수 추가\\nfunction _flash_removeCallback() {}\"\"\"\n",
    "    content = content.replace(pattern2,'')\n",
    "    \n",
    "    #print(content)\n",
    "    contents.append(content)"
   ]
  },
  {
   "cell_type": "code",
   "execution_count": null,
   "metadata": {},
   "outputs": [],
   "source": [
    "news_data = pd.DataFrame([naver_news, titles, contents]).T"
   ]
  },
  {
   "cell_type": "code",
   "execution_count": null,
   "metadata": {},
   "outputs": [
    {
     "data": {
      "text/html": [
       "<div>\n",
       "<style scoped>\n",
       "    .dataframe tbody tr th:only-of-type {\n",
       "        vertical-align: middle;\n",
       "    }\n",
       "\n",
       "    .dataframe tbody tr th {\n",
       "        vertical-align: top;\n",
       "    }\n",
       "\n",
       "    .dataframe thead th {\n",
       "        text-align: right;\n",
       "    }\n",
       "</style>\n",
       "<table border=\"1\" class=\"dataframe\">\n",
       "  <thead>\n",
       "    <tr style=\"text-align: right;\">\n",
       "      <th></th>\n",
       "      <th>0</th>\n",
       "      <th>1</th>\n",
       "      <th>2</th>\n",
       "    </tr>\n",
       "  </thead>\n",
       "  <tbody>\n",
       "    <tr>\n",
       "      <th>0</th>\n",
       "      <td>https://n.news.naver.com/mnews/article/021/000...</td>\n",
       "      <td>카드업계도…‘모바일 페이’ 수수료 전쟁 시작된다</td>\n",
       "      <td>[\\n\\n\\n\\n\\n\\n간편결제 시장 日평균 2500억7개 카드사 결제대행업체 설립...</td>\n",
       "    </tr>\n",
       "    <tr>\n",
       "      <th>1</th>\n",
       "      <td>https://n.news.naver.com/mnews/article/015/000...</td>\n",
       "      <td>카카오페이도 소상공인에 '활짝'…결제 API 공개</td>\n",
       "      <td>[\\n쉽게 가져다 쓰는 오픈 플랫폼 전략\"온라인 결제시스템 도입 부담 덜 것\"\\n\\...</td>\n",
       "    </tr>\n",
       "    <tr>\n",
       "      <th>2</th>\n",
       "      <td>https://n.news.naver.com/mnews/article/421/000...</td>\n",
       "      <td>대한항공, 모바일 항공권 결제에 삼성페이 도입</td>\n",
       "      <td>[\\n\\n\\n\\n\\n대한항공이 도입한 온라인 결제시스템인 카카오페이와 페이코 서비스...</td>\n",
       "    </tr>\n",
       "    <tr>\n",
       "      <th>3</th>\n",
       "      <td>https://n.news.naver.com/mnews/article/001/000...</td>\n",
       "      <td>카카오페이로 세금납부 가능해진다…모바일 세금납부 확대</td>\n",
       "      <td>[\\n\\n\\n\\n\\n [연합뉴스TV제공]국세청, 전국 세무관서장 회의…종합소득세 전...</td>\n",
       "    </tr>\n",
       "    <tr>\n",
       "      <th>4</th>\n",
       "      <td>https://n.news.naver.com/mnews/article/001/000...</td>\n",
       "      <td>카카오페이, 외부 업체도 자유롭게 쓰세요</td>\n",
       "      <td>[\\n\\n\\n\\n\\n카카오페이 타이틀 화면 &amp;lt;&amp;lt;카카오 제공&amp;gt;&amp;gt;...</td>\n",
       "    </tr>\n",
       "    <tr>\n",
       "      <th>...</th>\n",
       "      <td>...</td>\n",
       "      <td>...</td>\n",
       "      <td>...</td>\n",
       "    </tr>\n",
       "    <tr>\n",
       "      <th>44075</th>\n",
       "      <td>https://n.news.naver.com/mnews/article/003/001...</td>\n",
       "      <td>횡성군, 연말연시 '희망 2023 나눔캠페인' 추진</td>\n",
       "      <td>[\\n기사내용 요약'함께하는 나눔, 지속가능한 강원'\\n\\n\\n\\n[횡성=뉴시스]이...</td>\n",
       "    </tr>\n",
       "    <tr>\n",
       "      <th>44076</th>\n",
       "      <td>https://n.news.naver.com/mnews/article/421/000...</td>\n",
       "      <td>청양군 “2022년 2기분 자동차세 내달 2일까지 납부하세요”</td>\n",
       "      <td>[\\n은행 현금자동출납기서 고지서없이 납부 가능\\n\\n\\n\\n청양군 청사 전경.(청...</td>\n",
       "    </tr>\n",
       "    <tr>\n",
       "      <th>44077</th>\n",
       "      <td>https://n.news.naver.com/mnews/article/421/000...</td>\n",
       "      <td>반갑다 코스피 2500…금리압력 약화로 석달만에 회복개장시황</td>\n",
       "      <td>[\\n지난 8월 이후 100여일만…네이버-카카오 등 성장주 강세 환율도 4개월여만에...</td>\n",
       "    </tr>\n",
       "    <tr>\n",
       "      <th>44078</th>\n",
       "      <td>https://n.news.naver.com/mnews/article/119/000...</td>\n",
       "      <td>고객 찾아가는 증권사...방문판매 서비스 본격화</td>\n",
       "      <td>[\\n증권사 PB가 보험사처럼 펀드상품 등 직접 판매“오래전 시스템 구축...파급력...</td>\n",
       "    </tr>\n",
       "    <tr>\n",
       "      <th>44079</th>\n",
       "      <td>https://n.news.naver.com/mnews/article/079/000...</td>\n",
       "      <td>'함께하는 나눔, 행복한 우리 경기'…희망 나눔 캠페인 시작</td>\n",
       "      <td>[\\n올해 목표액, 지난해보다 10% 높아진 307억원1% 성금 모금될 때마다 온도...</td>\n",
       "    </tr>\n",
       "  </tbody>\n",
       "</table>\n",
       "<p>44080 rows × 3 columns</p>\n",
       "</div>"
      ],
      "text/plain": [
       "                                                       0  \\\n",
       "0      https://n.news.naver.com/mnews/article/021/000...   \n",
       "1      https://n.news.naver.com/mnews/article/015/000...   \n",
       "2      https://n.news.naver.com/mnews/article/421/000...   \n",
       "3      https://n.news.naver.com/mnews/article/001/000...   \n",
       "4      https://n.news.naver.com/mnews/article/001/000...   \n",
       "...                                                  ...   \n",
       "44075  https://n.news.naver.com/mnews/article/003/001...   \n",
       "44076  https://n.news.naver.com/mnews/article/421/000...   \n",
       "44077  https://n.news.naver.com/mnews/article/421/000...   \n",
       "44078  https://n.news.naver.com/mnews/article/119/000...   \n",
       "44079  https://n.news.naver.com/mnews/article/079/000...   \n",
       "\n",
       "                                        1  \\\n",
       "0              카드업계도…‘모바일 페이’ 수수료 전쟁 시작된다   \n",
       "1             카카오페이도 소상공인에 '활짝'…결제 API 공개   \n",
       "2               대한항공, 모바일 항공권 결제에 삼성페이 도입   \n",
       "3           카카오페이로 세금납부 가능해진다…모바일 세금납부 확대   \n",
       "4                  카카오페이, 외부 업체도 자유롭게 쓰세요   \n",
       "...                                   ...   \n",
       "44075        횡성군, 연말연시 '희망 2023 나눔캠페인' 추진   \n",
       "44076  청양군 “2022년 2기분 자동차세 내달 2일까지 납부하세요”   \n",
       "44077   반갑다 코스피 2500…금리압력 약화로 석달만에 회복개장시황   \n",
       "44078          고객 찾아가는 증권사...방문판매 서비스 본격화   \n",
       "44079   '함께하는 나눔, 행복한 우리 경기'…희망 나눔 캠페인 시작   \n",
       "\n",
       "                                                       2  \n",
       "0      [\\n\\n\\n\\n\\n\\n간편결제 시장 日평균 2500억7개 카드사 결제대행업체 설립...  \n",
       "1      [\\n쉽게 가져다 쓰는 오픈 플랫폼 전략\"온라인 결제시스템 도입 부담 덜 것\"\\n\\...  \n",
       "2      [\\n\\n\\n\\n\\n대한항공이 도입한 온라인 결제시스템인 카카오페이와 페이코 서비스...  \n",
       "3      [\\n\\n\\n\\n\\n [연합뉴스TV제공]국세청, 전국 세무관서장 회의…종합소득세 전...  \n",
       "4      [\\n\\n\\n\\n\\n카카오페이 타이틀 화면 &lt;&lt;카카오 제공&gt;&gt;...  \n",
       "...                                                  ...  \n",
       "44075  [\\n기사내용 요약'함께하는 나눔, 지속가능한 강원'\\n\\n\\n\\n[횡성=뉴시스]이...  \n",
       "44076  [\\n은행 현금자동출납기서 고지서없이 납부 가능\\n\\n\\n\\n청양군 청사 전경.(청...  \n",
       "44077  [\\n지난 8월 이후 100여일만…네이버-카카오 등 성장주 강세 환율도 4개월여만에...  \n",
       "44078  [\\n증권사 PB가 보험사처럼 펀드상품 등 직접 판매“오래전 시스템 구축...파급력...  \n",
       "44079  [\\n올해 목표액, 지난해보다 10% 높아진 307억원1% 성금 모금될 때마다 온도...  \n",
       "\n",
       "[44080 rows x 3 columns]"
      ]
     },
     "metadata": {},
     "output_type": "display_data"
    }
   ],
   "source": [
    "news_data"
   ]
  },
  {
   "cell_type": "code",
   "execution_count": null,
   "metadata": {},
   "outputs": [],
   "source": [
    "news_data.to_csv(\"./coupang_naver_monthlyTop4000_body.csv\")"
   ]
  }
 ],
 "metadata": {
  "language_info": {
   "name": "python"
  },
  "orig_nbformat": 4
 },
 "nbformat": 4,
 "nbformat_minor": 2
}
